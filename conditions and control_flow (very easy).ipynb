{
 "cells": [
  {
   "cell_type": "code",
   "execution_count": 1,
   "id": "2d1b19f3",
   "metadata": {},
   "outputs": [],
   "source": [
    "#1 Create a function that takes a boolean variable flag and returns it as a string.\n",
    "#Examples\n",
    "#bool_to_string(True) ➞ \"True\"\n",
    "#bool_to_string(False) ➞ \"False\"\n",
    "\n",
    "def bool_to_string(flag):\n",
    "    return flag"
   ]
  },
  {
   "cell_type": "code",
   "execution_count": 2,
   "id": "13d15dd2",
   "metadata": {},
   "outputs": [
    {
     "data": {
      "text/plain": [
       "'True'"
      ]
     },
     "execution_count": 2,
     "metadata": {},
     "output_type": "execute_result"
    }
   ],
   "source": [
    "a=\"True\"\n",
    "b=bool_to_string(a)\n",
    "str(b)"
   ]
  },
  {
   "cell_type": "code",
   "execution_count": 3,
   "id": "99eab70b",
   "metadata": {},
   "outputs": [],
   "source": [
    "#2 Create a function that returns True when num1 is equal to num2; otherwise return False.\n",
    "#Examples\n",
    "#is_same_num(4, 8) ➞ False\n",
    "#is_same_num(2, 2) ➞  True\n",
    "#is_same_num(2, \"2\") ➞ False\n",
    "\n",
    "def f1(num1,num2):\n",
    "    if num1==num2:\n",
    "        return \"True\"\n",
    "    else:\n",
    "        return \"False\""
   ]
  },
  {
   "cell_type": "code",
   "execution_count": 4,
   "id": "4b71b661",
   "metadata": {},
   "outputs": [
    {
     "name": "stdout",
     "output_type": "stream",
     "text": [
      "False\n",
      "True\n"
     ]
    }
   ],
   "source": [
    "print(f1(3,\"3\"))\n",
    "print(f1(3,3))"
   ]
  },
  {
   "cell_type": "code",
   "execution_count": 5,
   "id": "bebcfb7c",
   "metadata": {},
   "outputs": [],
   "source": [
    "#3 Create a function that takes a number as its only argument and returns True if it's less than or equal to zero, otherwise return False.\n",
    "#Examples\n",
    "#less_than_or_equal_to_zero(5) ➞ False\n",
    "#less_than_or_equal_to_zero(0) ➞ True\n",
    "#less_than_or_equal_to_zero(-2) ➞ True\n",
    " \n",
    "def f2(num):\n",
    "    return num<=0\n"
   ]
  },
  {
   "cell_type": "code",
   "execution_count": 6,
   "id": "c0717268",
   "metadata": {},
   "outputs": [
    {
     "name": "stdout",
     "output_type": "stream",
     "text": [
      "True\n",
      "False\n"
     ]
    }
   ],
   "source": [
    "print(f2(-3))\n",
    "print(f2(5))"
   ]
  },
  {
   "cell_type": "code",
   "execution_count": 7,
   "id": "10a6f456",
   "metadata": {},
   "outputs": [],
   "source": [
    "#4 Emmy has written a function that returns a greeting to users. However, she's in love with Mubashir, and would like to greet him slightly differently. She added a special case in her function, but she made a mistake. Can you help her?\n",
    "#Examples\n",
    "#greeting(\"Matt\") ➞ \"Hello, Matt!\"\n",
    "#greeting(\"Helen\") ➞ \"Hello, Helen!\"\n",
    "#greeting(\"Mubashir\") ➞ \"Hello, my Love!\"\n",
    "\n",
    "def greeting(name):\n",
    "    if name==\"Mubashir\":\n",
    "        return \"Hello, my love\"\n",
    "    else:\n",
    "        return \"Hello, \"+name+\"!\""
   ]
  },
  {
   "cell_type": "code",
   "execution_count": 8,
   "id": "4ed4a3ab",
   "metadata": {},
   "outputs": [
    {
     "name": "stdout",
     "output_type": "stream",
     "text": [
      "Hello, Matt!\n",
      "Hello, Helen!\n",
      "Hello, my love\n"
     ]
    }
   ],
   "source": [
    "print(greeting(\"Matt\"))\n",
    "print(greeting(\"Helen\"))\n",
    "print(greeting(\"Mubashir\"))"
   ]
  },
  {
   "cell_type": "code",
   "execution_count": 9,
   "id": "e2aaa873",
   "metadata": {},
   "outputs": [],
   "source": [
    "#5 Create a function that takes two arguments. Both arguments are integers, a and b. Return True if one of them is 10 or if their sum is 10.\n",
    "#Examples\n",
    "#makes10(9, 10) ➞ True\n",
    "#makes10(9, 9) ➞ False\n",
    "#makes10(1, 9) ➞ True\n",
    "\n",
    "def values(a,b):\n",
    "    if a==10 or b==10 or a+b==10:\n",
    "        return True\n",
    "    else: \n",
    "        return False"
   ]
  },
  {
   "cell_type": "code",
   "execution_count": 10,
   "id": "e75df86d",
   "metadata": {},
   "outputs": [
    {
     "name": "stdout",
     "output_type": "stream",
     "text": [
      "True\n",
      "False\n"
     ]
    }
   ],
   "source": [
    "print(values(2,8))\n",
    "print(values(1,7))"
   ]
  },
  {
   "cell_type": "code",
   "execution_count": 11,
   "id": "3a57fdfe",
   "metadata": {},
   "outputs": [],
   "source": [
    "#6 Create a function that takes three arguments prob, prize, pay and returns True if prob * prize > pay; otherwise return False.\n",
    "#To illustrate:profitable_gamble(0.2, 50, 9)\n",
    "#... should yield True, since the net profit is 1 (0.2 * 50 - 9), and 1 > 0.\n",
    "\n",
    "def profitable_gamble(prob,prize,pay):\n",
    "    if prob*prize>pay:\n",
    "        return True\n",
    "    else:\n",
    "        return False"
   ]
  },
  {
   "cell_type": "code",
   "execution_count": 12,
   "id": "6e509fa7",
   "metadata": {},
   "outputs": [
    {
     "data": {
      "text/plain": [
       "True"
      ]
     },
     "execution_count": 12,
     "metadata": {},
     "output_type": "execute_result"
    }
   ],
   "source": [
    "profitable_gamble(0.2,50,9)"
   ]
  },
  {
   "cell_type": "code",
   "execution_count": 13,
   "id": "4f8456e0",
   "metadata": {},
   "outputs": [],
   "source": [
    "#7 Create a function that takes an integer and returns True if it's divisible by 100, otherwise return False.\n",
    "#Examples\n",
    "#divisible(1) ➞ False\n",
    "#divisible(1000) ➞ True\n",
    "#divisible(100) ➞ True\n",
    "\n",
    "def divisible(x):\n",
    "    if x%100==0:\n",
    "        return True\n",
    "    else:\n",
    "        return False"
   ]
  },
  {
   "cell_type": "code",
   "execution_count": 14,
   "id": "5ebffa67",
   "metadata": {},
   "outputs": [
    {
     "name": "stdout",
     "output_type": "stream",
     "text": [
      "True\n",
      "False\n"
     ]
    }
   ],
   "source": [
    "print(divisible(300))\n",
    "print(divisible(345))"
   ]
  },
  {
   "cell_type": "code",
   "execution_count": 15,
   "id": "a8b08a21",
   "metadata": {},
   "outputs": [],
   "source": [
    "#8 Create a function that takes two strings as arguments and return either True or False depending on whether the total number of characters in the first string is equal to the total number of characters in the second string.\n",
    "#Examples\n",
    "#comp(\"AB\", \"CD\") ➞ True\n",
    "#comp(\"ABC\", \"DE\") ➞ False\n",
    "#comp(\"hello\", \"edabit\") ➞ False\n",
    "\n",
    "def hello(x,y):\n",
    "    if len(x)==len(y):\n",
    "        return True\n",
    "    else:\n",
    "        return False"
   ]
  },
  {
   "cell_type": "code",
   "execution_count": 16,
   "id": "e625899d",
   "metadata": {},
   "outputs": [
    {
     "name": "stdout",
     "output_type": "stream",
     "text": [
      "True\n",
      "False\n"
     ]
    }
   ],
   "source": [
    "print(hello(\"ab\",\"cd\"))\n",
    "print(hello(\"abc\",\"de\"))"
   ]
  },
  {
   "cell_type": "code",
   "execution_count": 17,
   "id": "8ade1c2f",
   "metadata": {},
   "outputs": [],
   "source": [
    "#9 Given a string, return True if its length is even or False if the length is odd.\n",
    "#Examples\n",
    "#odd_or_even(\"apples\") ➞ True\n",
    "# The word \"apples\" has 6 characters.\n",
    "# 6 is an even number, so the program outputs True.\n",
    "\n",
    "#odd_or_even(\"pears\") ➞ False\n",
    "# \"pears\" has 5 letters, and 5 is odd.\n",
    "# Therefore the program outputs False.\n",
    "\n",
    "def s(name):\n",
    "    if len(name)%2==0:\n",
    "        return True\n",
    "    else:\n",
    "        return False"
   ]
  },
  {
   "cell_type": "code",
   "execution_count": 18,
   "id": "a133b931",
   "metadata": {},
   "outputs": [
    {
     "name": "stdout",
     "output_type": "stream",
     "text": [
      "True\n",
      "False\n"
     ]
    }
   ],
   "source": [
    "print(s(\"varshini\"))\n",
    "print(s(\"tommy\"))"
   ]
  },
  {
   "cell_type": "code",
   "execution_count": 19,
   "id": "8b0e04fb",
   "metadata": {},
   "outputs": [],
   "source": [
    "#10 Create a function that takes a string; we'll say that the front is the first three characters of the string. If the string length is less than three characters, the front is whatever is there. Return a new string, which is three copies of the front.\n",
    "#Examples\n",
    "#front3(\"Python\") ➞ \"PytPytPyt\"\n",
    "#front3(\"Cucumber\") ➞ \"CucCucCuc\"\n",
    "#front3(\"bioshock\") ➞ \"biobiobio\"\n",
    " \n",
    "def string(front):\n",
    "    if len(front)>3:\n",
    "        return (front[:3]*3)\n",
    "    else:\n",
    "        return front\n"
   ]
  },
  {
   "cell_type": "code",
   "execution_count": 20,
   "id": "892022ac",
   "metadata": {},
   "outputs": [
    {
     "name": "stdout",
     "output_type": "stream",
     "text": [
      "varvarvar\n",
      "cat\n"
     ]
    }
   ],
   "source": [
    "print(string(\"varshini\"))\n",
    "print(string(\"cat\"))"
   ]
  },
  {
   "cell_type": "code",
   "execution_count": 30,
   "id": "ae79109c",
   "metadata": {},
   "outputs": [],
   "source": [
    "#11 Write a function that returns True if the given integer is even, and False if it's odd.\n",
    "\n",
    "def f1(num):\n",
    "    if num%2==0:\n",
    "        return \"True\"\n",
    "    else:\n",
    "        return \"False\""
   ]
  },
  {
   "cell_type": "code",
   "execution_count": 31,
   "id": "4bfa0a99",
   "metadata": {},
   "outputs": [
    {
     "name": "stdout",
     "output_type": "stream",
     "text": [
      "False\n",
      "True\n"
     ]
    }
   ],
   "source": [
    "print(f1(34545))\n",
    "print(f1(8578))"
   ]
  },
  {
   "cell_type": "code",
   "execution_count": 28,
   "id": "75284356",
   "metadata": {},
   "outputs": [],
   "source": [
    "#12 Create a function that takes a number as an argument and returns \"even\" for even numbers and \"odd\" for odd numbers.\n",
    "\n",
    "\n",
    "def f1(num):\n",
    "    if num%2==0:\n",
    "        return \"even\"\n",
    "    else:\n",
    "        return \"odd\"\n",
    "\n"
   ]
  },
  {
   "cell_type": "code",
   "execution_count": 29,
   "id": "7a7c6654",
   "metadata": {},
   "outputs": [
    {
     "name": "stdout",
     "output_type": "stream",
     "text": [
      "even\n",
      "odd\n"
     ]
    }
   ],
   "source": [
    "print(f1(43568))\n",
    "print(f1(4365))"
   ]
  },
  {
   "cell_type": "code",
   "execution_count": 32,
   "id": "6afe4bd4",
   "metadata": {},
   "outputs": [],
   "source": [
    "#13 Create a function that takes in a word and determines whether or not it is plural. A plural word is one that ends in \"s\".\n",
    "\n",
    "def plural(word):\n",
    "    if word[-1]==\"s\":\n",
    "        return \"True\"\n",
    "    else:\n",
    "        return \"False\""
   ]
  },
  {
   "cell_type": "code",
   "execution_count": 33,
   "id": "09d9a6ab",
   "metadata": {},
   "outputs": [
    {
     "name": "stdout",
     "output_type": "stream",
     "text": [
      "False\n",
      "True\n"
     ]
    }
   ],
   "source": [
    "print(plural(\"ball\"))\n",
    "print(plural(\"ants\"))"
   ]
  },
  {
   "cell_type": "code",
   "execution_count": 34,
   "id": "31ad0b62",
   "metadata": {},
   "outputs": [],
   "source": [
    "#14 Create a function that takes a string (a random name). If the last character of the name is an \"n\", return True, otherwise return False.\n",
    "\n",
    "def s(name):\n",
    "    if name[-1]==\"n\":\n",
    "        return \"True\"\n",
    "    else:\n",
    "        return \"False\""
   ]
  },
  {
   "cell_type": "code",
   "execution_count": 35,
   "id": "6d091213",
   "metadata": {},
   "outputs": [
    {
     "name": "stdout",
     "output_type": "stream",
     "text": [
      "False\n",
      "True\n"
     ]
    }
   ],
   "source": [
    "print(s(\"sdhjs\"))\n",
    "print(s(\"cjndgn\"))"
   ]
  },
  {
   "cell_type": "code",
   "execution_count": 39,
   "id": "717919ee",
   "metadata": {},
   "outputs": [],
   "source": [
    "#15 The packaging system is running wild! The candy is lying loose all over in the warehouse, the cereal is missing, and bread is stuffed in a bottle. What is going on here? The candy should be in plastic and the bread should be in a bag. The packaging machine is running the get_container() function to retrieve the container of a product. But something is not right...\n",
    "#Examples\n",
    "#get_container(\"Bread\") ➞ \"bag\"\n",
    "#get_container(\"Beer\") ➞ \"bottle\"\n",
    "#get_container(\"Candy\") ➞ \"plastic\"\n",
    "#get_container(\"Cheese\") ➞ None\n",
    "\n",
    "def get_container(product):\n",
    "    matches = {\"Bread\" : \"bottle\",\"Milk\" : \"bottle\",\"Beer\" : \"bottle\",\"Eggs\" : \"carton\",\"Cerials\" : \"box\",\"Candy\" : None,\"Cheese\" : None}\n",
    "    return matches[product]"
   ]
  },
  {
   "cell_type": "code",
   "execution_count": 40,
   "id": "f3254320",
   "metadata": {},
   "outputs": [
    {
     "name": "stdout",
     "output_type": "stream",
     "text": [
      "bag\n",
      "bottle\n",
      "plastic\n",
      "None\n"
     ]
    }
   ],
   "source": [
    "print(packing(\"bread\"))\n",
    "print(packing(\"beer\"))\n",
    "print(packing(\"candy\"))\n",
    "print(packing(\"cheese\"))"
   ]
  },
  {
   "cell_type": "code",
   "execution_count": 42,
   "id": "ec9e511d",
   "metadata": {},
   "outputs": [],
   "source": [
    "#16 Create a function that returns the opposite of the given boolean, as a number.\n",
    "\n",
    "def f1(x):\n",
    "    if x==\"True\" or x==1:\n",
    "        return 0\n",
    "    elif x==\"False\" or x==0:\n",
    "        return 1\n",
    "    "
   ]
  },
  {
   "cell_type": "code",
   "execution_count": 45,
   "id": "adebe01f",
   "metadata": {},
   "outputs": [
    {
     "name": "stdout",
     "output_type": "stream",
     "text": [
      "0\n",
      "1\n"
     ]
    }
   ],
   "source": [
    "print(f1(True))\n",
    "print(f1(0))"
   ]
  },
  {
   "cell_type": "code",
   "execution_count": 46,
   "id": "960c9130",
   "metadata": {},
   "outputs": [],
   "source": [
    "#17 Write a function that accepts base (decimal), height (decimal) and shape (\"triangle\", \"parallelogram\") as input and calculates the area of that shape.\n",
    "\n",
    "def area(base,height):\n",
    "    return 1/2*base*height\n",
    "def area1(base,height):\n",
    "     return base*height  "
   ]
  },
  {
   "cell_type": "code",
   "execution_count": 47,
   "id": "1b102317",
   "metadata": {},
   "outputs": [
    {
     "name": "stdout",
     "output_type": "stream",
     "text": [
      "area of triangle is: 3.0\n",
      "area of parallelogram is: 48\n"
     ]
    }
   ],
   "source": [
    "print(\"area of triangle is:\",area(2,3))\n",
    "print(\"area of parallelogram is:\",area1(8,6))"
   ]
  },
  {
   "cell_type": "code",
   "execution_count": 48,
   "id": "c5b1b293",
   "metadata": {},
   "outputs": [],
   "source": [
    "#18 You will need to write three unfinished logic gates. Continue to write the three logic gates: AND, OR, and NOT.\n",
    "\n",
    "def logical1(l,m):\n",
    "    if l==m==1 :\n",
    "        return 1\n",
    "    elif l==m==0:\n",
    "        return 0\n",
    "def logical2(l1,m1):\n",
    "    if l1==m1==1:\n",
    "        return 1\n",
    "    elif l1==1 or m1==0:\n",
    "        return 1\n",
    "def logical3(l2):\n",
    "    if l2!=0:\n",
    "        return 1\n",
    "    else:\n",
    "        return 0"
   ]
  },
  {
   "cell_type": "code",
   "execution_count": 49,
   "id": "c782e9b2",
   "metadata": {},
   "outputs": [
    {
     "name": "stdout",
     "output_type": "stream",
     "text": [
      "1\n",
      "0\n",
      "1\n",
      "1\n",
      "1\n",
      "0\n"
     ]
    }
   ],
   "source": [
    "print(logical1(1,1))\n",
    "print(logical1(0,0))\n",
    "print(logical2(1,1))\n",
    "print(logical2(1,0))\n",
    "print(logical3(1))\n",
    "print(logical3(0))"
   ]
  },
  {
   "cell_type": "code",
   "execution_count": 50,
   "id": "de47bb75",
   "metadata": {},
   "outputs": [],
   "source": [
    "#19 A bartender is writing a simple program to determine whether he should serve drinks to someone. He only serves drinks to people 18 and older and when he's not on break. Given the person's age, and whether break time is in session, create a function which returns whether he should serve drinks.\n",
    "\n",
    "def drinks(age):\n",
    "    if age>=18:\n",
    "        return \"should_serve_drinks,True\"\n",
    "    else:\n",
    "        return \"should_serve_drinks,False\""
   ]
  },
  {
   "cell_type": "code",
   "execution_count": 51,
   "id": "7e0e8789",
   "metadata": {},
   "outputs": [
    {
     "name": "stdout",
     "output_type": "stream",
     "text": [
      "should_serve_drinks,True\n",
      "should_serve_drinks,False\n"
     ]
    }
   ],
   "source": [
    "print(drinks(26))\n",
    "print(drinks(17))"
   ]
  },
  {
   "cell_type": "code",
   "execution_count": 55,
   "id": "5d579e32",
   "metadata": {},
   "outputs": [],
   "source": [
    "#20 Write a function that returns the string \"even\" if the given integer is even, and the string \"odd\" if it's odd\n",
    "\n",
    "def parity(n):\n",
    "    if n%2==0:\n",
    "        return \"even\"\n",
    "    else:\n",
    "        return \"odd\"\n"
   ]
  },
  {
   "cell_type": "code",
   "execution_count": 57,
   "id": "2693ddc7",
   "metadata": {},
   "outputs": [
    {
     "name": "stdout",
     "output_type": "stream",
     "text": [
      "odd\n",
      "even\n"
     ]
    }
   ],
   "source": [
    "print(parity(9))\n",
    "print(parity(8))"
   ]
  },
  {
   "cell_type": "code",
   "execution_count": 68,
   "id": "173cc47f",
   "metadata": {},
   "outputs": [],
   "source": [
    "#21 If given argument txt is not a string, return Not A String !!\n",
    "#Examples\n",
    "#repeat_string(\"Matt\", 3) ➞ \"MattMattMatt\"\n",
    "#repeat_string(1990, 7) ➞ \"Not A String !!\"\n",
    "\n",
    "def string(text,n):\n",
    "    if text!=str(text):\n",
    "        return \"not a string\"\n",
    "    elif text==str(text):\n",
    "        return text*n\n",
    "    "
   ]
  },
  {
   "cell_type": "code",
   "execution_count": 69,
   "id": "7358ab56",
   "metadata": {},
   "outputs": [
    {
     "name": "stdout",
     "output_type": "stream",
     "text": [
      "mattmattmattmatt\n",
      "not a string\n"
     ]
    }
   ],
   "source": [
    "print(string(\"matt\",4))\n",
    "print(string(56,2))"
   ]
  },
  {
   "cell_type": "code",
   "execution_count": 21,
   "id": "2aa37c67",
   "metadata": {},
   "outputs": [],
   "source": [
    "#22 A taxi journey costs $3 for the first kilometer travelled. However, all kilometers travelled after that will cost $2 each.\n",
    "#Create a function which returns the distance that the taxi must've travelled, given the cost as a parameter.\n",
    "\n",
    "def dis(cost):\n",
    "    remaining_cost = cost - 3\n",
    "    additional_kilometers = remaining_cost \n",
    "    distance = additional_kilometers + 1\n",
    "    return distance"
   ]
  },
  {
   "cell_type": "code",
   "execution_count": 22,
   "id": "83cabdd4",
   "metadata": {},
   "outputs": [
    {
     "name": "stdout",
     "output_type": "stream",
     "text": [
      "1\n",
      "7\n",
      "3\n"
     ]
    }
   ],
   "source": [
    "print(dis(3))  \n",
    "print(dis(9))  \n",
    "print(dis(5)) "
   ]
  },
  {
   "cell_type": "code",
   "execution_count": 23,
   "id": "d5e17494",
   "metadata": {},
   "outputs": [],
   "source": [
    "#23 a list that contains the fulcrum \"f\", the effort \"e\", and the load \"l\", write a function that determines whether or not the list shows a first class lever, second class lever, or a third class lever.\n",
    "#Examples\n",
    "#determine_lever([\"e\", \"f\", \"l\"]) ➞ \"first class lever\"\n",
    "#determine_lever([\"e\", \"l\", \"f\"]) ➞ \"second class lever\"\n",
    "#determine_lever([\"f\", \"e\", \"l\"]) ➞ \"third class lever\"\n",
    "\n",
    "def f1(x):\n",
    "    if x.index(\"f\")==1:\n",
    "        return \"first class lever\"\n",
    "    elif x.index(\"f\")==2:\n",
    "        return \"second class lever\"\n",
    "    elif x.index(\"f\")==0:\n",
    "        return \"third class lever\"\n",
    "    else:\n",
    "        return \"invaild lever congifuration\"\n",
    "        "
   ]
  },
  {
   "cell_type": "code",
   "execution_count": 25,
   "id": "3fb7c6cc",
   "metadata": {},
   "outputs": [
    {
     "name": "stdout",
     "output_type": "stream",
     "text": [
      "first class lever\n",
      "third class lever\n",
      "second class lever\n"
     ]
    }
   ],
   "source": [
    "print(f1([\"e\",\"f\",\"l\"]))\n",
    "print(f1([\"f\",\"\",\"l\"]))\n",
    "print(f1([\"e\",\"l\",\"f\"]))"
   ]
  },
  {
   "cell_type": "code",
   "execution_count": 44,
   "id": "e2de3cfe",
   "metadata": {},
   "outputs": [],
   "source": [
    "#24 Write a function that checks whether a person can watch an MA15+ rated movie. One of the following two conditions is required for admittance:\n",
    "#The person is at least 15 years old.\n",
    "#They have parental supervision.\n",
    "#The function accepts two parameters, age and is_supervised. Return a boolean.\n",
    "#Examples\n",
    "#accept_into_movie(14, True) ➞ True\n",
    "#accept_into_movie(14, False) ➞ False\n",
    "#accept_into_movie(16, False) ➞ True\n",
    "\n",
    "def f2(age,super_vision):\n",
    "    if age>=15 or super_vision:\n",
    "        return \"True\"\n",
    "    else:\n",
    "        return \"False\""
   ]
  },
  {
   "cell_type": "code",
   "execution_count": 46,
   "id": "e429640d",
   "metadata": {},
   "outputs": [
    {
     "name": "stdout",
     "output_type": "stream",
     "text": [
      "True\n",
      "False\n",
      "True\n"
     ]
    }
   ],
   "source": [
    "print(f2(14,True))\n",
    "print(f2(14,False))\n",
    "print(f2(16,False))"
   ]
  },
  {
   "cell_type": "code",
   "execution_count": 1,
   "id": "c4e92bfe",
   "metadata": {},
   "outputs": [],
   "source": [
    "#25 Create a function that returns a number, based on the string provided. Here is a list of all digits:\n",
    "#String\tNumber\n",
    "#\"one\"\t1\n",
    "#\"two\"\t2\n",
    "#\"three\"\t3\n",
    "#\"four\"\t4\n",
    "#\"five\"\t5\n",
    "#\"six\"\t6\n",
    "#\"seven\"\t7\n",
    "#\"eight\"\t8\n",
    "#\"nine\"\t9\n",
    "#\"zero\"\t0\n",
    "#Examples\n",
    "#word(\"one\") ➞ 1\n",
    "#word(\"two\") ➞ 2\n",
    "#word(\"nine\") ➞ 9\n",
    "\n",
    "def word(num):\n",
    "    n={\"one\":1,\"two\":2,\"three\":3,\"four\":4,\"five\":5,\"six\":6,\"seven\":7,\"eight\":8,\"nine\":9}\n",
    "    return n[num]"
   ]
  },
  {
   "cell_type": "code",
   "execution_count": 5,
   "id": "976528e0",
   "metadata": {},
   "outputs": [
    {
     "data": {
      "text/plain": [
       "8"
      ]
     },
     "execution_count": 5,
     "metadata": {},
     "output_type": "execute_result"
    }
   ],
   "source": [
    "word(\"eight\")"
   ]
  },
  {
   "cell_type": "code",
   "execution_count": 12,
   "id": "18641087",
   "metadata": {},
   "outputs": [],
   "source": [
    "#26 Write a function that uses the ternary operator to return \"yeah\" if b is True, and \"nope\" otherwise\n",
    "\n",
    "def oper(b):\n",
    "        return \"yeah\" if b else \"nope\"\n",
    "    "
   ]
  },
  {
   "cell_type": "code",
   "execution_count": 17,
   "id": "3420d122",
   "metadata": {},
   "outputs": [
    {
     "data": {
      "text/plain": [
       "'nope'"
      ]
     },
     "execution_count": 17,
     "metadata": {},
     "output_type": "execute_result"
    }
   ],
   "source": [
    "oper(False)"
   ]
  },
  {
   "cell_type": "code",
   "execution_count": 39,
   "id": "48903c61",
   "metadata": {},
   "outputs": [],
   "source": [
    "#27 Try finding your ancestors and offspring with code.\n",
    "#Create a function that takes a number x and a character y (\"m\" for male, \"f\" for female), and returns the name of an ancestor (m/f) or descendant (m/f).\n",
    "#If the number is negative, return the related ancestor.\n",
    "#If positive, return the related descendant.\n",
    "#You are generation 0. In the case of 0 (male or female), return \"me!\".\n",
    "#Examples\n",
    "#generation(2, \"f\") ➞ \"granddaughter\"\n",
    "#generation(-3, \"m\") ➞ \"great grandfather\"\n",
    "#generation(1, \"f\") ➞ \"daughter\"\n",
    "#Notes\n",
    "#Check the Resources tab for helpful hints.\n",
    "#Generation\tMale\tFemale\n",
    "#-3\tgreat grandfather\tgreat grandmother\n",
    "#-2\tgrandfather\tgrandmother\n",
    "#-1\tfather\tmother\n",
    "#0\tme!\tme!\n",
    "#1\tson\tdaughter\n",
    "#2\tgrandson\tgranddaughter\n",
    "#3\tgreat grandson\tgreat granddaughter\n",
    "\n",
    "def ancestors(num,char):\n",
    "    if char==\"female\":\n",
    "        x={-3:\"great grandmother\",-2:\"grandmother\",-1:\"mother\",0:\"me!\",1:\"daughter\",2:\"granddaughter\",3:\"great granddaughter\"}\n",
    "        return x[num]\n",
    "    elif char==\"male\":\n",
    "        x={-3:\"great grandfather\",-2:\"grandfather\",-1:\"father\",0:\"me!\",1:\"son\",2:\"grandson\",3:\"great grandson\"}\n",
    "        return x[num]\n",
    "    else: \n",
    "        return \"invalid\""
   ]
  },
  {
   "cell_type": "code",
   "execution_count": 40,
   "id": "eb14e2b0",
   "metadata": {},
   "outputs": [
    {
     "name": "stdout",
     "output_type": "stream",
     "text": [
      "great grandfather\n",
      "great grandmother\n",
      "grandson\n",
      "daughter\n",
      "me!\n",
      "invalid\n"
     ]
    }
   ],
   "source": [
    "print(ancestors(-3,\"male\"))\n",
    "print(ancestors(-3,\"female\"))\n",
    "print(ancestors(2,\"male\"))\n",
    "print(ancestors(1,\"female\"))\n",
    "print(ancestors(0,\"female\"))\n",
    "print(ancestors(8,\"trans\"))"
   ]
  },
  {
   "cell_type": "code",
   "execution_count": 47,
   "id": "cb3a6459",
   "metadata": {},
   "outputs": [],
   "source": [
    "#28 Create a function that returns the name of the man who can bring home the most items. The parameters are given as follows:\n",
    "#Bill's amount of money.\n",
    "#Will's amount of inventory space.\n",
    "#The item's price.\n",
    "#The item's size.\n",
    "#Worked Example\n",
    "#who_wins_tonight(40, 95, 5, 10) ➞ \"Will\"\n",
    "# The item costs 5 coins and takes up 10 inventory spaces.\n",
    "# Bill can only buy a maximum of 8 items (40 coins DIV 5 = 8).\n",
    "# Will can only bring home a maximum of 9 items. (95 inventory spaces DIV 10 = 9).\n",
    "# Will is the winner\n",
    "\n",
    "\n",
    "\n",
    "\n",
    "who_wins_tonight = lambda c,s,p,z:'Tie' if c//p == s//z else'Bill' if c//p > s//z else 'Will'"
   ]
  },
  {
   "cell_type": "code",
   "execution_count": 48,
   "id": "dc698f77",
   "metadata": {},
   "outputs": [
    {
     "name": "stdout",
     "output_type": "stream",
     "text": [
      "Bill\n",
      "Will\n",
      "Tie\n"
     ]
    }
   ],
   "source": [
    "print(who_wins_tonight(20,20,5,10))\n",
    "print(who_wins_tonight(10,2,20,1))\n",
    "print(who_wins_tonight(20,24,65,30))"
   ]
  },
  {
   "cell_type": "code",
   "execution_count": 58,
   "id": "ed4f5264",
   "metadata": {},
   "outputs": [],
   "source": [
    "#29 Create a function that validates whether a number n is within the bounds of lower and upper. Return False if n is not an integer.\n",
    "#Examples\n",
    "#int_within_bounds(3, 1, 9) ➞ True\n",
    "#int_within_bounds(6, 1, 6) ➞ False\n",
    "#int_within_bounds(4.5, 3, 8) ➞ False\n",
    "\n",
    "def f1(n1,x,n2):\n",
    "    if x in range(n1,n2):\n",
    "        return \"True\"\n",
    "    else:\n",
    "        return \"False\""
   ]
  },
  {
   "cell_type": "code",
   "execution_count": 59,
   "id": "5f4ae470",
   "metadata": {},
   "outputs": [
    {
     "name": "stdout",
     "output_type": "stream",
     "text": [
      "True\n",
      "True\n",
      "False\n"
     ]
    }
   ],
   "source": [
    "print(f1(0,3,9))\n",
    "print(f1(-34,-12,0))\n",
    "print(f1(0,0,0))"
   ]
  },
  {
   "cell_type": "code",
   "execution_count": 70,
   "id": "34c6bdf2",
   "metadata": {},
   "outputs": [],
   "source": [
    "#30 Write a function that returns the boolean True if the given number is zero, the string \"positive\" if the number is greater than zero or the string \"negative\" if it's smaller than zero.\n",
    "\n",
    "var=lambda x:True if x==0 else \"positive\" if x>0 else \"negative\"\n",
    "\n"
   ]
  },
  {
   "cell_type": "code",
   "execution_count": 76,
   "id": "dcb2beb3",
   "metadata": {},
   "outputs": [
    {
     "name": "stdout",
     "output_type": "stream",
     "text": [
      "negative\n",
      "positive\n",
      "True\n"
     ]
    }
   ],
   "source": [
    "print(var(-9879789676))\n",
    "print(var(47658778))\n",
    "print(var(0))"
   ]
  },
  {
   "cell_type": "code",
   "execution_count": 81,
   "id": "0c9d0b2b",
   "metadata": {},
   "outputs": [],
   "source": [
    "#31 Create a function that determines if the temp of the water is considered boiling or not. temp will be measured in Fahrenheit and Celsius.\n",
    "#Examples\n",
    "#is_boiling(\"212F\") ➞ True\n",
    "#is_boiling(\"100C\") ➞ True\n",
    "#is_boiling(\"0F\") ➞ False\n",
    "#Note:The boiling point of water is 212F in Fahrenheit and 100C in Celsius\n",
    "\n",
    "var1=lambda y:True if y==\"212F\" or y==\"100C\" else False"
   ]
  },
  {
   "cell_type": "code",
   "execution_count": 83,
   "id": "f3b27a0e",
   "metadata": {},
   "outputs": [
    {
     "data": {
      "text/plain": [
       "True"
      ]
     },
     "execution_count": 83,
     "metadata": {},
     "output_type": "execute_result"
    }
   ],
   "source": [
    "var1(\"212F\")"
   ]
  },
  {
   "cell_type": "code",
   "execution_count": 116,
   "id": "7b185b5e",
   "metadata": {},
   "outputs": [],
   "source": [
    "#32 Create a function that takes two arguments of a list of numbers lst and a constant number n and returns the n largest numbers from the given list.\n",
    "\n",
    "def f3(a,n):\n",
    "    x=sorted(a,reverse=True)\n",
    "    return x[:n]\n"
   ]
  },
  {
   "cell_type": "code",
   "execution_count": 119,
   "id": "2272a2fa",
   "metadata": {},
   "outputs": [
    {
     "name": "stdout",
     "output_type": "stream",
     "text": [
      "[5, 4, 3]\n",
      "[50]\n"
     ]
    }
   ],
   "source": [
    "print(f3([3,5,2,4],3))\n",
    "print(f3([34,12,50],1))\n"
   ]
  },
  {
   "cell_type": "code",
   "execution_count": 132,
   "id": "42ee3257",
   "metadata": {},
   "outputs": [],
   "source": [
    "#33 Create a function that takes a range object r, index i, and returns a list where the first element is the number of elements in the range object, and the second element is the element of the range object at the given index.\n",
    "\n",
    "def obj(r,i):\n",
    "    x = list(r)\n",
    "    num_elements = len(x)\n",
    "    if i < num_elements:\n",
    "        return [num_elements,x[i]]\n",
    "    else:\n",
    "        return []\n",
    "        \n"
   ]
  },
  {
   "cell_type": "code",
   "execution_count": 133,
   "id": "08d4f667",
   "metadata": {},
   "outputs": [
    {
     "data": {
      "text/plain": [
       "[2, 2]"
      ]
     },
     "execution_count": 133,
     "metadata": {},
     "output_type": "execute_result"
    }
   ],
   "source": [
    "obj(range(2,4),0)"
   ]
  },
  {
   "cell_type": "code",
   "execution_count": 6,
   "id": "c9847a9c",
   "metadata": {},
   "outputs": [],
   "source": [
    "#34 Write a function that returns the first truthy argument passed to the function. If all arguments are falsy, return the string \"not found\". The function will be called with a minimum of one and a maximum of four arguments: a, b, c, d.\n",
    "\n",
    "def fn(a,b,c):\n",
    "     return a or b or c\n"
   ]
  },
  {
   "cell_type": "code",
   "execution_count": 11,
   "id": "f56cc2d9",
   "metadata": {},
   "outputs": [
    {
     "data": {
      "text/plain": [
       "3"
      ]
     },
     "execution_count": 11,
     "metadata": {},
     "output_type": "execute_result"
    }
   ],
   "source": [
    "fn(3,8,6)"
   ]
  },
  {
   "cell_type": "code",
   "execution_count": 12,
   "id": "6306c0e5",
   "metadata": {},
   "outputs": [],
   "source": [
    "#35 Create a function that takes three numbers as arguments and returns True if it's a triangle and False if not.\n",
    "\n",
    "def triangle(a,b,c):\n",
    "    if a+b>c:\n",
    "        return \"True\"\n",
    "    else:\n",
    "        return \"False\""
   ]
  },
  {
   "cell_type": "code",
   "execution_count": 16,
   "id": "90f2ba6f",
   "metadata": {},
   "outputs": [
    {
     "name": "stdout",
     "output_type": "stream",
     "text": [
      "False\n",
      "True\n"
     ]
    }
   ],
   "source": [
    "print(triangle(4,3,8))\n",
    "print(triangle(5,6,8))"
   ]
  },
  {
   "cell_type": "code",
   "execution_count": 21,
   "id": "877e60ff",
   "metadata": {},
   "outputs": [],
   "source": [
    "#36 Create a function that takes an argument of any data type and returns 1 if it's truthy and 0 if it's falsy.\n",
    "\n",
    "def data(x):\n",
    "    if x==False or x==None or x==0 or x==[] or x=={} or x==\"\":\n",
    "        return 0\n",
    "    else:\n",
    "        return 1"
   ]
  },
  {
   "cell_type": "code",
   "execution_count": 25,
   "id": "3dd3aea2",
   "metadata": {},
   "outputs": [
    {
     "name": "stdout",
     "output_type": "stream",
     "text": [
      "0\n",
      "1\n"
     ]
    }
   ],
   "source": [
    "print(data(False))\n",
    "print(data(\"False\"))"
   ]
  },
  {
   "cell_type": "code",
   "execution_count": 39,
   "id": "788e708f",
   "metadata": {},
   "outputs": [],
   "source": [
    "#37 Write a function that returns True if both numbers are:\n",
    "#Smaller than 0, OR ...\n",
    "#Greater than 0, OR ...\n",
    "#Exactly 0\n",
    "#Otherwise, return False.\n",
    "\n",
    "def number(x,y):\n",
    "    if (x<0 and y<0):\n",
    "        return \"True\"\n",
    "    elif(x>0 and y>0): \n",
    "        return \"True\"\n",
    "    elif(x==0 and y==0):\n",
    "        return \"True\"\n",
    "    else:\n",
    "        return \"False\""
   ]
  },
  {
   "cell_type": "code",
   "execution_count": 40,
   "id": "7bd35968",
   "metadata": {},
   "outputs": [
    {
     "name": "stdout",
     "output_type": "stream",
     "text": [
      "True\n",
      "True\n",
      "False\n"
     ]
    }
   ],
   "source": [
    "print(number(-7,-4))\n",
    "print(number(0,0))\n",
    "print(number(-1,2))"
   ]
  },
  {
   "cell_type": "code",
   "execution_count": 53,
   "id": "bd04b921",
   "metadata": {},
   "outputs": [],
   "source": [
    "#38 Create a function that takes a list. This list will contain numbers represented as strings.\n",
    "#Your function should split this list into two new lists. The first list should contain only even numbers. The second only odd. Then, wrap these two lists in one main list and return it.\n",
    "#Return an empty list if there are no even numbers, or odd.\n",
    "\n",
    "def a_list(lst):\n",
    "    x= [[],[]]\n",
    "    for i in lst:\n",
    "        if i % 2 == 0:\n",
    "            x[0].append(i)\n",
    "        else:\n",
    "            x[1].append(i)\n",
    "    return x\n",
    "    "
   ]
  },
  {
   "cell_type": "code",
   "execution_count": 54,
   "id": "df5fc7f1",
   "metadata": {},
   "outputs": [
    {
     "data": {
      "text/plain": [
       "[[34, 76], [33, 45, 83]]"
      ]
     },
     "execution_count": 54,
     "metadata": {},
     "output_type": "execute_result"
    }
   ],
   "source": [
    "a_list([34,33,45,76,83])"
   ]
  },
  {
   "cell_type": "code",
   "execution_count": 64,
   "id": "7f236f6b",
   "metadata": {},
   "outputs": [],
   "source": [
    "#39 When creating variables, the variable name must always start with a letter and cannot contain spaces, though numbers and underscores are allowed to be contained in it also\n",
    "#Create a function which returns True if a given variable name is valid, otherwise return False.\n",
    "\n",
    "def var(x):\n",
    "    if x[0]==\"_\" or x[0].isalpha():\n",
    "        return \"True\"\n",
    "    else:\n",
    "        return \"False\"\n",
    "\n"
   ]
  },
  {
   "cell_type": "code",
   "execution_count": 67,
   "id": "aa915eea",
   "metadata": {},
   "outputs": [
    {
     "name": "stdout",
     "output_type": "stream",
     "text": [
      "True\n",
      "True\n",
      "False\n"
     ]
    }
   ],
   "source": [
    "print(var(\"_varshini\"))\n",
    "print(var(\"shiny\"))\n",
    "print(var(\"23var\"))"
   ]
  },
  {
   "cell_type": "code",
   "execution_count": 94,
   "id": "bc5a0a5c",
   "metadata": {},
   "outputs": [],
   "source": [
    "#40 In a board game, a piece may advance 1-6 tiles forward depending on the number rolled on a six-sided die. If you advance your piece onto the same tile as another player's piece, both of you earn a bonus.\n",
    "#Can you reach your friend's tile number in the next roll? Create a function that returns if it's possible to earn a bonus when you roll the die.\n",
    "\n",
    "def num(a,b):\n",
    "    for x in range(1,7):\n",
    "        y=a+x\n",
    "        if y==b:\n",
    "            return \"True\"\n",
    "    return \"False\""
   ]
  },
  {
   "cell_type": "code",
   "execution_count": 95,
   "id": "ced7a418",
   "metadata": {},
   "outputs": [
    {
     "name": "stdout",
     "output_type": "stream",
     "text": [
      "True\n",
      "False\n",
      "False\n"
     ]
    }
   ],
   "source": [
    "print(num(1,3))\n",
    "print(num(1,9))\n",
    "print(num(5,3))"
   ]
  },
  {
   "cell_type": "code",
   "execution_count": 99,
   "id": "c44679ed",
   "metadata": {},
   "outputs": [],
   "source": [
    "#41 Create a function that takes two integers and checks if they are equal\n",
    "\n",
    "def f1(x,y):\n",
    "    if x==y:\n",
    "        return \"True\"\n",
    "    else:\n",
    "        return \"False\""
   ]
  },
  {
   "cell_type": "code",
   "execution_count": 104,
   "id": "94d0f541",
   "metadata": {},
   "outputs": [
    {
     "name": "stdout",
     "output_type": "stream",
     "text": [
      "True\n",
      "False\n"
     ]
    }
   ],
   "source": [
    "print(f1(1,1))\n",
    "print(f1(168168,8258702))"
   ]
  },
  {
   "cell_type": "code",
   "execution_count": 109,
   "id": "f935a4c4",
   "metadata": {},
   "outputs": [],
   "source": [
    "#42 Write a function that takes a string name and a number num (either 0 or 1) and return \"Hello\" + name if num is 1, otherwise return \"Bye\" + name.\n",
    "\n",
    "def s(name,num):\n",
    "    if num==1:\n",
    "        return \"Hello \"+ name\n",
    "    elif num==0:\n",
    "        return \"bye \"+ name"
   ]
  },
  {
   "cell_type": "code",
   "execution_count": 113,
   "id": "0e4a76b0",
   "metadata": {},
   "outputs": [
    {
     "name": "stdout",
     "output_type": "stream",
     "text": [
      "Hello varshini\n",
      "bye varshini\n"
     ]
    }
   ],
   "source": [
    "print(s(\"varshini\",1))\n",
    "print(s(\"varshini\",0))\n"
   ]
  },
  {
   "cell_type": "code",
   "execution_count": 114,
   "id": "a6082356",
   "metadata": {},
   "outputs": [],
   "source": [
    "#43 Create a function that takes three number arguments — one number as an input and two additional numbers representing the endpoints of a closed range — and return the number limited to this range.\n",
    "#If the number falls within the range, the number should be returned.\n",
    "#If the number is less than the lower limit of the range, the lower limit should be returned.\n",
    "#If the number is greater than the upper limit of the range, the upper limit should be returned.\n",
    "\n",
    "def three(a,b,c):\n",
    "    if b<a:\n",
    "        return a\n",
    "    elif b>c:\n",
    "        return c\n",
    "    else:\n",
    "        return b\n",
    "\n"
   ]
  },
  {
   "cell_type": "code",
   "execution_count": 118,
   "id": "1eaa960c",
   "metadata": {},
   "outputs": [
    {
     "name": "stdout",
     "output_type": "stream",
     "text": [
      "-1\n",
      "5\n",
      "100\n"
     ]
    }
   ],
   "source": [
    "print(three(-1,-5,10))\n",
    "print(three(1,5,10))\n",
    "print(three(-100,200,100))"
   ]
  },
  {
   "cell_type": "code",
   "execution_count": 129,
   "id": "eb60d63e",
   "metadata": {},
   "outputs": [],
   "source": [
    "#44 Write a function that takes an integer and:\n",
    "#If the number is a multiple of 3, return \"Hello\".\n",
    "#If the number is a multiple of 5, return \"World\".\n",
    "#If the number is a multiple of both 3 and 5, return \"Hello World\".\n",
    "\n",
    "def mul(x):\n",
    "    if x%3==0 and x%5==0:\n",
    "        return \"Hello World\"\n",
    "    elif x%5==0:\n",
    "        return \"World\"\n",
    "    elif x%3==0:\n",
    "        return \"Hello \"\n"
   ]
  },
  {
   "cell_type": "code",
   "execution_count": 130,
   "id": "1a6ccf7b",
   "metadata": {},
   "outputs": [
    {
     "name": "stdout",
     "output_type": "stream",
     "text": [
      "Hello \n",
      "World\n",
      "Hello World\n"
     ]
    }
   ],
   "source": [
    "print(mul(9))\n",
    "print(mul(20))\n",
    "print(mul(30))"
   ]
  },
  {
   "cell_type": "code",
   "execution_count": 137,
   "id": "faae35ca",
   "metadata": {},
   "outputs": [],
   "source": [
    "#45 Edabit allows for markdown formatting, meaning that it's possible to format words by surrounding text with special characters. For example, to get bold text, you surround the text with double asterisks, like this **bold**.\n",
    "#Here is a list of the possible formatting options in Edabit and how to apply them:\n",
    "#**bold**\n",
    "#_italics_\n",
    "#`inline code`\n",
    "#~~strikethrough~~\n",
    "#Given a string and a style character, return the newly formatted string. Style characters are single letters that represent the different types of formatting.\n",
    "#For the purposes of this challenge, the style characters are as follows:\n",
    "#\"b\" is for bold\n",
    "#\"i\" is for italics\n",
    "#\"c\" is for inline code\n",
    "#\"s\" is for strikethrough\n",
    "\n",
    "def f1(style,char):\n",
    "    if char==\"b\":\n",
    "        return \"**\"+style+\"**\"\n",
    "    elif char==\"i\":\n",
    "        return \"_\"+style+\"_\"\n",
    "    elif char==\"c\":\n",
    "        return \"`\"+style+\"`\"\n",
    "    elif char==\"s\": \n",
    "        return \"~~\"+style+\"~~\"\n",
    "    "
   ]
  },
  {
   "cell_type": "code",
   "execution_count": 140,
   "id": "16601e9d",
   "metadata": {},
   "outputs": [
    {
     "name": "stdout",
     "output_type": "stream",
     "text": [
      "**varshini**\n",
      "_varshini_\n",
      "`varshini`\n",
      "~~varshini~~\n"
     ]
    }
   ],
   "source": [
    "print(f1(\"varshini\",\"b\"))\n",
    "print(f1(\"varshini\",\"i\"))\n",
    "print(f1(\"varshini\",\"c\"))\n",
    "print(f1(\"varshini\",\"s\"))"
   ]
  },
  {
   "cell_type": "code",
   "execution_count": 141,
   "id": "15803946",
   "metadata": {},
   "outputs": [],
   "source": [
    "#46 Darts is a target game played by throwing feathered darts at a circular board with numbered spaces. Our darts game is the simplest of all games. The score of a single turn is calculated based on the distance from the middle. You need to create a function that takes the dart location as two cartesian coordinates (x, y) and returns a score based on the distance from the middle, aka Bullseye (x=0, y=0).\n",
    "#Bullseye and inner circle scores = 10 points\n",
    "#Middle ring scores = 5 points\n",
    "#Outer ring scores = 1 point\n",
    "#Outside the target = 0 points\n",
    "#We play it simple so a dart in the double or treble ring counts as usual and does not affect the segment score.\n",
    "#Board and circle radius is as follows:\n",
    "#Board radius and outer circle radius = 10 units\n",
    "#Middle circle radius = 5 units\n",
    "#Inner circle radius = 1 unit\n",
    "#Short Description\n",
    "#Convert cartesian coordinates (x, y) to polar coordinates (R, phi) and return the score based on the R value. R > 10 gives 0 points, 10 >= R > 5 gives 1 point, 5 >= R > 1 gives 5 points, R <= 1 gives 10 points.\n",
    "#Examples\n",
    "#darts_scoring(0, 0) ➞ 10\n",
    "#darts_scoring(3, 2) ➞ 5\n",
    "#darts_scoring(0, -0.8) ➞ 10\n",
    "\n",
    "def game(x, y):\n",
    "    distance = (x ** 2 + y ** 2) ** 0.5\n",
    "    if distance <= 1:\n",
    "        return 10\n",
    "    elif distance <= 5:\n",
    "        return 5\n",
    "    elif distance <= 10:\n",
    "        return 1\n",
    "    else:\n",
    "        return 0"
   ]
  },
  {
   "cell_type": "code",
   "execution_count": 142,
   "id": "ad40f468",
   "metadata": {},
   "outputs": [
    {
     "name": "stdout",
     "output_type": "stream",
     "text": [
      "10\n",
      "5\n",
      "10\n"
     ]
    }
   ],
   "source": [
    "print(game(0,0))\n",
    "print(game(3,2))\n",
    "print(game(0,-0.5))"
   ]
  },
  {
   "cell_type": "code",
   "execution_count": 143,
   "id": "117226d4",
   "metadata": {},
   "outputs": [],
   "source": [
    "#47 Write a function that returns True if a year is a leap, otherwise return False.\n",
    "#A year is a \"leap year\" if it lasts 366 days, instead of 365 in a typical year. That extra day is added to the end of the shortest month, creating February 29.\n",
    "#A leap year occurs every four years, and will take place if the year is a multiple of four. The exception to this is a year at the beginning of a century (for example, 1900 or 2000), where the year must be divisible by 400 to be a leap year.\n",
    "#Look at the examples, and if you need help, look at the resources panel.\n",
    "#Examples\n",
    "#leap_year(1990) ➞ False\n",
    "#leap_year(1924) ➞ True\n",
    "#leap_year(2021) ➞ False\n",
    "\n",
    "def leap_year(year):\n",
    "    if year % 4 != 0:\n",
    "        return False\n",
    "    elif year % 100 != 0:\n",
    "        return True\n",
    "    elif year % 400 != 0:\n",
    "        return False\n",
    "    else:\n",
    "        return True"
   ]
  },
  {
   "cell_type": "code",
   "execution_count": 144,
   "id": "f73eaa5b",
   "metadata": {},
   "outputs": [
    {
     "name": "stdout",
     "output_type": "stream",
     "text": [
      "True\n",
      "False\n",
      "False\n"
     ]
    }
   ],
   "source": [
    "print(leap_year(1924))\n",
    "print(leap_year(1990))\n",
    "print(leap_year(2023))"
   ]
  },
  {
   "cell_type": "code",
   "execution_count": 166,
   "id": "241f851b",
   "metadata": {},
   "outputs": [],
   "source": [
    "#48 Given a pH value, return whether that value is \"alkaline\" (greater than 7), \"acidic\" (less than 7), or \"neutral\" (7). Return \"invalid\" if the value given is less than 0 or greater than 14.\n",
    "\n",
    "def ph(x):\n",
    "    if x>7 and x<=14:\n",
    "        return \"alkaline\"\n",
    "    elif x<7 and x>=0:\n",
    "        return \"acidic\"\n",
    "    elif x==7:\n",
    "        return \"neutral\"\n",
    "    elif x<0 or x>14:\n",
    "        return \"invalid\"\n"
   ]
  },
  {
   "cell_type": "code",
   "execution_count": 167,
   "id": "d492daf4",
   "metadata": {},
   "outputs": [
    {
     "name": "stdout",
     "output_type": "stream",
     "text": [
      "acidic\n",
      "invalid\n",
      "neutral\n",
      "alkaline\n"
     ]
    }
   ],
   "source": [
    "print(ph(3))\n",
    "print(ph(-6))\n",
    "print(ph(7))\n",
    "print(ph(10))"
   ]
  },
  {
   "cell_type": "code",
   "execution_count": 12,
   "id": "0277415d",
   "metadata": {},
   "outputs": [],
   "source": [
    "#49 Create a function that takes an array of hurdle heights and a jumper's jump height, and determine whether or not the hurdler can clear all the hurdles.\n",
    "#A hurdler can clear a hurdle if their jump height is greater than or equal to the hurdle height.\n",
    "\n",
    "def hurdle(hurdle_height,jump_height):\n",
    "    for i in hurdle_height:\n",
    "        if i>jump_height:\n",
    "             return \"False\"\n",
    "    return \"True\""
   ]
  },
  {
   "cell_type": "code",
   "execution_count": 15,
   "id": "2fb86285",
   "metadata": {},
   "outputs": [
    {
     "name": "stdout",
     "output_type": "stream",
     "text": [
      "True\n",
      "False\n",
      "True\n",
      "False\n"
     ]
    }
   ],
   "source": [
    "print(hurdle([1,2,3,4,5],5))\n",
    "print(hurdle([5, 5, 3, 4, 5], 3))\n",
    "print(hurdle([5, 4, 5, 6], 10))\n",
    "print(hurdle([1, 2, 1], 1) )"
   ]
  },
  {
   "cell_type": "code",
   "execution_count": 35,
   "id": "2dd6ba28",
   "metadata": {},
   "outputs": [],
   "source": [
    "#50 Create a function which returns the type of triangle, given the side lengths. Return the following values if they match the criteria.\n",
    "#No sides equal: \"scalene\"\n",
    "#Two sides equal: \"isosceles\"\n",
    "#All sides equal: \"equilateral\"\n",
    "#Less or more than 3 sides given: \"not a triangle\"\n",
    "\n",
    "\n",
    "def sides(a):\n",
    "    if len(a)<0 or len(a)>3:\n",
    "        return \"not a triangle\"\n",
    "    elif a[0]!=a[1]!=a[2]:\n",
    "        return \"scalene\"\n",
    "    elif a[0]==a[1]==a[2]:\n",
    "        return \"equilateral\"\n",
    "    elif a[0]==a[1] or a[1]==a[2] or a[2]==a[0]:\n",
    "        return \"isosceles\"\n",
    "\n",
    "        \n",
    "    "
   ]
  },
  {
   "cell_type": "code",
   "execution_count": 38,
   "id": "6df58b1e",
   "metadata": {},
   "outputs": [
    {
     "name": "stdout",
     "output_type": "stream",
     "text": [
      "scalene\n",
      "isosceles\n",
      "equilateral\n",
      "not a triangle\n"
     ]
    }
   ],
   "source": [
    "print(sides([2,6,5]))\n",
    "print(sides([4,4,7]))\n",
    "print(sides([8,8,8]))\n",
    "print(sides([1,2,3,8]))\n"
   ]
  },
  {
   "cell_type": "code",
   "execution_count": 45,
   "id": "e63cc107",
   "metadata": {},
   "outputs": [],
   "source": [
    "#51 Write a function that returns True if two rooks can attack each other, and False otherwise.\n",
    "#Examples\n",
    "#can_capture([\"A8\", \"E8\"]) ➞ True\n",
    "#can_capture([\"A1\", \"B2\"]) ➞ False\n",
    "#can_capture([\"H4\", \"H3\"]) ➞ True\n",
    "#can_capture([\"F5\", \"C8\"]) ➞ False\n",
    "\n",
    "def rooks(x,y):\n",
    "    if x[0]==y[0] or x[1]==y[1]:\n",
    "        return(\"True\")\n",
    "    else:  \n",
    "        return \"False\""
   ]
  },
  {
   "cell_type": "code",
   "execution_count": 46,
   "id": "4481d812",
   "metadata": {},
   "outputs": [
    {
     "name": "stdout",
     "output_type": "stream",
     "text": [
      "True\n",
      "False\n",
      "True\n",
      "False\n"
     ]
    }
   ],
   "source": [
    "print(rooks(\"A8\",\"E8\"))\n",
    "print(rooks(\"A1\",\"B2\"))\n",
    "print(rooks(\"H4\",\"H3\"))\n",
    "print(rooks(\"F5\",\"C8\"))"
   ]
  },
  {
   "cell_type": "code",
   "execution_count": 1,
   "id": "16a7eb27",
   "metadata": {},
   "outputs": [],
   "source": [
    "#52 Given an integer n. Your task is to find how many digits this integer contains without using str or len methods!\n",
    "\n",
    "def digits(n):\n",
    "    if n == 0:\n",
    "        return 1\n",
    "\n",
    "    count = 0\n",
    "    while n != 0:\n",
    "        n //= 10\n",
    "        count += 1\n",
    "\n",
    "    return count\n",
    "   \n",
    "     "
   ]
  },
  {
   "cell_type": "code",
   "execution_count": 2,
   "id": "cc40ba94",
   "metadata": {},
   "outputs": [
    {
     "name": "stdout",
     "output_type": "stream",
     "text": [
      "3\n",
      "1\n",
      "6\n"
     ]
    }
   ],
   "source": [
    "print(digits(100))\n",
    "print(digits(0))\n",
    "print(digits(235564))"
   ]
  },
  {
   "cell_type": "code",
   "execution_count": 3,
   "id": "57957d88",
   "metadata": {},
   "outputs": [],
   "source": [
    "#53 Create a function that takes in a two-dimensional list and returns the number of sub-lists with only identical elements.\n",
    "\n",
    "def identical(lst):\n",
    "    count = 0\n",
    "    for sub_lst in lst:\n",
    "        if len(set(sub_lst)) == 1:\n",
    "            count += 1\n",
    "    return count"
   ]
  },
  {
   "cell_type": "code",
   "execution_count": 4,
   "id": "d524a5b3",
   "metadata": {},
   "outputs": [
    {
     "name": "stdout",
     "output_type": "stream",
     "text": [
      "4\n",
      "1\n",
      "3\n"
     ]
    }
   ],
   "source": [
    "print(identical([[1], [2], [3], [4]]))           \n",
    "print(identical([[1, 2], [2, 3], [3, 4], [4, 4]]))             \n",
    "print(identical([[True, True, True], [False, False], [True]]))"
   ]
  },
  {
   "cell_type": "code",
   "execution_count": 29,
   "id": "90b0e5ad",
   "metadata": {},
   "outputs": [],
   "source": [
    "#54 Create a function that takes a number (from 1 to 12) and returns its corresponding month name as a string. For example, if you're given 3 as input, your function should return \"March\", because March is the 3rd month.\n",
    "\n",
    "def month(m):\n",
    "    months=[\"January\",\"February\",\"March\",\"April\",\"May\",\"June\",\"July\",\"August\",\"September\",\"October\",\"November\",\"December\"]\n",
    "    if 1<=m<=12:\n",
    "        return months[m-1]\n",
    "    else:\n",
    "        return \"invalid\""
   ]
  },
  {
   "cell_type": "code",
   "execution_count": 30,
   "id": "43d5e816",
   "metadata": {},
   "outputs": [
    {
     "data": {
      "text/plain": [
       "'March'"
      ]
     },
     "execution_count": 30,
     "metadata": {},
     "output_type": "execute_result"
    }
   ],
   "source": [
    "month(3)"
   ]
  },
  {
   "cell_type": "code",
   "execution_count": 21,
   "id": "9abd1494",
   "metadata": {},
   "outputs": [],
   "source": [
    "#55 Create a function that takes an initial word and extracts any words that start with the same letters as the initial word\n",
    "\n",
    "def word(x,y):\n",
    "    z=[]\n",
    "    for a in y:\n",
    "        if a.startswith(x):\n",
    "            z.append(a) \n",
    "    return z\n",
    " "
   ]
  },
  {
   "cell_type": "code",
   "execution_count": 25,
   "id": "170dd3c6",
   "metadata": {},
   "outputs": [
    {
     "name": "stdout",
     "output_type": "stream",
     "text": [
      "['bat', 'break']\n",
      "['triplet', 'tries', 'trip']\n",
      "[]\n"
     ]
    }
   ],
   "source": [
    "print(word(\"b\",[\"bat\",\"break\",\"cat\"]))\n",
    "print(word(\"tri\", [\"triplet\", \"tries\", \"trip\", \"piano\", \"tree\"]))\n",
    "print(word(\"r\",[\"bat\",\"break\",\"cat\"]))"
   ]
  },
  {
   "cell_type": "code",
   "execution_count": 51,
   "id": "24a1a36c",
   "metadata": {},
   "outputs": [],
   "source": [
    "#56 Create a function that takes a list of strings and returns the words that are exactly four letters.\n",
    "\n",
    "\n",
    "def words(x):\n",
    "    y=[]\n",
    "    for z in x:\n",
    "       if len(z)==4:\n",
    "           y.append(z)\n",
    "    return y"
   ]
  },
  {
   "cell_type": "code",
   "execution_count": 54,
   "id": "0ed82609",
   "metadata": {},
   "outputs": [
    {
     "name": "stdout",
     "output_type": "stream",
     "text": [
      "['ball']\n",
      "['ball', 'dogs']\n",
      "[]\n"
     ]
    }
   ],
   "source": [
    "print(words([\"apple\",\"ball\"]))\n",
    "print(words([\"ant\",\"ball\",\"bat\",\"cat\",\"dogs\"]))\n",
    "print(words([\"a\",\"b\"]))"
   ]
  },
  {
   "cell_type": "code",
   "execution_count": 56,
   "id": "a566afdc",
   "metadata": {},
   "outputs": [],
   "source": [
    "#57 Create a function that takes a year as an argument and returns the corresponding Chinese zodiac.\n",
    "\n",
    "def f1(year):\n",
    "    zodiac_animals = ['Monkey', 'Rooster', 'Dog', 'Pig', 'Rat', 'Ox', 'Tiger', 'Rabbit', 'Dragon', 'Snake', 'Horse', 'Sheep']\n",
    "    start_year = 1900 \n",
    "    zodiac_index = (year - start_year) % 12\n",
    "    zodiac = zodiac_animals[zodiac_index]\n",
    "    \n",
    "    return zodiac"
   ]
  },
  {
   "cell_type": "code",
   "execution_count": 59,
   "id": "9a6a6b0a",
   "metadata": {},
   "outputs": [
    {
     "data": {
      "text/plain": [
       "'Ox'"
      ]
     },
     "execution_count": 59,
     "metadata": {},
     "output_type": "execute_result"
    }
   ],
   "source": [
    "f1(2001)"
   ]
  },
  {
   "cell_type": "code",
   "execution_count": 61,
   "id": "2ce53cc2",
   "metadata": {},
   "outputs": [],
   "source": [
    "#58 Two sisters are eating chocolate, whose pieces are represented as subarrays of [l x w].\n",
    "#Write a function that returns True if the total area of chocolate is the same for each sister.\n",
    "#To illustrate:\n",
    "#test_fairness([[4, 3], [2, 4], [1, 2]],\n",
    "#[[6, 2], [4, 2], [1, 1], [1, 1]])\n",
    "#➞ True\n",
    "#// Agatha's pieces: [4, 3], [2, 4], [1, 2]\n",
    "#// Bertha's pieces: [6, 2], [4, 2], [1, 1], [1, 1]\n",
    "#// Total area of Agatha's chocolate\n",
    "#// 4x3 + 2x4 + 1x2 = 12 + 8 + 2 = 22\n",
    "#// Total area of Bertha's chocolate is:\n",
    "#// 6x2 + 4x2 + 1x1 + 1x1 = 12 + 8 + 1 + 1 = 22\n",
    "\n",
    "\n",
    "def f2(agatha, bertha):\n",
    "    sumA = sum(x*y for x,y in agatha)\n",
    "    sumB = sum(x*y for x,y in bertha)\n",
    "    return sumA == sumB"
   ]
  },
  {
   "cell_type": "code",
   "execution_count": 68,
   "id": "f68390bc",
   "metadata": {},
   "outputs": [
    {
     "data": {
      "text/plain": [
       "True"
      ]
     },
     "execution_count": 68,
     "metadata": {},
     "output_type": "execute_result"
    }
   ],
   "source": [
    "f2([[1,2],[2,1]],[[2,2]])"
   ]
  },
  {
   "cell_type": "code",
   "execution_count": 79,
   "id": "39172653",
   "metadata": {},
   "outputs": [],
   "source": [
    "#59 Here is a trainwreck of a photo:\n",
    "#your score 85%\n",
    "#you FAILEDPASSED the exam\n",
    "#required score 85%\n",
    "\n",
    "\n",
    "#The challenge is to fix all of the bugs in this incredibly messy code, which the code in the image might've actually looked like (probably not)! The code given will output the same middle two lines as in the image shown above.\n",
    "#First parameter is the user's score.\n",
    "#Second parameter is the required score.\n",
    "\n",
    "def score(your_score,required_score):\n",
    "    if your_score[0:2]>=required_score[0:2]:\n",
    "        return \"You PASSED the exam\"\n",
    "    else:\n",
    "        return \"You FAILED the exam\"\n",
    "        "
   ]
  },
  {
   "cell_type": "code",
   "execution_count": 82,
   "id": "55b2536a",
   "metadata": {},
   "outputs": [
    {
     "name": "stdout",
     "output_type": "stream",
     "text": [
      "You PASSED the exam\n",
      "You PASSED the exam\n",
      "You FAILED the exam\n"
     ]
    }
   ],
   "source": [
    "print(score(\"85%\",\"85%\"))\n",
    "print(score(\"90%\",\"85%\"))\n",
    "print(score(\"65%\", \"90%\"))"
   ]
  },
  {
   "cell_type": "code",
   "execution_count": 89,
   "id": "bf70354a",
   "metadata": {},
   "outputs": [],
   "source": [
    "                                             #control flow questions\n",
    "\n",
    "#1 A vehicle needs 10 times the amount of fuel than the distance it travels. However, it must always carry a minimum of 100 fuel before setting off.\n",
    "#Create a function which calculates the amount of fuel it needs, given the distance.\n",
    "\n",
    "def fuel(x):\n",
    "    mini_fuel=100\n",
    "    amount_of_fuel=10*x\n",
    "    if amount_of_fuel<mini_fuel:\n",
    "        amount_of_fuel=mini_fuel\n",
    "    return amount_of_fuel\n",
    "    "
   ]
  },
  {
   "cell_type": "code",
   "execution_count": 92,
   "id": "b3196be4",
   "metadata": {},
   "outputs": [
    {
     "name": "stdout",
     "output_type": "stream",
     "text": [
      "100\n",
      "450\n"
     ]
    }
   ],
   "source": [
    "print(fuel(3))\n",
    "print(fuel(45))"
   ]
  },
  {
   "cell_type": "code",
   "execution_count": 94,
   "id": "e24356c3",
   "metadata": {},
   "outputs": [],
   "source": [
    "#2 The packaging system is running wild! The candy is lying loose all over in the warehouse, the cereal is missing, and bread is stuffed in a bottle. What is going on here? The candy should be in plastic and the bread should be in a bag.\n",
    "#The packaging machine is running the get_container() function to retrieve the container of a product. But something is not right...\n",
    " \n",
    "def container(x):\n",
    "    if x==\"bread\":\n",
    "        return \"bag\"\n",
    "    elif x==\"beer\":\n",
    "        return \"bottle\"\n",
    "    elif x==\"candy\":\n",
    "        return \"plastic\"\n",
    "    else:\n",
    "        return"
   ]
  },
  {
   "cell_type": "code",
   "execution_count": 97,
   "id": "28313c61",
   "metadata": {},
   "outputs": [
    {
     "name": "stdout",
     "output_type": "stream",
     "text": [
      "bag\n",
      "bottle\n",
      "plastic\n",
      "None\n"
     ]
    }
   ],
   "source": [
    "print(container(\"bread\"))\n",
    "print(container(\"beer\"))\n",
    "print(container(\"candy\"))\n",
    "print(container(\"cheese\"))"
   ]
  },
  {
   "cell_type": "code",
   "execution_count": 98,
   "id": "c2b152f9",
   "metadata": {},
   "outputs": [],
   "source": [
    "#3 Write a function that returns 0 if the input is 1, and returns 1 if the input is 0\n",
    "\n",
    "def f1(x):\n",
    "    if x==1:\n",
    "        return 0\n",
    "    elif x==0:\n",
    "        return 1"
   ]
  },
  {
   "cell_type": "code",
   "execution_count": 100,
   "id": "70deb6df",
   "metadata": {},
   "outputs": [
    {
     "data": {
      "text/plain": [
       "1"
      ]
     },
     "execution_count": 100,
     "metadata": {},
     "output_type": "execute_result"
    }
   ],
   "source": [
    "f1(0)"
   ]
  },
  {
   "cell_type": "code",
   "execution_count": 104,
   "id": "bb601a1e",
   "metadata": {},
   "outputs": [],
   "source": [
    "#4 A \"truthy\" value is a value that translates to True when evaluated in a Boolean context. All values are truthy unless they're defined as falsy.\n",
    "#All falsy values are as follows:\n",
    "#False\n",
    "#None\n",
    "#0\n",
    "#[]\n",
    "#{}\n",
    "#\"\"\n",
    "#Create a function that takes an argument of any data type and returns 1 if it's truthy and 0 if it's falsy.\n",
    "\n",
    "def f1(x):\n",
    "    if x==False or x==\"None\"or x==0 or x==[] or x=={} or x==\"\":\n",
    "        return 0\n",
    "    else:\n",
    "        return 1\n",
    "    "
   ]
  },
  {
   "cell_type": "code",
   "execution_count": 105,
   "id": "ca87cf1a",
   "metadata": {},
   "outputs": [
    {
     "name": "stdout",
     "output_type": "stream",
     "text": [
      "0\n",
      "1\n",
      "1\n"
     ]
    }
   ],
   "source": [
    "print(f1(\"\"))\n",
    "print(f1(True))\n",
    "print(f1(\"False\"))"
   ]
  },
  {
   "cell_type": "code",
   "execution_count": 106,
   "id": "96f12de8",
   "metadata": {},
   "outputs": [],
   "source": [
    "#5 Write a function that takes a string name and a number num (either 0 or 1) and return \"Hello\" + name if num is 1, otherwise return \"Bye\" + name.\n",
    "\n",
    "def n(name,num):\n",
    "    if num==1:\n",
    "        return \"Hello \"+name\n",
    "    elif num==0:\n",
    "        return \"Bye \"+name"
   ]
  },
  {
   "cell_type": "code",
   "execution_count": 108,
   "id": "0f56df3f",
   "metadata": {},
   "outputs": [
    {
     "name": "stdout",
     "output_type": "stream",
     "text": [
      "Hello varshini\n",
      "Bye varshini\n"
     ]
    }
   ],
   "source": [
    "print(n(\"varshini\",1))\n",
    "print(n(\"varshini\",0))"
   ]
  },
  {
   "cell_type": "code",
   "execution_count": 109,
   "id": "19b901cc",
   "metadata": {},
   "outputs": [],
   "source": [
    "#6 Darts is a target game played by throwing feathered darts at a circular board with numbered spaces. Our darts game is the simplest of all games. The score of a single turn is calculated based on the distance from the middle. You need to create a function that takes the dart location as two cartesian coordinates (x, y) and returns a score based on the distance from the middle, aka Bullseye (x=0, y=0).\n",
    "#Bullseye and inner circle scores = 10 points\n",
    "#Middle ring scores = 5 points\n",
    "#Outer ring scores = 1 point\n",
    "#Outside the target = 0 points\n",
    "#We play it simple so a dart in the double or treble ring counts as usual and does not affect the segment score.\n",
    "#Board and circle radius is as follows:\n",
    "#Board radius and outer circle radius = 10 units\n",
    "#Middle circle radius = 5 units\n",
    "#Inner circle radius = 1 unit\n",
    "#Short Description\n",
    "#Convert cartesian coordinates (x, y) to polar coordinates (R, phi) and return the score based on the R value. R > 10 gives 0 points, 10 >= R > 5 gives 1 point, 5 >= R > 1 gives 5 points, R <= 1 gives 10 points.\n",
    "\n",
    "def game(x, y):\n",
    "    distance = (x ** 2 + y ** 2) ** 0.5\n",
    "    if distance <= 1:\n",
    "        return 10\n",
    "    elif distance <= 5:\n",
    "        return 5\n",
    "    elif distance <= 10:\n",
    "        return 1\n",
    "    else:\n",
    "        return 0\n",
    "    "
   ]
  },
  {
   "cell_type": "code",
   "execution_count": 110,
   "id": "f539700f",
   "metadata": {},
   "outputs": [
    {
     "name": "stdout",
     "output_type": "stream",
     "text": [
      "10\n",
      "5\n",
      "10\n"
     ]
    }
   ],
   "source": [
    "print(game(0,0))\n",
    "print(game(3,2))\n",
    "print(game(0,-0.5))  "
   ]
  },
  {
   "cell_type": "code",
   "execution_count": 119,
   "id": "8018933d",
   "metadata": {},
   "outputs": [],
   "source": [
    "#7 Create a function that takes a list (slot machine outcome) and returns True if all elements in the list are identical, and False otherwise. The list will contain 4 elements.\n",
    "def identical(x):\n",
    "    if len(x)==4:\n",
    "        if x[0]==x[1]==x[2]==x[3]:\n",
    "            return \"True\"\n",
    "    return \"False\"\n"
   ]
  },
  {
   "cell_type": "code",
   "execution_count": 120,
   "id": "53e4e399",
   "metadata": {},
   "outputs": [
    {
     "name": "stdout",
     "output_type": "stream",
     "text": [
      "True\n",
      "False\n",
      "False\n",
      "True\n",
      "False\n"
     ]
    }
   ],
   "source": [
    "print(identical([\"ss\",\"ss\",\"ss\",\"ss\"]))\n",
    "print(identical([\"Ss\",\"ss\",\"ss\",\"ss\"]))\n",
    "print(identical([\"ss\",\"ss\",\"ss\"]))\n",
    "print(identical([\"abc\",\"abc\",\"abc\",\"abc\"]))\n",
    "print(identical([\"#\",\"##\",\"###\",\"####\"]))"
   ]
  },
  {
   "cell_type": "code",
   "execution_count": 121,
   "id": "a3bcd5c1",
   "metadata": {},
   "outputs": [],
   "source": [
    "#8 Create a function that takes an array of hurdle heights and a jumper's jump height, and determine whether or not the hurdler can clear all the hurdles.\n",
    "#A hurdler can clear a hurdle if their jump height is greater than or equal to the hurdle height.\n",
    "\n",
    "def hurdle(hurdle_height,jump_height):\n",
    "    for i in hurdle_height:\n",
    "        if i>jump_height:\n",
    "             return \"False\"\n",
    "    return \"True\""
   ]
  },
  {
   "cell_type": "code",
   "execution_count": 122,
   "id": "12411648",
   "metadata": {},
   "outputs": [
    {
     "name": "stdout",
     "output_type": "stream",
     "text": [
      "True\n",
      "False\n",
      "True\n",
      "False\n"
     ]
    }
   ],
   "source": [
    "print(hurdle([1,2,3,4,5],5))\n",
    "print(hurdle([5, 5, 3, 4, 5], 3))\n",
    "print(hurdle([5, 4, 5, 6], 10))\n",
    "print(hurdle([1, 2, 1], 1) )"
   ]
  },
  {
   "cell_type": "code",
   "execution_count": 125,
   "id": "94b29238",
   "metadata": {},
   "outputs": [],
   "source": [
    "#9 Create a function that takes a number as its argument and returns a list of all its factors.\n",
    "\n",
    "def factorial(num):\n",
    "    x=[]\n",
    "    for y in range(1,num+1):\n",
    "        if num%y==0:\n",
    "            x.append(y)\n",
    "    return x"
   ]
  },
  {
   "cell_type": "code",
   "execution_count": 128,
   "id": "64ba56f3",
   "metadata": {},
   "outputs": [
    {
     "data": {
      "text/plain": [
       "[1, 17]"
      ]
     },
     "execution_count": 128,
     "metadata": {},
     "output_type": "execute_result"
    }
   ],
   "source": [
    "factorial(17)"
   ]
  },
  {
   "cell_type": "code",
   "execution_count": 133,
   "id": "3f766e83",
   "metadata": {},
   "outputs": [],
   "source": [
    "#10 Create a function that goes through the array, incrementing (+1) for each odd-valued number and decrementing (-1) for each even-valued number.\n",
    "\n",
    "def value(x):\n",
    "    y=[]\n",
    "    for num in x:\n",
    "        if num%2==0:\n",
    "            y.append(num-1)\n",
    "        else:\n",
    "            y.append(num+1)\n",
    "        \n",
    "    return y\n"
   ]
  },
  {
   "cell_type": "code",
   "execution_count": 135,
   "id": "62490ee8",
   "metadata": {},
   "outputs": [
    {
     "data": {
      "text/plain": [
       "[2, 1, 4, 3, 6, 5, 8, 7]"
      ]
     },
     "execution_count": 135,
     "metadata": {},
     "output_type": "execute_result"
    }
   ],
   "source": [
    "value([1,2,3,4,5,6,7,8])"
   ]
  },
  {
   "cell_type": "code",
   "execution_count": null,
   "id": "f8b5c566",
   "metadata": {},
   "outputs": [],
   "source": []
  }
 ],
 "metadata": {
  "kernelspec": {
   "display_name": "Python 3 (ipykernel)",
   "language": "python",
   "name": "python3"
  },
  "language_info": {
   "codemirror_mode": {
    "name": "ipython",
    "version": 3
   },
   "file_extension": ".py",
   "mimetype": "text/x-python",
   "name": "python",
   "nbconvert_exporter": "python",
   "pygments_lexer": "ipython3",
   "version": "3.10.9"
  }
 },
 "nbformat": 4,
 "nbformat_minor": 5
}
