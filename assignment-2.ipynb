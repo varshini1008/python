{
 "cells": [
  {
   "cell_type": "code",
   "execution_count": 2,
   "id": "aa3cde06",
   "metadata": {},
   "outputs": [
    {
     "name": "stdout",
     "output_type": "stream",
     "text": [
      "enter a number:4\n",
      "enter the operator(*,/):/\n",
      "enter a number:2\n",
      "2.0\n"
     ]
    }
   ],
   "source": [
    "#1) Write a program to accept two numbers from the user and calculate multiplication, division\n",
    "x=int(input(\"enter a number:\"))\n",
    "y=input(\"enter the operator(*,/):\")\n",
    "z=int(input(\"enter a number:\"))\n",
    "if y==\"*\":\n",
    "    print(x*z)\n",
    "else:\n",
    "    print(x/z)\n"
   ]
  },
  {
   "cell_type": "code",
   "execution_count": 7,
   "id": "21704a94",
   "metadata": {},
   "outputs": [
    {
     "name": "stdout",
     "output_type": "stream",
     "text": [
      "Even characters: ['a', 'c', 'e', 'g']\n"
     ]
    }
   ],
   "source": [
    "#2) Write a python program to print the characters from a string that are present at an even index\n",
    "str = \"abcdefg\"\n",
    "even_characters = []\n",
    "for i in range(len(str)):\n",
    "    if i % 2 == 0: \n",
    "        even_characters.append(str[i])\n",
    "print('Even characters: {}'.format(even_characters))"
   ]
  },
  {
   "cell_type": "code",
   "execution_count": 9,
   "id": "d222676c",
   "metadata": {},
   "outputs": [
    {
     "name": "stdout",
     "output_type": "stream",
     "text": [
      "odd characters: ['b', 'd', 'f']\n"
     ]
    }
   ],
   "source": [
    "#3) Write a python program to print the characters from a string that are present at an odd index\n",
    "str = \"abcdefg\"\n",
    "odd_characters = []\n",
    "for i in range(len(str)):\n",
    "    if i % 2 != 0: \n",
    "        odd_characters.append(str[i])\n",
    "print('odd characters: {}'.format(odd_characters))"
   ]
  },
  {
   "cell_type": "code",
   "execution_count": 15,
   "id": "a93bd8a9",
   "metadata": {},
   "outputs": [
    {
     "name": "stdout",
     "output_type": "stream",
     "text": [
      "enter the number:111\n",
      "enter the number:23\n",
      "88\n"
     ]
    }
   ],
   "source": [
    "#4)Write a python program which will print the sum of the two numbers if the two numbers are even or it will print the difference of two numbers\n",
    "x=int(input(\"enter the number:\"))\n",
    "y=int(input(\"enter the number:\"))\n",
    "if x%2==y%2==0:\n",
    "    print(x+y)\n",
    "else:\n",
    "    print(x-y)\n"
   ]
  },
  {
   "cell_type": "code",
   "execution_count": 4,
   "id": "aa08bd8b",
   "metadata": {},
   "outputs": [
    {
     "name": "stdout",
     "output_type": "stream",
     "text": [
      "enter the string:ctrjhb\n",
      "CtRjHb\n"
     ]
    }
   ],
   "source": [
    "#5) Write a python program to convert all even indexed alphabets to upper and odd indexed char as lower\n",
    "x=input(\"enter the string:\")\n",
    "z=list(x)\n",
    "y=0;a=\"\"\n",
    "while y<len(x):\n",
    "    if y%2==0:\n",
    "        z[y]=z[y].upper()\n",
    "    a+=str(z[y])\n",
    "    y+=1\n",
    "print(a)"
   ]
  },
  {
   "cell_type": "code",
   "execution_count": 7,
   "id": "407ff30a",
   "metadata": {},
   "outputs": [
    {
     "name": "stdout",
     "output_type": "stream",
     "text": [
      "enter a number:10\n",
      "True\n"
     ]
    }
   ],
   "source": [
    "#6) Write a python program which will print True if the input number is divisible by 5 or else False\n",
    "x=int(input(\"enter a number:\"))\n",
    "if x%5==0:\n",
    "        print(\"True\")\n",
    "else:\n",
    "        print(\"False\")"
   ]
  },
  {
   "cell_type": "code",
   "execution_count": 10,
   "id": "72bd8b63",
   "metadata": {},
   "outputs": [
    {
     "name": "stdout",
     "output_type": "stream",
     "text": [
      "enter the number30\n",
      "enter the number40\n",
      "1200\n"
     ]
    }
   ],
   "source": [
    "#7) Given two integer numbers return their product only if the product is greater than 1000, else return their sum\n",
    "x=int(input(\"enter the number\"))\n",
    "y=int(input(\"enter the number\"))\n",
    "if x*y>1000:\n",
    "    print(x*y)\n",
    "else:\n",
    "    print(x+y)"
   ]
  },
  {
   "cell_type": "code",
   "execution_count": 18,
   "id": "aa12567b",
   "metadata": {},
   "outputs": [
    {
     "name": "stdout",
     "output_type": "stream",
     "text": [
      "Give a String x: hearty \n",
      "Give a String y: welcome\n",
      "hwrc e\n"
     ]
    }
   ],
   "source": [
    "#8) Given two strings x, y writes a program to return a new string made of x and y’s first, middle, and last characters\n",
    "x=input(\"Give a String x: \")\n",
    "y=input(\"Give a String y: \")\n",
    "z=x[0]+y[0]+x[len(x)//2]+y[len(y)//2]+x[-1]+y[-1]\n",
    "print(z)\n",
    "    "
   ]
  },
  {
   "cell_type": "code",
   "execution_count": 1,
   "id": "5da35834",
   "metadata": {},
   "outputs": [
    {
     "name": "stdout",
     "output_type": "stream",
     "text": [
      "enter nameseetha,varshini,shiny\n",
      "Name1: seetha \n",
      "Name2: varshini \n",
      "Name3: shiny\n"
     ]
    }
   ],
   "source": [
    "#9)Write a python program to take three names as input from a user in the single input () function call\n",
    "x=input(\"enter name\")\n",
    "for y in range(0,3):\n",
    "    a=x.split(\",\")\n",
    "print(\"Name1:\",a[0],\"\\n\"\"Name2:\",a[1],\"\\n\"\"Name3:\",a[2])"
   ]
  },
  {
   "cell_type": "code",
   "execution_count": 4,
   "id": "e88dd4d9",
   "metadata": {},
   "outputs": [
    {
     "name": "stdout",
     "output_type": "stream",
     "text": [
      "enter a string:madam\n",
      "mada@\n"
     ]
    }
   ],
   "source": [
    "#10)Write a Python program to get a string from a given string where all occurrences of its first char have been changed to '@', except the first char itself.\n",
    "x=input(\"enter a string:\")\n",
    "a=x[0]\n",
    "for y in range(1,len(x)):\n",
    "    if x[y]==x[0]:\n",
    "        a+=\"@\"\n",
    "    else:\n",
    "        a+=x[y]\n",
    "print(a)\n",
    "\n"
   ]
  },
  {
   "cell_type": "code",
   "execution_count": 2,
   "id": "e8dde393",
   "metadata": {},
   "outputs": [
    {
     "name": "stdout",
     "output_type": "stream",
     "text": [
      "Give a String: eat\n",
      "eating\n"
     ]
    }
   ],
   "source": [
    "#11)Write a Python program to add 'ing' at the end of a given string (string length should be equal to or more than 3). If the given string already ends with 'ing' then add 'ly' instead. If the string length of the given string is less than 3, leave it unchanged\n",
    "x=input(\"Give a String: \")\n",
    "a=\"\"\n",
    "if len(x)>=3:\n",
    "    if x[-3:]==\"ing\":\n",
    "        a+=x[-4:-1]+x[-3:].replace(\"ing\",\"ly\")\n",
    "        print(a)\n",
    "    else:\n",
    "        a+=x+\"ing\"\n",
    "        print(a)\n",
    "if len(x)<3:\n",
    "    print(x)"
   ]
  },
  {
   "cell_type": "code",
   "execution_count": 5,
   "id": "9b69e012",
   "metadata": {},
   "outputs": [
    {
     "name": "stdout",
     "output_type": "stream",
     "text": [
      "enter num1:8\n",
      "enter num2:16\n",
      "False\n"
     ]
    }
   ],
   "source": [
    "#12) Write a python program that accepts two inputs num1 and num2 print True if one of them is 10 or if their sum is 10 otherwise print False\n",
    "x=int(input(\"enter num1:\"))\n",
    "y=int(input(\"enter num2:\"))\n",
    "if x==10 or y==10 or x+y==10:\n",
    "    print(\"True\")\n",
    "else:\n",
    "    print(\"False\")\n",
    "\n"
   ]
  },
  {
   "cell_type": "code",
   "execution_count": 6,
   "id": "ab2a587d",
   "metadata": {},
   "outputs": [
    {
     "name": "stdout",
     "output_type": "stream",
     "text": [
      "enter num1:3\n",
      "enter num2:4\n",
      "enter num3:2\n",
      "True\n"
     ]
    }
   ],
   "source": [
    "#13) Write a python program that accepts three inputs x, y and z print True if x*y>z otherwise False\n",
    "x=int(input('enter num1:'))\n",
    "y=int(input(\"enter num2:\"))\n",
    "z=int(input(\"enter num3:\"))\n",
    "if x*y>z:\n",
    "    print(\"True\")\n",
    "else:\n",
    "    print(\"False\")\n"
   ]
  },
  {
   "cell_type": "code",
   "execution_count": 3,
   "id": "65ba28a1",
   "metadata": {},
   "outputs": [
    {
     "name": "stdout",
     "output_type": "stream",
     "text": [
      "enter a str1:abcd\n",
      "enter a str2:efgh\n",
      "True\n"
     ]
    }
   ],
   "source": [
    "#14) Write a python program that accepts two strings inputs return True depending on whether the total number of characters in the first string is equal to the total number of characters in the second string\n",
    "x=input(\"enter a str1:\")\n",
    "y=input(\"enter a str2:\")\n",
    "if len(x)==len(y):\n",
    "    print(\"True\")\n",
    "else:\n",
    "    print(\"False\")\n",
    "    \n"
   ]
  },
  {
   "cell_type": "code",
   "execution_count": 6,
   "id": "10efb714",
   "metadata": {},
   "outputs": [
    {
     "name": "stdout",
     "output_type": "stream",
     "text": [
      "Give a String: drinking\n",
      "drinkingdridridri\n"
     ]
    }
   ],
   "source": [
    "#15) Write a python program that takes a string input, we'll say that the front is the first three characters of the string. If the string length is less than three characters, the front is whatever is there. Return a new string, which is three copies of the front\n",
    "x=input(\"Give a String: \")\n",
    "if len(x)<3:\n",
    "    print(x)\n",
    "else:\n",
    "    print(x+x[:3]*3)"
   ]
  },
  {
   "cell_type": "code",
   "execution_count": 10,
   "id": "26dbe730",
   "metadata": {},
   "outputs": [
    {
     "data": {
      "text/plain": [
       "True"
      ]
     },
     "execution_count": 10,
     "metadata": {},
     "output_type": "execute_result"
    }
   ],
   "source": [
    "#16) Write a python program that takes in a word and determines whether or not it is plural. A plural word is one that ends in \"s\".\n",
    "x=\"sings\"\n",
    "x.endswith(\"s\")"
   ]
  },
  {
   "cell_type": "code",
   "execution_count": 14,
   "id": "e0067032",
   "metadata": {},
   "outputs": [
    {
     "name": "stdout",
     "output_type": "stream",
     "text": [
      "tell me your age28\n",
      "Whether on Break or Not in True or false: true\n",
      "Should not serve\n"
     ]
    }
   ],
   "source": [
    "#17) A bartender is writing a simple program to determine whether he should serve drinks to someone. He only serves drinks to people 18 and older and when he's not on break (True means break and False means not a break time). Given the person's age, and whether break time is in session, create a python program which prints whether he should serve drinks or not \n",
    "x=int(input(\"tell me your age\"))\n",
    "y=input(\"Whether on Break or Not in True or false: \")\n",
    "if x>=18 and y==\"false\":\n",
    "    print(\"Should serve the drink\")\n",
    "else:\n",
    "    print(\"Should not serve\")\n",
    "\n"
   ]
  },
  {
   "cell_type": "code",
   "execution_count": 3,
   "id": "cd962475",
   "metadata": {},
   "outputs": [
    {
     "name": "stdout",
     "output_type": "stream",
     "text": [
      "Give the person name: Letha\n",
      "Relation is Mother\n"
     ]
    }
   ],
   "source": [
    "#18) Manoj Kumar has family and friends. Help him remind them who is who. Given a string with a name, return the relation of that person to Manoj Kumar.\n",
    "person=\"Shiva,Letha,Tarun,Kavitha\"\n",
    "relation=\"Father,Mother,Brother,Sister\"\n",
    "x=input(\"Give the person name: \")\n",
    "if x==person[:5]:\n",
    "    print(\"Relation is Father\")\n",
    "elif x==person[6:11]:\n",
    "    print(\"Relation is Mother\")\n",
    "elif x==person[12:17]:\n",
    "    print(\"Relation is Brother\")\n",
    "else:\n",
    "    print(\"Relation is Sister\")"
   ]
  },
  {
   "cell_type": "code",
   "execution_count": 1,
   "id": "644b7dc6",
   "metadata": {},
   "outputs": [
    {
     "name": "stdout",
     "output_type": "stream",
     "text": [
      "Give a string: appleios\n",
      "aeioppls\n"
     ]
    }
   ],
   "source": [
    "#19) Write a python program that takes a string, breaks it up and returns it with vowels first, consonants second. For any character that's not a vowel (like special characters or spaces), treat them like consonants\n",
    "x=input(\"Give a string: \")\n",
    "a=\"\"\n",
    "b=\"\"\n",
    "for z in range(0,len(x)):\n",
    "    if x[z]==\"a\" or x[z]==\"e\" or x[z]==\"i\" or x[z]==\"o\" or x[z]==\"u\" or x[z]==\"A\" or x[z]==\"E\" or x[z]==\"I\" or x[z]==\"O\" or x[z]==\"U\":\n",
    "        a+=x[z]\n",
    "    else:\n",
    "        b+=x[z]\n",
    "print(a+b)"
   ]
  },
  {
   "cell_type": "code",
   "execution_count": null,
   "id": "4ed0792e",
   "metadata": {},
   "outputs": [],
   "source": [
    "#20)dynamic calculator"
   ]
  }
 ],
 "metadata": {
  "kernelspec": {
   "display_name": "Python 3 (ipykernel)",
   "language": "python",
   "name": "python3"
  },
  "language_info": {
   "codemirror_mode": {
    "name": "ipython",
    "version": 3
   },
   "file_extension": ".py",
   "mimetype": "text/x-python",
   "name": "python",
   "nbconvert_exporter": "python",
   "pygments_lexer": "ipython3",
   "version": "3.10.9"
  }
 },
 "nbformat": 4,
 "nbformat_minor": 5
}
