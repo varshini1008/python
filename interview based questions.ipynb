{
 "cells": [
  {
   "cell_type": "code",
   "execution_count": 7,
   "id": "9182fe60",
   "metadata": {},
   "outputs": [],
   "source": [
    "#1.Write a program to reverse an integer in Python.\n",
    "def re(x):\n",
    "    if x<0:\n",
    "        x=-x\n",
    "        rev=-int(str(x)[::-1])\n",
    "    else:\n",
    "        rev=int(str(x)[::-1])\n",
    "    return rev\n",
    "  "
   ]
  },
  {
   "cell_type": "code",
   "execution_count": 11,
   "id": "2c476720",
   "metadata": {},
   "outputs": [
    {
     "data": {
      "text/plain": [
       "-80678"
      ]
     },
     "execution_count": 11,
     "metadata": {},
     "output_type": "execute_result"
    }
   ],
   "source": [
    "re(-87608)"
   ]
  },
  {
   "cell_type": "code",
   "execution_count": 25,
   "id": "178677d1",
   "metadata": {},
   "outputs": [],
   "source": [
    "#2.Write a program in Python to check whether an integer is Armstrong number or not.\n",
    "def arm(x):\n",
    "    x_str=str(x)\n",
    "    x_digits=len(x_str)\n",
    "    sum_of_digits=sum(int(y)**x_digits  for y in x_str)\n",
    "    if sum_of_digits==x:\n",
    "        return True\n",
    "    else:\n",
    "        return False"
   ]
  },
  {
   "cell_type": "code",
   "execution_count": 28,
   "id": "1b550677",
   "metadata": {},
   "outputs": [
    {
     "data": {
      "text/plain": [
       "True"
      ]
     },
     "execution_count": 28,
     "metadata": {},
     "output_type": "execute_result"
    }
   ],
   "source": [
    "arm(153)"
   ]
  },
  {
   "cell_type": "code",
   "execution_count": 55,
   "id": "47cc0c3d",
   "metadata": {},
   "outputs": [],
   "source": [
    "#3.Write a program in Python to check given number is prime or not.\n",
    "def prime(x):\n",
    "    for y in range(2,x):\n",
    "        if x%y==0:\n",
    "            return False\n",
    "    return True\n",
    "            "
   ]
  },
  {
   "cell_type": "code",
   "execution_count": 57,
   "id": "5cce71ac",
   "metadata": {},
   "outputs": [
    {
     "data": {
      "text/plain": [
       "True"
      ]
     },
     "execution_count": 57,
     "metadata": {},
     "output_type": "execute_result"
    }
   ],
   "source": [
    "prime(23)"
   ]
  },
  {
   "cell_type": "code",
   "execution_count": 72,
   "id": "d2f22dc9",
   "metadata": {},
   "outputs": [],
   "source": [
    "#4.Write a program in Python to print the Fibonacci series using iterative method.\n",
    "def fib(x):\n",
    "    fib_series=[]\n",
    "    if x>=1:\n",
    "        fib_series.append(0)\n",
    "    if x>=2:\n",
    "        fib_series.append(1)\n",
    "    for i in range(2,x):\n",
    "        fib_series.append(fib_series[i-1]+fib_series[i-2])\n",
    "    return fib_series"
   ]
  },
  {
   "cell_type": "code",
   "execution_count": 73,
   "id": "b5a28fde",
   "metadata": {},
   "outputs": [
    {
     "data": {
      "text/plain": [
       "[0, 1, 1, 2, 3, 5]"
      ]
     },
     "execution_count": 73,
     "metadata": {},
     "output_type": "execute_result"
    }
   ],
   "source": [
    "fib(6)"
   ]
  },
  {
   "cell_type": "code",
   "execution_count": 76,
   "id": "d8d84e18",
   "metadata": {},
   "outputs": [],
   "source": [
    "#5.Write a program in Python to print the Fibonacci series using recursive method.\n",
    "def fib(n):\n",
    "    if n<=0:\n",
    "        return []\n",
    "    elif n==1:\n",
    "        return [0]\n",
    "    elif n==2:\n",
    "        return [0,1]\n",
    "    else:\n",
    "        fib_series=fib(n-1)\n",
    "        fib_series.append(fib_series[-1]+fib_series[-2])\n",
    "        return fib_series"
   ]
  },
  {
   "cell_type": "code",
   "execution_count": 77,
   "id": "99b5839d",
   "metadata": {},
   "outputs": [
    {
     "data": {
      "text/plain": [
       "[0, 1, 1, 2, 3, 5]"
      ]
     },
     "execution_count": 77,
     "metadata": {},
     "output_type": "execute_result"
    }
   ],
   "source": [
    "fib(6)"
   ]
  },
  {
   "cell_type": "code",
   "execution_count": 89,
   "id": "93a558b8",
   "metadata": {},
   "outputs": [
    {
     "name": "stdout",
     "output_type": "stream",
     "text": [
      "1221\n",
      "True\n"
     ]
    }
   ],
   "source": [
    "#6.Write a program in Python to check whether a number is palindrome or not using iterative method.\n",
    "x=input()\n",
    "if (x==x[::-1]):\n",
    "    print(True)\n",
    "else:\n",
    "    print(False)"
   ]
  },
  {
   "cell_type": "code",
   "execution_count": 90,
   "id": "2556fb09",
   "metadata": {},
   "outputs": [],
   "source": [
    "#7.Write a program in Python to check whether a number is palindrome or not using recursive method.\n",
    "def p(num):\n",
    "    num_str=str(num)\n",
    "    if len(num_str)<=1:\n",
    "        return True\n",
    "    elif num_str[0]!=num_str[-1]:\n",
    "        return False\n",
    "    \n",
    "    return p(num_str[1:-1])\n"
   ]
  },
  {
   "cell_type": "code",
   "execution_count": 92,
   "id": "f8157def",
   "metadata": {},
   "outputs": [
    {
     "data": {
      "text/plain": [
       "False"
      ]
     },
     "execution_count": 92,
     "metadata": {},
     "output_type": "execute_result"
    }
   ],
   "source": [
    "p(1008)"
   ]
  },
  {
   "cell_type": "code",
   "execution_count": 93,
   "id": "935897f4",
   "metadata": {},
   "outputs": [],
   "source": [
    "#8.Write a program in Python to find greatest among three integers.\n",
    "def greatest(x,y,z):\n",
    "    if x>y and x>z:\n",
    "        return x\n",
    "    elif y>z and y>x:\n",
    "        return y\n",
    "    elif z>x and z>y:\n",
    "        return z"
   ]
  },
  {
   "cell_type": "code",
   "execution_count": 95,
   "id": "728c9ecc",
   "metadata": {},
   "outputs": [
    {
     "data": {
      "text/plain": [
       "88"
      ]
     },
     "execution_count": 95,
     "metadata": {},
     "output_type": "execute_result"
    }
   ],
   "source": [
    "greatest(34,88,6)"
   ]
  },
  {
   "cell_type": "code",
   "execution_count": 104,
   "id": "827f6186",
   "metadata": {},
   "outputs": [],
   "source": [
    "#9.Write a program in Python to check if a number is binary?\n",
    "def binary(n):\n",
    "    binary_digits={'0','1'}\n",
    "    n_str=str(n)\n",
    "    for digit in n_str:\n",
    "        if digit not in binary_digits:\n",
    "            return False\n",
    "    \n",
    "    return True"
   ]
  },
  {
   "cell_type": "code",
   "execution_count": 107,
   "id": "62bc3c79",
   "metadata": {},
   "outputs": [
    {
     "data": {
      "text/plain": [
       "True"
      ]
     },
     "execution_count": 107,
     "metadata": {},
     "output_type": "execute_result"
    }
   ],
   "source": [
    "binary(10101)"
   ]
  },
  {
   "cell_type": "code",
   "execution_count": 116,
   "id": "687ec5a9",
   "metadata": {},
   "outputs": [],
   "source": [
    "#10.Write a program in Python to find sum of digits of a number using recursion?\n",
    "\n",
    "def f1(x):\n",
    "    if x<10:\n",
    "        return x\n",
    "    else:\n",
    "        last_digit=x%10\n",
    "        rem=x//10\n",
    "        return last_digit+f1(rem)      "
   ]
  },
  {
   "cell_type": "code",
   "execution_count": 117,
   "id": "231fb89d",
   "metadata": {},
   "outputs": [
    {
     "data": {
      "text/plain": [
       "6"
      ]
     },
     "execution_count": 117,
     "metadata": {},
     "output_type": "execute_result"
    }
   ],
   "source": [
    "f1(123)"
   ]
  },
  {
   "cell_type": "code",
   "execution_count": 119,
   "id": "4f754ca6",
   "metadata": {},
   "outputs": [],
   "source": [
    "#11.Write a program in Python to swap two numbers without using third variable?\n",
    "def f1(a,b):\n",
    "    a=a+b\n",
    "    b=a-b\n",
    "    a=a-b\n",
    "    return a,b"
   ]
  },
  {
   "cell_type": "code",
   "execution_count": 120,
   "id": "f88e64b1",
   "metadata": {},
   "outputs": [
    {
     "data": {
      "text/plain": [
       "(3, 2)"
      ]
     },
     "execution_count": 120,
     "metadata": {},
     "output_type": "execute_result"
    }
   ],
   "source": [
    "f1(2,3)"
   ]
  },
  {
   "cell_type": "code",
   "execution_count": 122,
   "id": "d76a7367",
   "metadata": {},
   "outputs": [],
   "source": [
    "#12.Write a program in Python to swap two numbers using third variable?\n",
    "def swap(a, b):\n",
    "    print(\"Before swapping:\")\n",
    "    print(\"a =\", a)\n",
    "    print(\"b =\", b)\n",
    "    \n",
    "    temp = a\n",
    "    a = b\n",
    "    b = temp\n",
    "    \n",
    "    print(\"After swapping:\")\n",
    "    print(\"a =\", a)\n",
    "    print(\"b =\", b)"
   ]
  },
  {
   "cell_type": "code",
   "execution_count": 123,
   "id": "95c54b57",
   "metadata": {},
   "outputs": [
    {
     "name": "stdout",
     "output_type": "stream",
     "text": [
      "Before swapping:\n",
      "a = 2\n",
      "b = 3\n",
      "After swapping:\n",
      "a = 3\n",
      "b = 2\n"
     ]
    }
   ],
   "source": [
    "swap(2,3)"
   ]
  },
  {
   "cell_type": "code",
   "execution_count": 136,
   "id": "60e57f17",
   "metadata": {},
   "outputs": [],
   "source": [
    "#13.Write a program in Python to find prime factors of a given integer.\n",
    "def prime(n):\n",
    "    factors=[]\n",
    "    divisor=2\n",
    "    while divisor<=n:\n",
    "        if n%divisor==0:\n",
    "            factors.append(divisor)\n",
    "            n//=divisor\n",
    "        else:\n",
    "            divisor+=1\n",
    "\n",
    "    return factors"
   ]
  },
  {
   "cell_type": "code",
   "execution_count": 141,
   "id": "2db7af11",
   "metadata": {},
   "outputs": [
    {
     "data": {
      "text/plain": [
       "[2, 2, 2]"
      ]
     },
     "execution_count": 141,
     "metadata": {},
     "output_type": "execute_result"
    }
   ],
   "source": [
    "prime(8)"
   ]
  },
  {
   "cell_type": "code",
   "execution_count": 144,
   "id": "19e104d4",
   "metadata": {},
   "outputs": [],
   "source": [
    "#14.Write a program in Python to add two integer without using arithmetic operator?\n",
    "def operator(a, b):\n",
    "    while b != 0:\n",
    "        carry = a & b\n",
    "        a = a ^ b\n",
    "        b = carry << 1\n",
    "    return a"
   ]
  },
  {
   "cell_type": "code",
   "execution_count": 146,
   "id": "dde66bd4",
   "metadata": {},
   "outputs": [
    {
     "data": {
      "text/plain": [
       "15"
      ]
     },
     "execution_count": 146,
     "metadata": {},
     "output_type": "execute_result"
    }
   ],
   "source": [
    "operator(7,8)"
   ]
  },
  {
   "cell_type": "code",
   "execution_count": 163,
   "id": "adb2b43d",
   "metadata": {},
   "outputs": [],
   "source": [
    "#15.Write a program in Python to find given number is perfect or not?\n",
    "def perfect(n):\n",
    "    if n<=0:\n",
    "        return False\n",
    "    divisors_sum=0\n",
    "    for y in range(1,n):\n",
    "        if n%y==0:\n",
    "            divisors_sum+=y\n",
    "    if divisors_sum==n:\n",
    "        return True\n",
    "    else:\n",
    "        return False                                "
   ]
  },
  {
   "cell_type": "code",
   "execution_count": 164,
   "id": "81fe1bca",
   "metadata": {},
   "outputs": [
    {
     "data": {
      "text/plain": [
       "False"
      ]
     },
     "execution_count": 164,
     "metadata": {},
     "output_type": "execute_result"
    }
   ],
   "source": [
    "perfect(9)"
   ]
  },
  {
   "cell_type": "code",
   "execution_count": 4,
   "id": "b61cf599",
   "metadata": {},
   "outputs": [
    {
     "name": "stdout",
     "output_type": "stream",
     "text": [
      "enter the numbers you want to insert:3\n",
      "enter the numbers:2\n",
      "enter the numbers:3\n",
      "enter the numbers:4\n",
      "3.0\n"
     ]
    }
   ],
   "source": [
    "#16.Python Program to find the Average of numbers with explanations.\n",
    "x=int(input(\"enter the numbers you want to insert:\"))\n",
    "sum1=0\n",
    "for y in range(x):\n",
    "    z=int(input(\"enter the numbers:\"))\n",
    "    sum1+=z\n",
    "    avg=sum1/x\n",
    "print(avg) "
   ]
  },
  {
   "cell_type": "code",
   "execution_count": 28,
   "id": "8bbfcc6a",
   "metadata": {},
   "outputs": [
    {
     "name": "stdout",
     "output_type": "stream",
     "text": [
      "enter a number:5\n",
      "120\n"
     ]
    }
   ],
   "source": [
    "#17.Python Program to calculate factorial using iterative method.\n",
    "x=int(input(\"enter a number:\"))\n",
    "if fact<1:\n",
    "    print(fact)\n",
    "fact=1\n",
    "for y in range(1,x+1):\n",
    "    fact=fact*y\n",
    "print(fact)"
   ]
  },
  {
   "cell_type": "code",
   "execution_count": 25,
   "id": "20eb953d",
   "metadata": {},
   "outputs": [],
   "source": [
    "#18.Python Program to calculate factorial using recursion.\n",
    "def f1(x):\n",
    "    if x<=1:\n",
    "        return x\n",
    "    else:\n",
    "        return x*f1(x-1)\n"
   ]
  },
  {
   "cell_type": "code",
   "execution_count": 27,
   "id": "ab4c51a6",
   "metadata": {},
   "outputs": [
    {
     "data": {
      "text/plain": [
       "120"
      ]
     },
     "execution_count": 27,
     "metadata": {},
     "output_type": "execute_result"
    }
   ],
   "source": [
    "f1(5)"
   ]
  },
  {
   "cell_type": "code",
   "execution_count": 30,
   "id": "31a973bb",
   "metadata": {},
   "outputs": [
    {
     "name": "stdout",
     "output_type": "stream",
     "text": [
      "enter a number:5\n",
      "5 is odd\n"
     ]
    }
   ],
   "source": [
    "#19.Python Program to check a given number is even or odd.\n",
    "x=int(input(\"enter a number:\"))\n",
    "if x%2==0:\n",
    "    print(x,\"is even\")\n",
    "else:\n",
    "    print(x,\"is odd\")\n"
   ]
  },
  {
   "cell_type": "code",
   "execution_count": 60,
   "id": "88a4a680",
   "metadata": {},
   "outputs": [],
   "source": [
    "#20.Python program to print first n Prime Number with explanation.\n",
    "def prime(x):\n",
    "    if x<=1:\n",
    "        return False\n",
    "    for y in range(2,x):\n",
    "        if x%y==0:\n",
    "            return False\n",
    "    return True\n",
    "def is_prime(y):\n",
    "    prime_count=0\n",
    "    num=2\n",
    "    while prime_count<y:\n",
    "        if prime(num):\n",
    "            print(num,end=\" \")\n",
    "            prime_count+=1\n",
    "        num+=1"
   ]
  },
  {
   "cell_type": "code",
   "execution_count": 61,
   "id": "1057fdbb",
   "metadata": {},
   "outputs": [
    {
     "name": "stdout",
     "output_type": "stream",
     "text": [
      "2 3 5 7 11 13 17 19 23 29 31 37 41 43 47 53 59 61 67 71 73 79 83 89 97 101 103 107 109 113 127 131 137 139 149 151 157 163 167 173 179 181 191 193 197 199 211 223 227 229 233 239 241 251 257 263 269 271 277 281 283 293 307 311 313 317 331 337 347 349 353 359 367 373 379 383 389 397 401 409 419 421 431 433 439 443 449 457 461 463 467 479 487 491 499 503 509 521 523 541 "
     ]
    }
   ],
   "source": [
    "is_prime(100)"
   ]
  },
  {
   "cell_type": "code",
   "execution_count": 86,
   "id": "58ac819c",
   "metadata": {},
   "outputs": [],
   "source": [
    "#21.Python Program to print Prime Number in a given range.\n",
    "def prime(x):\n",
    "    if x<=1:\n",
    "        return False\n",
    "    for y in range(2,x):\n",
    "        if x%y==0:\n",
    "            return False\n",
    "    return True\n",
    "def prime_range(start,end):  \n",
    "    for a in range(start,end+1):\n",
    "        if prime(a):\n",
    "            print(a,end=\" \")\n",
    "\n"
   ]
  },
  {
   "cell_type": "code",
   "execution_count": 87,
   "id": "af7adc97",
   "metadata": {},
   "outputs": [
    {
     "name": "stdout",
     "output_type": "stream",
     "text": [
      "5 7 "
     ]
    }
   ],
   "source": [
    "prime_range(5,10)"
   ]
  },
  {
   "cell_type": "code",
   "execution_count": 91,
   "id": "861c7d80",
   "metadata": {},
   "outputs": [],
   "source": [
    "#22.Python Program to find Smallest number among three.\n",
    "def smallest(x,y,z):\n",
    "    if x<y and x<z:\n",
    "        return x,\"is smallest\"\n",
    "    elif y<z and y<x:\n",
    "        return y,\"is samllest\"\n",
    "    else:\n",
    "        return z,\"is smallest\"\n",
    "        "
   ]
  },
  {
   "cell_type": "code",
   "execution_count": 93,
   "id": "7bf8be75",
   "metadata": {},
   "outputs": [
    {
     "data": {
      "text/plain": [
       "(168, 'is samllest')"
      ]
     },
     "execution_count": 93,
     "metadata": {},
     "output_type": "execute_result"
    }
   ],
   "source": [
    "smallest(383,168,232)"
   ]
  },
  {
   "cell_type": "code",
   "execution_count": 101,
   "id": "60a0aa52",
   "metadata": {},
   "outputs": [],
   "source": [
    "#23.Python program to calculate the power using the POW method.\n",
    "def power(x,y):\n",
    "    return pow(x,y)"
   ]
  },
  {
   "cell_type": "code",
   "execution_count": 104,
   "id": "d9181367",
   "metadata": {},
   "outputs": [
    {
     "data": {
      "text/plain": [
       "1024"
      ]
     },
     "execution_count": 104,
     "metadata": {},
     "output_type": "execute_result"
    }
   ],
   "source": [
    "power(4,5)"
   ]
  },
  {
   "cell_type": "code",
   "execution_count": 119,
   "id": "4b39301b",
   "metadata": {},
   "outputs": [],
   "source": [
    "#24.Python Program to calculate the power without using POW function.(using for loop).\n",
    "def power(base,exponent):\n",
    "    result=1\n",
    "    if exponent>=0:\n",
    "        for x in range(exponent):\n",
    "            result*=base\n",
    "    else:\n",
    "        for y in range(abs(exponent)):\n",
    "            result/=base\n",
    "\n",
    "    return result"
   ]
  },
  {
   "cell_type": "code",
   "execution_count": 120,
   "id": "b79b090e",
   "metadata": {},
   "outputs": [
    {
     "data": {
      "text/plain": [
       "27"
      ]
     },
     "execution_count": 120,
     "metadata": {},
     "output_type": "execute_result"
    }
   ],
   "source": [
    "power(3,3)"
   ]
  },
  {
   "cell_type": "code",
   "execution_count": 121,
   "id": "85373fd3",
   "metadata": {},
   "outputs": [],
   "source": [
    "#25.Python Program to calculate the power without using POW function.(using while loop).\n",
    "def power(base,exp):\n",
    "    result=1\n",
    "    if exp>=0:\n",
    "        while exp>0:\n",
    "            result*=base\n",
    "            exp-=1\n",
    "    else:\n",
    "        while base>0:\n",
    "            result/=base\n",
    "            exp+=1\n",
    "    return result"
   ]
  },
  {
   "cell_type": "code",
   "execution_count": 122,
   "id": "cfe96da0",
   "metadata": {},
   "outputs": [
    {
     "data": {
      "text/plain": [
       "8"
      ]
     },
     "execution_count": 122,
     "metadata": {},
     "output_type": "execute_result"
    }
   ],
   "source": [
    "power(2,3)"
   ]
  },
  {
   "cell_type": "code",
   "execution_count": 137,
   "id": "8a8317c3",
   "metadata": {},
   "outputs": [],
   "source": [
    "#26.Python Program to calculate the square of a given number.\n",
    "def square(x):\n",
    "    return x**2"
   ]
  },
  {
   "cell_type": "code",
   "execution_count": 139,
   "id": "668ed747",
   "metadata": {},
   "outputs": [
    {
     "data": {
      "text/plain": [
       "25"
      ]
     },
     "execution_count": 139,
     "metadata": {},
     "output_type": "execute_result"
    }
   ],
   "source": [
    "square(5)"
   ]
  },
  {
   "cell_type": "code",
   "execution_count": 140,
   "id": "92b93d6d",
   "metadata": {},
   "outputs": [],
   "source": [
    "#27.Python Program to calculate the cube of a given number.\n",
    "def cube(x):\n",
    "    return x**3"
   ]
  },
  {
   "cell_type": "code",
   "execution_count": 143,
   "id": "ba89ff46",
   "metadata": {},
   "outputs": [
    {
     "data": {
      "text/plain": [
       "64"
      ]
     },
     "execution_count": 143,
     "metadata": {},
     "output_type": "execute_result"
    }
   ],
   "source": [
    "cube(4)"
   ]
  },
  {
   "cell_type": "code",
   "execution_count": 153,
   "id": "92ea6355",
   "metadata": {},
   "outputs": [],
   "source": [
    "#28.Python Program to calculate the square root of a given number.\n",
    "def square_root(x):\n",
    "    return math.sqrt(x)"
   ]
  },
  {
   "cell_type": "code",
   "execution_count": 154,
   "id": "30768665",
   "metadata": {},
   "outputs": [
    {
     "data": {
      "text/plain": [
       "8.0"
      ]
     },
     "execution_count": 154,
     "metadata": {},
     "output_type": "execute_result"
    }
   ],
   "source": [
    "square_root(64)"
   ]
  },
  {
   "cell_type": "code",
   "execution_count": 155,
   "id": "5e85bd7a",
   "metadata": {},
   "outputs": [],
   "source": [
    "#29.Python program to calculate LCM of given two numbers.\n",
    "def lcm(x,y):\n",
    "    max_num=max(x,y)\n",
    "    lcm=max_num\n",
    "    while True:\n",
    "        if lcm%x==0 and lcm%y==0:\n",
    "            break \n",
    "        lcm+=max_num\n",
    "    return lcm\n",
    "        "
   ]
  },
  {
   "cell_type": "code",
   "execution_count": 160,
   "id": "4da3bb0e",
   "metadata": {},
   "outputs": [
    {
     "data": {
      "text/plain": [
       "40"
      ]
     },
     "execution_count": 160,
     "metadata": {},
     "output_type": "execute_result"
    }
   ],
   "source": [
    "lcm(8,10)"
   ]
  },
  {
   "cell_type": "code",
   "execution_count": 184,
   "id": "c716c2bb",
   "metadata": {},
   "outputs": [],
   "source": [
    "#30.Python Program to find GCD or HCF of two numbers.\n",
    "def gcd(x,y):\n",
    "    if x>y:\n",
    "        greater=x\n",
    "        smaller=y\n",
    "       \n",
    "    else:\n",
    "        greater=y\n",
    "        smaller=x\n",
    "    while True:\n",
    "        z=greater%smaller\n",
    "        if z==0:\n",
    "            print(\"gcd of 2 numbers is:\",smaller)\n",
    "            break\n",
    "        greater=smaller\n",
    "        smaller=z"
   ]
  },
  {
   "cell_type": "code",
   "execution_count": 185,
   "id": "3cab63be",
   "metadata": {},
   "outputs": [
    {
     "name": "stdout",
     "output_type": "stream",
     "text": [
      "gcd of 2 numbers is: 1\n"
     ]
    }
   ],
   "source": [
    "gcd(45,23)"
   ]
  },
  {
   "cell_type": "code",
   "execution_count": 186,
   "id": "2683283b",
   "metadata": {},
   "outputs": [],
   "source": [
    "#31.Python Program to find GCD of two numbers using recursion"
   ]
  },
  {
   "cell_type": "code",
   "execution_count": 193,
   "id": "f284f440",
   "metadata": {},
   "outputs": [],
   "source": [
    "#32.Python Program to Convert Decimal Number into Binary.\n",
    "def f1(x):\n",
    "    return bin(x)"
   ]
  },
  {
   "cell_type": "code",
   "execution_count": 194,
   "id": "d3a13218",
   "metadata": {},
   "outputs": [
    {
     "data": {
      "text/plain": [
       "'0b1011001'"
      ]
     },
     "execution_count": 194,
     "metadata": {},
     "output_type": "execute_result"
    }
   ],
   "source": [
    "f1(89)"
   ]
  },
  {
   "cell_type": "code",
   "execution_count": 195,
   "id": "4d936f14",
   "metadata": {},
   "outputs": [],
   "source": [
    "#33.Python Program to convert Decimal number to Octal number.\n",
    "def f1(x):\n",
    "    return oct(x)"
   ]
  },
  {
   "cell_type": "code",
   "execution_count": 196,
   "id": "7cd8ea2a",
   "metadata": {},
   "outputs": [
    {
     "data": {
      "text/plain": [
       "'0o130'"
      ]
     },
     "execution_count": 196,
     "metadata": {},
     "output_type": "execute_result"
    }
   ],
   "source": [
    "f1(88)"
   ]
  },
  {
   "cell_type": "code",
   "execution_count": 201,
   "id": "6f0c52c0",
   "metadata": {},
   "outputs": [],
   "source": [
    "#34.Python Program to check the given year is a leap year or not.\n",
    "def leap_year(x):\n",
    "    if x%4==0:\n",
    "        return x,\"is leap year\"\n",
    "    else:\n",
    "        return x,\"is not leap year\""
   ]
  },
  {
   "cell_type": "code",
   "execution_count": 202,
   "id": "d25a2ceb",
   "metadata": {},
   "outputs": [
    {
     "data": {
      "text/plain": [
       "(2023, 'is not leap year')"
      ]
     },
     "execution_count": 202,
     "metadata": {},
     "output_type": "execute_result"
    }
   ],
   "source": [
    "leap_year(2023)"
   ]
  },
  {
   "cell_type": "code",
   "execution_count": 207,
   "id": "c0b6bb8c",
   "metadata": {},
   "outputs": [],
   "source": [
    "#35.Python Program to convert Celsius to Fahrenheit.\n",
    "def celsius_to_Fahrenheit(c):\n",
    "    return  (c*1.8)+32 \n",
    "    "
   ]
  },
  {
   "cell_type": "code",
   "execution_count": 209,
   "id": "6195ca83",
   "metadata": {},
   "outputs": [
    {
     "data": {
      "text/plain": [
       "68.0"
      ]
     },
     "execution_count": 209,
     "metadata": {},
     "output_type": "execute_result"
    }
   ],
   "source": [
    "celsius_to_Fahrenheit(20)"
   ]
  },
  {
   "cell_type": "code",
   "execution_count": 211,
   "id": "28a7c1ab",
   "metadata": {},
   "outputs": [],
   "source": [
    "#36.Python Program to convert Fahrenheit to Celsius.\n",
    "def Fahrenheit_to_Celsius(f):\n",
    "    return  (f-32)*5/9\n"
   ]
  },
  {
   "cell_type": "code",
   "execution_count": 212,
   "id": "57e3f01d",
   "metadata": {},
   "outputs": [
    {
     "data": {
      "text/plain": [
       "-20.555555555555557"
      ]
     },
     "execution_count": 212,
     "metadata": {},
     "output_type": "execute_result"
    }
   ],
   "source": [
    "Fahrenheit_to_Celsius(-5)"
   ]
  },
  {
   "cell_type": "code",
   "execution_count": 215,
   "id": "d4955e9b",
   "metadata": {},
   "outputs": [],
   "source": [
    "#37.Python program to calculate Simple Interest with explanation\n",
    "def si(p,t,r):\n",
    "    return p*t*r/100"
   ]
  },
  {
   "cell_type": "code",
   "execution_count": 216,
   "id": "ecdac332",
   "metadata": {},
   "outputs": [
    {
     "data": {
      "text/plain": [
       "93.84"
      ]
     },
     "execution_count": 216,
     "metadata": {},
     "output_type": "execute_result"
    }
   ],
   "source": [
    "si(12,34,23)"
   ]
  },
  {
   "cell_type": "code",
   "execution_count": 217,
   "id": "8bd261de",
   "metadata": {},
   "outputs": [],
   "source": [
    "#38.Python program to remove given character from String.\n",
    "def remove(s,char):\n",
    "    new_string=\"\"\n",
    "    for x in s:\n",
    "        if x!=char:\n",
    "            new_string+=x\n",
    "    return new_string"
   ]
  },
  {
   "cell_type": "code",
   "execution_count": 224,
   "id": "4a60306e",
   "metadata": {},
   "outputs": [
    {
     "data": {
      "text/plain": [
       "'varshini'"
      ]
     },
     "execution_count": 224,
     "metadata": {},
     "output_type": "execute_result"
    }
   ],
   "source": [
    "remove(\"varshiniy\",\"y\")"
   ]
  },
  {
   "cell_type": "code",
   "execution_count": 226,
   "id": "7356610d",
   "metadata": {},
   "outputs": [],
   "source": [
    "#39.Python Program to count occurrence of a given characters in string.\n",
    "def count(s,char):\n",
    "    return s.count(char)\n",
    "    "
   ]
  },
  {
   "cell_type": "code",
   "execution_count": 229,
   "id": "b5d33331",
   "metadata": {},
   "outputs": [
    {
     "data": {
      "text/plain": [
       "2"
      ]
     },
     "execution_count": 229,
     "metadata": {},
     "output_type": "execute_result"
    }
   ],
   "source": [
    "count(\"varshini\",\"i\")"
   ]
  },
  {
   "cell_type": "code",
   "execution_count": 230,
   "id": "85bc0671",
   "metadata": {},
   "outputs": [],
   "source": [
    "#40.Python Program to check if two Strings are Anagram.\n",
    "def anagram(x,y):\n",
    "    x=x.replace(\" \",\"\").lower()\n",
    "    y=y.replace(\" \",\"\").lower()\n",
    "    if len(x)!=len(y):\n",
    "        return False\n",
    "    x_list=sorted(list(x))\n",
    "    y_list=sorted(list(y))\n",
    "    \n",
    "    if x_list==y_list:\n",
    "        return True\n",
    "    else:\n",
    "        return False"
   ]
  },
  {
   "cell_type": "code",
   "execution_count": 233,
   "id": "cebf42ca",
   "metadata": {},
   "outputs": [
    {
     "data": {
      "text/plain": [
       "True"
      ]
     },
     "execution_count": 233,
     "metadata": {},
     "output_type": "execute_result"
    }
   ],
   "source": [
    "anagram(\"ate\",\"eat\")"
   ]
  },
  {
   "cell_type": "code",
   "execution_count": 234,
   "id": "313c6eb2",
   "metadata": {},
   "outputs": [],
   "source": [
    "#41.Python program to check a String is palindrome or not.\n",
    "def palindrome(x):\n",
    "    if x==x[::-1]:\n",
    "        return True\n",
    "    else:\n",
    "        return False"
   ]
  },
  {
   "cell_type": "code",
   "execution_count": 238,
   "id": "36113741",
   "metadata": {},
   "outputs": [
    {
     "data": {
      "text/plain": [
       "True"
      ]
     },
     "execution_count": 238,
     "metadata": {},
     "output_type": "execute_result"
    }
   ],
   "source": [
    "palindrome(\"madam\")"
   ]
  },
  {
   "cell_type": "code",
   "execution_count": 239,
   "id": "859aa5c8",
   "metadata": {},
   "outputs": [],
   "source": [
    "#42.Python program to check given character is vowel or consonant.\n",
    "def vowel_con(x):\n",
    "    if x==\"a\" or x==\"A\" or x==\"e\" or x==\"E\" or x==\"i\" or x==\"I\" or x==\"o\" or x==\"O\" or x==\"u\" or x==\"U\":\n",
    "        return x,\"is vowel\"\n",
    "    else:\n",
    "        return x,\"is consonant\"\n"
   ]
  },
  {
   "cell_type": "code",
   "execution_count": 242,
   "id": "21d110ee",
   "metadata": {},
   "outputs": [
    {
     "data": {
      "text/plain": [
       "('j', 'is consonant')"
      ]
     },
     "execution_count": 242,
     "metadata": {},
     "output_type": "execute_result"
    }
   ],
   "source": [
    "vowel_con(\"j\")"
   ]
  },
  {
   "cell_type": "code",
   "execution_count": 270,
   "id": "5b061050",
   "metadata": {},
   "outputs": [],
   "source": [
    "#43.Python program to check given character is digit or not.\n",
    "def digit(x):\n",
    "    if x.isdigit():\n",
    "        return True \n",
    "    else:\n",
    "        return False\n",
    "  "
   ]
  },
  {
   "cell_type": "code",
   "execution_count": 271,
   "id": "c1590034",
   "metadata": {},
   "outputs": [
    {
     "data": {
      "text/plain": [
       "True"
      ]
     },
     "execution_count": 271,
     "metadata": {},
     "output_type": "execute_result"
    }
   ],
   "source": [
    "digit(\"5678\")"
   ]
  },
  {
   "cell_type": "code",
   "execution_count": 273,
   "id": "d942d4ff",
   "metadata": {},
   "outputs": [],
   "source": [
    "#44.Python program to check given character is digit or not using isdigit() method.\n",
    "def digit(x):\n",
    "    s=0\n",
    "    for y in x:\n",
    "        if ord(y)>=33 and ord(y)<=64:\n",
    "            s+=1\n",
    "        else:\n",
    "            continue\n",
    "    if s==len(x):\n",
    "            return True\n",
    "    else:\n",
    "            return False"
   ]
  },
  {
   "cell_type": "code",
   "execution_count": 276,
   "id": "e7c9e03e",
   "metadata": {},
   "outputs": [
    {
     "data": {
      "text/plain": [
       "True"
      ]
     },
     "execution_count": 276,
     "metadata": {},
     "output_type": "execute_result"
    }
   ],
   "source": [
    "digit(\"234\")"
   ]
  },
  {
   "cell_type": "code",
   "execution_count": 283,
   "id": "2c1e860c",
   "metadata": {},
   "outputs": [],
   "source": [
    "#45.Python program to replace the string space with a given character.\n",
    "def replace(s,char):\n",
    "    new_string=\"\"\n",
    "    for x in s:\n",
    "        if x==\" \":\n",
    "            new_string+=char\n",
    "        else:\n",
    "            new_string+=x\n",
    "    return new_string"
   ]
  },
  {
   "cell_type": "code",
   "execution_count": 285,
   "id": "ce00e3d1",
   "metadata": {},
   "outputs": [
    {
     "data": {
      "text/plain": [
       "'a@b@cd'"
      ]
     },
     "execution_count": 285,
     "metadata": {},
     "output_type": "execute_result"
    }
   ],
   "source": [
    "replace(\"a b cd\",\"@\")"
   ]
  },
  {
   "cell_type": "code",
   "execution_count": 286,
   "id": "bfc7582a",
   "metadata": {},
   "outputs": [],
   "source": [
    "#46.Python program to replace the string space with a given character using replace() method.\n",
    "def replace(x,char):\n",
    "    return x.replace(\" \",char)\n",
    "            "
   ]
  },
  {
   "cell_type": "code",
   "execution_count": 288,
   "id": "5707b1b9",
   "metadata": {},
   "outputs": [
    {
     "data": {
      "text/plain": [
       "'vari@ble'"
      ]
     },
     "execution_count": 288,
     "metadata": {},
     "output_type": "execute_result"
    }
   ],
   "source": [
    "replace(\"vari ble\",\"@\")"
   ]
  },
  {
   "cell_type": "code",
   "execution_count": 289,
   "id": "dd4ecf42",
   "metadata": {},
   "outputs": [],
   "source": [
    "#47.Python program to convert lowercase char to uppercase of string.\n",
    "def lower_to_upper(x):\n",
    "    return x.upper()"
   ]
  },
  {
   "cell_type": "code",
   "execution_count": 292,
   "id": "dd8f11dc",
   "metadata": {},
   "outputs": [
    {
     "data": {
      "text/plain": [
       "'APPLE'"
      ]
     },
     "execution_count": 292,
     "metadata": {},
     "output_type": "execute_result"
    }
   ],
   "source": [
    "lower_to_upper(\"AppLE\")"
   ]
  },
  {
   "cell_type": "code",
   "execution_count": 310,
   "id": "7a6eb7e3",
   "metadata": {},
   "outputs": [],
   "source": [
    "#48.Python program to convert lowercase vowel to uppercase in string.\n",
    "def vowel(y):\n",
    "    vowels=\"aeiou\"\n",
    "    s=\"\"\n",
    "    for x in y:\n",
    "        if x in vowels:\n",
    "            s+=x.upper()\n",
    "        else:\n",
    "            s+=x\n",
    "    return s"
   ]
  },
  {
   "cell_type": "code",
   "execution_count": 311,
   "id": "34c7e681",
   "metadata": {},
   "outputs": [
    {
     "data": {
      "text/plain": [
       "'AEIOUAsdf'"
      ]
     },
     "execution_count": 311,
     "metadata": {},
     "output_type": "execute_result"
    }
   ],
   "source": [
    "vowel(\"aeiouasdf\")"
   ]
  },
  {
   "cell_type": "code",
   "execution_count": 312,
   "id": "32f4cca4",
   "metadata": {},
   "outputs": [],
   "source": [
    "#49.Python program to delete vowels in a given string.\n",
    "def vowel(y):\n",
    "    vowels=\"aeiou\"\n",
    "    s=\"\"\n",
    "    for x in y:\n",
    "        if x not in vowels:\n",
    "            s+=x\n",
    "    return s"
   ]
  },
  {
   "cell_type": "code",
   "execution_count": 316,
   "id": "0185007d",
   "metadata": {},
   "outputs": [
    {
     "data": {
      "text/plain": [
       "'ppl'"
      ]
     },
     "execution_count": 316,
     "metadata": {},
     "output_type": "execute_result"
    }
   ],
   "source": [
    "vowel(\"appleiou\")"
   ]
  },
  {
   "cell_type": "code",
   "execution_count": 330,
   "id": "b3eb8a34",
   "metadata": {},
   "outputs": [],
   "source": [
    "#50.Python program to count the Occurrence Of Vowels & Consonants in a String.\n",
    "def f1(s):\n",
    "    vowels=0\n",
    "    consonants=0\n",
    "    vowel=\"aeiou\"\n",
    "    for x in s:\n",
    "        if x in vowel:\n",
    "            vowels+=1\n",
    "        else:\n",
    "            consonants+=1\n",
    "    return \"number of vowels are:\",vowels,\"number of consonants are:\",consonants"
   ]
  },
  {
   "cell_type": "code",
   "execution_count": 331,
   "id": "a06c7af5",
   "metadata": {},
   "outputs": [
    {
     "data": {
      "text/plain": [
       "('number of vowels are:', 5, 'number of consonants are:', 21)"
      ]
     },
     "execution_count": 331,
     "metadata": {},
     "output_type": "execute_result"
    }
   ],
   "source": [
    "f1(\"abcdefghijklmnopqrstuvwxyz\")"
   ]
  },
  {
   "cell_type": "code",
   "execution_count": 339,
   "id": "a1776462",
   "metadata": {},
   "outputs": [],
   "source": [
    "#51.Python program to print the highest frequency character in a String.\n",
    "def character(string):\n",
    "    char_frequency={}\n",
    "    for char in string:\n",
    "        if char in char_frequency:\n",
    "            char_frequency[char]+=1\n",
    "        else:\n",
    "            char_frequency[char]=1\n",
    "\n",
    "    max_frequency=0\n",
    "    highest_frequency_char=\"\"\n",
    "\n",
    "    for char, frequency in char_frequency.items():\n",
    "        if frequency>max_frequency:\n",
    "            max_frequency=frequency\n",
    "            highest_frequency_char=char\n",
    "\n",
    "    return highest_frequency_char\n",
    "\n",
    "            "
   ]
  },
  {
   "cell_type": "code",
   "execution_count": 342,
   "id": "2fd4bfe1",
   "metadata": {},
   "outputs": [
    {
     "data": {
      "text/plain": [
       "'n'"
      ]
     },
     "execution_count": 342,
     "metadata": {},
     "output_type": "execute_result"
    }
   ],
   "source": [
    "character(\"python programming langunage\")"
   ]
  },
  {
   "cell_type": "code",
   "execution_count": 345,
   "id": "3f314cbf",
   "metadata": {},
   "outputs": [],
   "source": [
    "#52.Python program to Replace First Occurrence Of Vowel With ‘-‘ in String.\n",
    "def vowel(string):\n",
    "    vowels=\"aeiou\"\n",
    "    new_string=\"\"\n",
    "    found_vowel=False\n",
    "\n",
    "    for char in string:\n",
    "        if not found_vowel and char.lower() in vowels:\n",
    "            new_string+=\"-\"\n",
    "            found_vowel=True\n",
    "        else:\n",
    "            new_string+=char\n",
    "\n",
    "    return new_string"
   ]
  },
  {
   "cell_type": "code",
   "execution_count": 346,
   "id": "641a6436",
   "metadata": {},
   "outputs": [
    {
     "data": {
      "text/plain": [
       "'sh- gave me a book'"
      ]
     },
     "execution_count": 346,
     "metadata": {},
     "output_type": "execute_result"
    }
   ],
   "source": [
    "vowel(\"she gave me a book\")"
   ]
  },
  {
   "cell_type": "code",
   "execution_count": 376,
   "id": "9cca5d30",
   "metadata": {},
   "outputs": [],
   "source": [
    "#53.Python program to count alphabets, digits and special characters.\n",
    "def counts(x):\n",
    "    alphabets=0\n",
    "    digits=0\n",
    "    special_characters=0\n",
    "    for y in x:\n",
    "        if y.isalpha():\n",
    "            alphabets+=1\n",
    "        elif y.isdigit():\n",
    "            digits+=1\n",
    "        else:\n",
    "            special_characters+=1\n",
    "    return  alphabets,digits,special_characters    "
   ]
  },
  {
   "cell_type": "code",
   "execution_count": 377,
   "id": "e9f52cae",
   "metadata": {},
   "outputs": [
    {
     "data": {
      "text/plain": [
       "(3, 3, 3)"
      ]
     },
     "execution_count": 377,
     "metadata": {},
     "output_type": "execute_result"
    }
   ],
   "source": [
    "counts(\"abc#@$234\")"
   ]
  },
  {
   "cell_type": "code",
   "execution_count": 378,
   "id": "7de8f0aa",
   "metadata": {},
   "outputs": [],
   "source": [
    "#54.Python program to separate characters in a given string.\n",
    "def f1(x):\n",
    "    seprated_char=\" \".join(x)\n",
    "    return seprated_char"
   ]
  },
  {
   "cell_type": "code",
   "execution_count": 380,
   "id": "60b7edf3",
   "metadata": {},
   "outputs": [
    {
     "data": {
      "text/plain": [
       "'v a r s h i n i'"
      ]
     },
     "execution_count": 380,
     "metadata": {},
     "output_type": "execute_result"
    }
   ],
   "source": [
    "f1(\"varshini\")"
   ]
  },
  {
   "cell_type": "code",
   "execution_count": 389,
   "id": "b1ae8686",
   "metadata": {},
   "outputs": [],
   "source": [
    "#55.Python program to remove blank space from string.\n",
    "def f1(x):\n",
    "    return x.replace(\" \",\"\")"
   ]
  },
  {
   "cell_type": "code",
   "execution_count": 391,
   "id": "07713880",
   "metadata": {},
   "outputs": [
    {
     "data": {
      "text/plain": [
       "'abcd'"
      ]
     },
     "execution_count": 391,
     "metadata": {},
     "output_type": "execute_result"
    }
   ],
   "source": [
    "f1(\" ab cd \")"
   ]
  },
  {
   "cell_type": "code",
   "execution_count": 401,
   "id": "fc7572bf",
   "metadata": {},
   "outputs": [],
   "source": [
    "#56.Python program to concatenate two strings using join() method.\n",
    "def f1(x,y):\n",
    "    two_strings=\"\".join([x,y])\n",
    "    return two_strings"
   ]
  },
  {
   "cell_type": "code",
   "execution_count": 403,
   "id": "2101056d",
   "metadata": {},
   "outputs": [
    {
     "data": {
      "text/plain": [
       "'seethavarshini'"
      ]
     },
     "execution_count": 403,
     "metadata": {},
     "output_type": "execute_result"
    }
   ],
   "source": [
    "f1(\"seetha\",\"varshini\")"
   ]
  },
  {
   "cell_type": "code",
   "execution_count": 404,
   "id": "fe3f3e7c",
   "metadata": {},
   "outputs": [],
   "source": [
    "#57.Python program to concatenate two strings without using join() method.\n",
    "def concat(x,y):\n",
    "    return x+y"
   ]
  },
  {
   "cell_type": "code",
   "execution_count": 406,
   "id": "c782c806",
   "metadata": {},
   "outputs": [
    {
     "data": {
      "text/plain": [
       "'abcd'"
      ]
     },
     "execution_count": 406,
     "metadata": {},
     "output_type": "execute_result"
    }
   ],
   "source": [
    "concat(\"ab\",\"cd\")"
   ]
  },
  {
   "cell_type": "code",
   "execution_count": 411,
   "id": "9b8504f9",
   "metadata": {},
   "outputs": [],
   "source": [
    "#58.Python program to remove repeated character from string.\n",
    "def remove_char(x):\n",
    "    s=\"\"\n",
    "    for y in x:\n",
    "        if y not in s:\n",
    "            s+=y\n",
    "    return s\n",
    "        "
   ]
  },
  {
   "cell_type": "code",
   "execution_count": 412,
   "id": "17be1129",
   "metadata": {},
   "outputs": [
    {
     "data": {
      "text/plain": [
       "'varshin'"
      ]
     },
     "execution_count": 412,
     "metadata": {},
     "output_type": "execute_result"
    }
   ],
   "source": [
    "remove_char(\"varshini\")"
   ]
  },
  {
   "cell_type": "code",
   "execution_count": 415,
   "id": "8ed7b474",
   "metadata": {},
   "outputs": [],
   "source": [
    "#59.Python program to calculate sum of integers in string.\n",
    "def integers(s):\n",
    "    numbers=[]\n",
    "    current_number=\"\"\n",
    "    for x in s:\n",
    "        if x.isdigit():\n",
    "            current_number+=x\n",
    "        elif current_number:\n",
    "            numbers.append(int(current_number))\n",
    "            current_number=\"\"\n",
    "    if current_number:\n",
    "        numbers.append(int(current_number))\n",
    "    return sum(numbers)\n"
   ]
  },
  {
   "cell_type": "code",
   "execution_count": 418,
   "id": "d21e1ef5",
   "metadata": {},
   "outputs": [
    {
     "data": {
      "text/plain": [
       "15"
      ]
     },
     "execution_count": 418,
     "metadata": {},
     "output_type": "execute_result"
    }
   ],
   "source": [
    "integers(\"there are 5 apples and 10 oranges \")"
   ]
  },
  {
   "cell_type": "code",
   "execution_count": 438,
   "id": "e74a7a58",
   "metadata": {},
   "outputs": [],
   "source": [
    "#60.Python program to print all non repeating character in string.\n",
    "def f1(s):\n",
    "    char_counts={}\n",
    "    non_repeating_chars=[]\n",
    "    for x in s:\n",
    "        if x in char_counts:\n",
    "            char_counts[x]+=1\n",
    "        else:\n",
    "            char_counts[x]=1\n",
    "\n",
    "    for x in s:\n",
    "        if char_counts[x]==1:\n",
    "            non_repeating_chars.append(x)\n",
    "    \n",
    "    for x in non_repeating_chars:\n",
    "        print(x) "
   ]
  },
  {
   "cell_type": "code",
   "execution_count": 439,
   "id": "590a1c6b",
   "metadata": {},
   "outputs": [
    {
     "name": "stdout",
     "output_type": "stream",
     "text": [
      "v\n",
      "j\n",
      "i\n",
      "w\n",
      "k\n",
      "y\n",
      "b\n"
     ]
    }
   ],
   "source": [
    "f1(\"vuasjsiuwkausygbg\")"
   ]
  },
  {
   "cell_type": "code",
   "execution_count": 440,
   "id": "4e1aee41",
   "metadata": {},
   "outputs": [],
   "source": [
    "#61.Python program to copy one string to another string.\n",
    "def f1(x):\n",
    "    new_string=x\n",
    "    return new_string"
   ]
  },
  {
   "cell_type": "code",
   "execution_count": 441,
   "id": "1b0e5e57",
   "metadata": {},
   "outputs": [
    {
     "data": {
      "text/plain": [
       "'python'"
      ]
     },
     "execution_count": 441,
     "metadata": {},
     "output_type": "execute_result"
    }
   ],
   "source": [
    "f1(\"python\")"
   ]
  },
  {
   "cell_type": "code",
   "execution_count": 452,
   "id": "31a74fb3",
   "metadata": {},
   "outputs": [],
   "source": [
    "#62.Python Program to sort characters of string in ascending order.\n",
    "def ascending(x):\n",
    "    l=list(x)\n",
    "    y=sorted(l)\n",
    "    return \"\".join(y)"
   ]
  },
  {
   "cell_type": "code",
   "execution_count": 453,
   "id": "521e5838",
   "metadata": {},
   "outputs": [
    {
     "data": {
      "text/plain": [
       "'aabcdkrw'"
      ]
     },
     "execution_count": 453,
     "metadata": {},
     "output_type": "execute_result"
    }
   ],
   "source": [
    "ascending(\"drawback\")"
   ]
  },
  {
   "cell_type": "code",
   "execution_count": 454,
   "id": "0b318f4d",
   "metadata": {},
   "outputs": [],
   "source": [
    "#63.Python Program to sort character of string in descending order.\n",
    "def descending(x):\n",
    "    l=list(x)\n",
    "    y=sorted(l,reverse=True)\n",
    "    return \"\".join(y)"
   ]
  },
  {
   "cell_type": "code",
   "execution_count": 455,
   "id": "7a58e411",
   "metadata": {},
   "outputs": [
    {
     "data": {
      "text/plain": [
       "'wrkdcbaa'"
      ]
     },
     "execution_count": 455,
     "metadata": {},
     "output_type": "execute_result"
    }
   ],
   "source": [
    "descending(\"drawback\")"
   ]
  },
  {
   "cell_type": "code",
   "execution_count": null,
   "id": "af2d1e91",
   "metadata": {},
   "outputs": [],
   "source": []
  }
 ],
 "metadata": {
  "kernelspec": {
   "display_name": "Python 3 (ipykernel)",
   "language": "python",
   "name": "python3"
  },
  "language_info": {
   "codemirror_mode": {
    "name": "ipython",
    "version": 3
   },
   "file_extension": ".py",
   "mimetype": "text/x-python",
   "name": "python",
   "nbconvert_exporter": "python",
   "pygments_lexer": "ipython3",
   "version": "3.10.9"
  }
 },
 "nbformat": 4,
 "nbformat_minor": 5
}
