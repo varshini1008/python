{
 "cells": [
  {
   "cell_type": "code",
   "execution_count": 12,
   "id": "0562e013",
   "metadata": {},
   "outputs": [
    {
     "name": "stdout",
     "output_type": "stream",
     "text": [
      "enter a string:ABCDE\n",
      "abcde\n"
     ]
    }
   ],
   "source": [
    "#1.write a python program to convert a string into lower case\n",
    "x=input(\"enter a string:\")\n",
    "for z in x:\n",
    "     x=x.lower()\n",
    "print(x)"
   ]
  },
  {
   "cell_type": "code",
   "execution_count": 20,
   "id": "c89908de",
   "metadata": {},
   "outputs": [
    {
     "name": "stdout",
     "output_type": "stream",
     "text": [
      "enter the string:ABCDE\n",
      "AbCdE\n"
     ]
    }
   ],
   "source": [
    "#2.write a python program to convert only odd indexed character to lower case\n",
    "x=input(\"enter the string:\")\n",
    "z=list(x)\n",
    "y=0;a=\"\"\n",
    "while y<len(x):\n",
    "    if y%2!=0:\n",
    "        z[y]=z[y].lower()\n",
    "    a+=str(z[y])\n",
    "    y+=1\n",
    "print(a) "
   ]
  },
  {
   "cell_type": "code",
   "execution_count": 22,
   "id": "72127acb",
   "metadata": {},
   "outputs": [
    {
     "name": "stdout",
     "output_type": "stream",
     "text": [
      "enter the string:12SHINE23\n",
      "12sHiNe23\n"
     ]
    }
   ],
   "source": [
    "#3.write a python program to convert only even indexed character to lower case\n",
    "x=input(\"enter the string:\")\n",
    "z=list(x)\n",
    "y=0;a=\"\"\n",
    "while y<len(x):\n",
    "    if y%2==0:\n",
    "        z[y]=z[y].lower()\n",
    "    a+=str(z[y])\n",
    "    y+=1\n",
    "print(a) "
   ]
  },
  {
   "cell_type": "code",
   "execution_count": 16,
   "id": "984d698e",
   "metadata": {},
   "outputs": [
    {
     "name": "stdout",
     "output_type": "stream",
     "text": [
      "enter the string:python\n",
      "pYtHoN\n"
     ]
    }
   ],
   "source": [
    "#4.write a python program to convert only odd indexed character to upper case\n",
    "x=input(\"enter the string:\")\n",
    "z=list(x)\n",
    "y=0;a=\"\"\n",
    "while y<len(x):\n",
    "    if y%2!=0:\n",
    "        z[y]=z[y].upper()\n",
    "    a+=str(z[y])\n",
    "    y+=1\n",
    "print(a) "
   ]
  },
  {
   "cell_type": "code",
   "execution_count": 23,
   "id": "9c2e0eb8",
   "metadata": {},
   "outputs": [
    {
     "name": "stdout",
     "output_type": "stream",
     "text": [
      "enter the string:$123python@789\n",
      "$123PyThOn@789\n"
     ]
    }
   ],
   "source": [
    "#5.write a python program to convert only even indexed character to upper case\n",
    "x=input(\"enter the string:\")\n",
    "z=list(x)\n",
    "y=0;a=\"\"\n",
    "while y<len(x):\n",
    "    if y%2==0:\n",
    "        z[y]=z[y].upper()\n",
    "    a+=str(z[y])\n",
    "    y+=1\n",
    "print(a) "
   ]
  },
  {
   "cell_type": "code",
   "execution_count": 30,
   "id": "ab7bf316",
   "metadata": {},
   "outputs": [
    {
     "name": "stdout",
     "output_type": "stream",
     "text": [
      "enter your sname:varshini\n",
      "enter your sex:female\n",
      "enter your age:21\n",
      "enter your phonenumber:1234567890\n",
      "enter your father's name:Shyam sunder\n",
      "enter your mother's name Himabindu\n",
      "My name is varshini,my sex is female,my age is 21,my phone-no is 1234567890,my father's name is Shyam sunder,my mother's name is Himabindu\n"
     ]
    }
   ],
   "source": [
    "#6.Write a python program where you have different variable which contains your name,sex,age, phone no ,fathers name and mothers name.And by using this variable create a variable named bio-data where you will use all this variable\n",
    "sname=input(\"enter your sname:\")\n",
    "sex=input(\"enter your sex:\")\n",
    "age=int(input(\"enter your age:\"))\n",
    "phoneno=int(input(\"enter your phonenumber:\"))\n",
    "fathername=input(\"enter your father's name:\")\n",
    "mothername=input(\"enter your mother's name \")\n",
    "bio_data=\"My name is {},my sex is {},my age is {},my phone-no is {},my father's name is {},my mother's name is {}\"\n",
    "print(bio_data.format(sname,sex,age,phoneno,fathername,mothername))"
   ]
  },
  {
   "cell_type": "code",
   "execution_count": 19,
   "id": "c8b365e2",
   "metadata": {},
   "outputs": [
    {
     "data": {
      "text/plain": [
       "3"
      ]
     },
     "execution_count": 19,
     "metadata": {},
     "output_type": "execute_result"
    }
   ],
   "source": [
    "#7.Write a python program to count how many times “@” occurred \n",
    "x=\"@13@4@\"\n",
    "x.count(\"@\")"
   ]
  },
  {
   "cell_type": "code",
   "execution_count": 20,
   "id": "f870798f",
   "metadata": {},
   "outputs": [
    {
     "data": {
      "text/plain": [
       "('seetha', 'varshini', 'shiny')"
      ]
     },
     "execution_count": 20,
     "metadata": {},
     "output_type": "execute_result"
    }
   ],
   "source": [
    "#8.Write a python program to get only names from the string “name1.@gmail.com,name2.@gmail.com,name3.@gmail.com”\n",
    "x=\"seetha@gmail.com,varshini@gmail.com,shiny@gmail.com\"\n",
    "x[0:6],x[17:25],x[36:41]\n"
   ]
  },
  {
   "cell_type": "code",
   "execution_count": 21,
   "id": "c0664c00",
   "metadata": {},
   "outputs": [
    {
     "data": {
      "text/plain": [
       "'mei'"
      ]
     },
     "execution_count": 21,
     "metadata": {},
     "output_type": "execute_result"
    }
   ],
   "source": [
    "#9.Given a string of odd length greater that 9,return a new string made of the middle three characters of a given String\n",
    "#Ex:- “mynameissan\" Output:- “mei”\n",
    "x=\"mynameissan\"\n",
    "x[4:7]"
   ]
  },
  {
   "cell_type": "code",
   "execution_count": 29,
   "id": "96334948",
   "metadata": {},
   "outputs": [
    {
     "data": {
      "text/plain": [
       "'msayn'"
      ]
     },
     "execution_count": 29,
     "metadata": {},
     "output_type": "execute_result"
    }
   ],
   "source": [
    "#10. Write a python program to insert a 2 string in the middle of 1 string\n",
    "#Ex:-Str1=”myn”\n",
    " #Str2=”sa” Output:-“msayn”\n",
    "str1=\"myn\"\n",
    "str2=\"sa\"  \n",
    "str1[0]+str2[0:]+str1[1:]"
   ]
  },
  {
   "cell_type": "code",
   "execution_count": 2,
   "id": "fdd4eef9",
   "metadata": {},
   "outputs": [
    {
     "name": "stdout",
     "output_type": "stream",
     "text": [
      "give a string: seetha varshini\n",
      "sth vrshn\n"
     ]
    }
   ],
   "source": [
    "#11. Write a program to remove vowels from the entire alphabets\n",
    "#Ex:- “abcdefghijklmnopqrstuvwxyz”\n",
    "x=input(\"give a string: \")\n",
    "a=\"\"\n",
    "for z in range(0,len(x)):\n",
    "    if x[z]==\"a\" or x[z]==\"e\" or x[z]==\"i\" or x[z]==\"o\" or x[z]==\"u\" or x[z]==\"A\" or x[z]==\"E\" or x[z]==\"I\" or x[z]==\"O\" or x[z]==\"U\":\n",
    "        a+=\"\"\n",
    "    else:\n",
    "        a+=x[z]\n",
    "print(a)"
   ]
  },
  {
   "cell_type": "code",
   "execution_count": null,
   "id": "dadff7af",
   "metadata": {},
   "outputs": [],
   "source": []
  }
 ],
 "metadata": {
  "kernelspec": {
   "display_name": "Python 3 (ipykernel)",
   "language": "python",
   "name": "python3"
  },
  "language_info": {
   "codemirror_mode": {
    "name": "ipython",
    "version": 3
   },
   "file_extension": ".py",
   "mimetype": "text/x-python",
   "name": "python",
   "nbconvert_exporter": "python",
   "pygments_lexer": "ipython3",
   "version": "3.10.9"
  }
 },
 "nbformat": 4,
 "nbformat_minor": 5
}
