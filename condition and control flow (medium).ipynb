{
 "cells": [
  {
   "cell_type": "code",
   "execution_count": 42,
   "id": "5cf919cf",
   "metadata": {},
   "outputs": [],
   "source": [
    "#1 Create a function that takes two number strings and returns their sum as a string.\n",
    "\n",
    "def string(num1,num2):\n",
    "    if not num1.isdigit() or not num2.isdigit():\n",
    "        return \"invalid operation\"\n",
    "    else:\n",
    "        x=int(num1)\n",
    "        y=int(num2)\n",
    "        return str(x+y)\n",
    "     "
   ]
  },
  {
   "cell_type": "code",
   "execution_count": 45,
   "id": "a91b3ce6",
   "metadata": {},
   "outputs": [
    {
     "name": "stdout",
     "output_type": "stream",
     "text": [
      "222\n",
      "invalid operation\n"
     ]
    }
   ],
   "source": [
    "print(string(\"111\",\"111\"))\n",
    "print(string(\"\",\"111\"))"
   ]
  },
  {
   "cell_type": "code",
   "execution_count": 47,
   "id": "99de9e44",
   "metadata": {},
   "outputs": [],
   "source": [
    "#2 Create a function to find only the root value of x in any quadratic equation ax^2 + bx + c. The function will take three arguments:\n",
    "#a as the coefficient of x^2\n",
    "#b as the coefficient of x\n",
    "#c as the constant term\n",
    "\n",
    "def quadratic_equation(a, b, c):\n",
    "    discriminant = b**2 - 4*a*c\n",
    "    \n",
    "    if discriminant < 0:\n",
    "        return \"No real roots\"\n",
    "    \n",
    "    root = (-b + discriminant**0.5) / (2*a)\n",
    "    return root"
   ]
  },
  {
   "cell_type": "code",
   "execution_count": 49,
   "id": "81701ce5",
   "metadata": {},
   "outputs": [
    {
     "data": {
      "text/plain": [
       "1.0"
      ]
     },
     "execution_count": 49,
     "metadata": {},
     "output_type": "execute_result"
    }
   ],
   "source": [
    " quadratic_equation(1,2,-3)"
   ]
  },
  {
   "cell_type": "code",
   "execution_count": 109,
   "id": "c482e6bd",
   "metadata": {},
   "outputs": [],
   "source": [
    "#3 In each input list, every number repeats at least once, except for two. Write a function that returns the two unique numbers.\n",
    "\n",
    "def unique_num(x):\n",
    "    l={}\n",
    "    for y in x:\n",
    "        if y in l:\n",
    "            l[y]+=1\n",
    "        else:\n",
    "            l[y]=1\n",
    "         \n",
    "    lst=[]\n",
    "    \n",
    "    for y,z in l.items():\n",
    "        if z==1:\n",
    "            lst.append(y)\n",
    "    \n",
    "    return lst"
   ]
  },
  {
   "cell_type": "code",
   "execution_count": 111,
   "id": "b78dd316",
   "metadata": {},
   "outputs": [
    {
     "data": {
      "text/plain": [
       "[4, 5]"
      ]
     },
     "execution_count": 111,
     "metadata": {},
     "output_type": "execute_result"
    }
   ],
   "source": [
    "unique_num([2,2,3,3,4,5])"
   ]
  },
  {
   "cell_type": "code",
   "execution_count": 177,
   "id": "d0a37b2c",
   "metadata": {},
   "outputs": [],
   "source": [
    "#4 Create a function that takes two parameters and, if both parameters are strings, add them as if they were integers or if the two parameters are integers, concatenate them.\n",
    "\n",
    "def f1(x,y):\n",
    "    if type(x)==str and type(y)==str:       \n",
    "        return int(x)+int(y)\n",
    "    elif type(x)==int and type(y)==int:\n",
    "        return str(x)+str(y)\n",
    "    else:\n",
    "        return \n",
    "        \n",
    "        "
   ]
  },
  {
   "cell_type": "code",
   "execution_count": 178,
   "id": "58a45352",
   "metadata": {},
   "outputs": [
    {
     "name": "stdout",
     "output_type": "stream",
     "text": [
      "3\n",
      "None\n",
      "12\n"
     ]
    }
   ],
   "source": [
    "print(f1(\"1\",\"2\"))\n",
    "print(f1(1,\"2\"))\n",
    "print(f1(1,2))"
   ]
  },
  {
   "cell_type": "code",
   "execution_count": 187,
   "id": "cc618d85",
   "metadata": {},
   "outputs": [],
   "source": [
    "#5 Transcribe the given DNA strand into corresponding mRNA - a type of RNA, that will be formed from it after transcription. DNA has the bases A, T, G and C, while RNA converts to U, A, C and G respectively.\n",
    "\n",
    "def RNA(x):\n",
    "    table=x.maketrans(\"ATGC\",\"UACG\")\n",
    "    y=x.translate(table)\n",
    "    return y"
   ]
  },
  {
   "cell_type": "code",
   "execution_count": 189,
   "id": "0f405a76",
   "metadata": {},
   "outputs": [
    {
     "data": {
      "text/plain": [
       "'GCUAUAU'"
      ]
     },
     "execution_count": 189,
     "metadata": {},
     "output_type": "execute_result"
    }
   ],
   "source": [
    "RNA(\"CGATATA\")"
   ]
  },
  {
   "cell_type": "code",
   "execution_count": 201,
   "id": "689f61ab",
   "metadata": {},
   "outputs": [],
   "source": [
    "#6 Create a function that takes three values:\n",
    "#h hours\n",
    "#m minutes\n",
    "#s seconds\n",
    "#Return the value that's the longest duration.\n",
    "\n",
    "def longest_duration(h,m,s):\n",
    "    duration_seconds = h*3600 + m*60 + s\n",
    "    if duration_seconds == max(h*3600, m*60, s):\n",
    "        return h\n",
    "    elif duration_seconds == max(m*60, s):\n",
    "        return m\n",
    "    else:\n",
    "        return s"
   ]
  },
  {
   "cell_type": "code",
   "execution_count": 203,
   "id": "608aba65",
   "metadata": {},
   "outputs": [
    {
     "data": {
      "text/plain": [
       "59400"
      ]
     },
     "execution_count": 203,
     "metadata": {},
     "output_type": "execute_result"
    }
   ],
   "source": [
    "longest_duration(15, 955, 59400)"
   ]
  },
  {
   "cell_type": "code",
   "execution_count": 3,
   "id": "cd5d185d",
   "metadata": {},
   "outputs": [],
   "source": [
    "#7 YouTube currently displays a like and a dislike button, allowing you to express your opinions about particular content. It's set up in such a way that you cannot like and dislike a video at the same time.\n",
    "#There are two other interesting rules to be noted about the interface:\n",
    "#Pressing a button, which is already active, will undo your press.\n",
    "#If you press the like button after pressing the dislike button, the like button overwrites the previous \"dislike\" state. The same is true for the other way round.\n",
    "#Create a function that takes in a list of button inputs and returns the final state.\n",
    "\n",
    "def youtube(x):\n",
    "    state = \"Nothing\"  \n",
    "    \n",
    "    for button in x:\n",
    "        if button == \"Like\":\n",
    "            if state == \"Like\":\n",
    "                state = \"Nothing\" \n",
    "            else:\n",
    "                state = \"Like\" \n",
    "        elif button == \"Dislike\":\n",
    "            if state == \"Dislike\":\n",
    "                state = \"Nothing\"  \n",
    "            else:\n",
    "                state = \"Dislike\"  \n",
    "    \n",
    "    return state"
   ]
  },
  {
   "cell_type": "code",
   "execution_count": 9,
   "id": "50c09b22",
   "metadata": {},
   "outputs": [
    {
     "name": "stdout",
     "output_type": "stream",
     "text": [
      "Dislike\n",
      "Nothing\n"
     ]
    }
   ],
   "source": [
    "print(youtube([\"Dislike\"]))\n",
    "print(youtube([\"Like\",\"Like\"]))"
   ]
  },
  {
   "cell_type": "code",
   "execution_count": 17,
   "id": "4275b2f0",
   "metadata": {},
   "outputs": [],
   "source": [
    "#8 Create a function that determines whether a number is Oddish or Evenish. A number is Oddish if the sum of all of its digits is odd, and a number is Evenish if the sum of all of its digits is even. If a number is Oddish, return \"Oddish\". Otherwise, return \"Evenish\"\n",
    "#For example, oddish_or_evenish(121) should return \"Evenish\", since 1 + 2 + 1 = 4. oddish_or_evenish(41) should return \"Oddish\", since 4 + 1 = 5.\n",
    "\n",
    "def number(x):\n",
    "    digit_sum = sum(int(digit) for digit in str(x))\n",
    "    \n",
    "    if digit_sum % 2 == 0:\n",
    "        return \"Evenish\"\n",
    "    else:\n",
    "        return \"Oddish\""
   ]
  },
  {
   "cell_type": "code",
   "execution_count": 18,
   "id": "8fbd1500",
   "metadata": {},
   "outputs": [
    {
     "data": {
      "text/plain": [
       "'Evenish'"
      ]
     },
     "execution_count": 18,
     "metadata": {},
     "output_type": "execute_result"
    }
   ],
   "source": [
    "number(121)"
   ]
  },
  {
   "cell_type": "code",
   "execution_count": 43,
   "id": "0ac76147",
   "metadata": {},
   "outputs": [],
   "source": [
    "#9 Create a function (named fifth) that takes some arguments and returns the type of the fifth argument. In case the arguments were less than 5, return \"Not enough arguments\".\n",
    "\n",
    "def fifth(*args):\n",
    "    if len(args)<5:\n",
    "        return \"not enough arguments\"\n",
    "    else:\n",
    "         return type(args[4])"
   ]
  },
  {
   "cell_type": "code",
   "execution_count": 44,
   "id": "de494ea7",
   "metadata": {},
   "outputs": [
    {
     "name": "stdout",
     "output_type": "stream",
     "text": [
      "<class 'str'>\n",
      "not enough arguments\n"
     ]
    }
   ],
   "source": [
    "print(fifth(1,2,3,4,\"five\"))\n",
    "print(fifth(2))"
   ]
  },
  {
   "cell_type": "code",
   "execution_count": 58,
   "id": "2bb38cd7",
   "metadata": {},
   "outputs": [],
   "source": [
    "#10 Create a function that takes a string and censors words over four characters with *.\n",
    "\n",
    "def censors(x):\n",
    "    words=x.split()\n",
    "    censored_words=[]\n",
    "    for y in words:\n",
    "        if len(y)>4:\n",
    "            censored_words.append(\"*\" * len(y))\n",
    "        else:\n",
    "             censored_words.append(y)\n",
    "    return \" \".join(censored_words)"
   ]
  },
  {
   "cell_type": "code",
   "execution_count": 59,
   "id": "6f3a63bf",
   "metadata": {},
   "outputs": [
    {
     "data": {
      "text/plain": [
       "'The ******** in the east'"
      ]
     },
     "execution_count": 59,
     "metadata": {},
     "output_type": "execute_result"
    }
   ],
   "source": [
    "censors(\"The sunrises in the east\")"
   ]
  },
  {
   "cell_type": "code",
   "execution_count": 86,
   "id": "ddee593c",
   "metadata": {},
   "outputs": [],
   "source": [
    "#11 Given two strings comprised of + and -, return a new string which shows how the two strings interact in the following way:\n",
    "#When positives and positives interact, they remain positive.\n",
    "#When negatives and negatives interact, they remain negative.\n",
    "#But when negatives and positives interact, they become neutral, and are shown as the number 0.\n",
    "\n",
    "def pos_neg(a,b):\n",
    "    s=\"\"\n",
    "    length=min(len(a),len(b))\n",
    "    for i in range(length):\n",
    "            if a[i]==\"+\" and b[i]==\"+\":\n",
    "                    s+=\"+\"\n",
    "            elif a[i]==\"-\" and b[i]==\"-\":\n",
    "                    s+=\"-\"\n",
    "            else:\n",
    "                    s+=\"0\"\n",
    "    return s   "
   ]
  },
  {
   "cell_type": "code",
   "execution_count": 88,
   "id": "fa70184b",
   "metadata": {},
   "outputs": [
    {
     "data": {
      "text/plain": [
       "'--00'"
      ]
     },
     "execution_count": 88,
     "metadata": {},
     "output_type": "execute_result"
    }
   ],
   "source": [
    "pos_neg(\"--++\",\"----\")"
   ]
  },
  {
   "cell_type": "code",
   "execution_count": 89,
   "id": "57de63da",
   "metadata": {},
   "outputs": [],
   "source": [
    "#12 Write a function that takes a list of two numbers and determines if the sum of the digits in each number are equal to each other.\n",
    "\n",
    "def sum1(x):\n",
    "    num1=x[0]\n",
    "    num2=x[1]\n",
    "    sum_digit1=sum(int(digit) for digit in str(num1))\n",
    "    sum_digit2=sum(int(digit) for digit in str(num2))\n",
    "    return sum_digit1==sum_digit2\n",
    "            "
   ]
  },
  {
   "cell_type": "code",
   "execution_count": 93,
   "id": "426008fb",
   "metadata": {},
   "outputs": [
    {
     "data": {
      "text/plain": [
       "True"
      ]
     },
     "execution_count": 93,
     "metadata": {},
     "output_type": "execute_result"
    }
   ],
   "source": [
    "sum1([56,191])"
   ]
  },
  {
   "cell_type": "code",
   "execution_count": 96,
   "id": "14caa038",
   "metadata": {},
   "outputs": [],
   "source": [
    "#13 You will be given a list of numbers which represent your character's altitude above sea level at regular intervals:\n",
    "#Positive numbers represent height above the water.\n",
    "#0 is sea level.\n",
    "#Negative numbers represent depth below the water's surface.\n",
    "#Create a function which returns whether your character survives their unsupervised diving experience, given a list of integers.\n",
    "#Your character starts with a breath meter of 10, which is the maximum. When diving underwater, your breath meter decreases by 2 per item in the array. Watch out! If your breath diminishes to 0, your character dies!\n",
    "#To prevent this, you can replenish your breath by 4 (up to the maximum of 10) for each item in the array where you are at or above sea level.\n",
    "#Your function should return True if your character survives, and False if not.\n",
    "\n",
    "def s(altitudes):\n",
    "    breath_meter = 10\n",
    "    \n",
    "    for altitude in altitudes:\n",
    "        if altitude >= 0:\n",
    "            breath_meter = min(breath_meter + 4, 10)\n",
    "        else:\n",
    "            breath_meter -= 2\n",
    "        \n",
    "        if breath_meter <= 0:\n",
    "            return False\n",
    "    \n",
    "    return True"
   ]
  },
  {
   "cell_type": "code",
   "execution_count": 97,
   "id": "d8439fce",
   "metadata": {},
   "outputs": [
    {
     "data": {
      "text/plain": [
       "True"
      ]
     },
     "execution_count": 97,
     "metadata": {},
     "output_type": "execute_result"
    }
   ],
   "source": [
    "s([1, 2, 3, 4, 5, 6, 7, 8, 9, 10])"
   ]
  },
  {
   "cell_type": "code",
   "execution_count": 100,
   "id": "76befcb4",
   "metadata": {},
   "outputs": [],
   "source": [
    "#14 Write a function that does the following operations: adding, subtracting, dividing, or multiplying values. It is simply referred to as variable operation variable. Of course, the variables have to be defined, but in this challenge the variables will be defined for you. All you have to do is look at the variables, do some string to integer conversions, use some if conditionals, and combine them based on the operation.\n",
    "#The numbers and operation will be given as strings, and you should return the value as a string as well.\n",
    "\n",
    "def f1(x,y,oper):\n",
    "    if oper==\"add\":\n",
    "        return str(int(x)+int(y))\n",
    "    elif oper==\"sub\":\n",
    "        return str(int(x)-int(y))\n",
    "    elif oper==\"mul\":\n",
    "        return str(int(x)*int(y))\n",
    "    elif oper==\"divide\":\n",
    "        return str(int(x)/int(y))\n",
    "        "
   ]
  },
  {
   "cell_type": "code",
   "execution_count": 108,
   "id": "21d0723d",
   "metadata": {},
   "outputs": [
    {
     "name": "stdout",
     "output_type": "stream",
     "text": [
      "3\n",
      "-1\n",
      "16\n",
      "4.0\n"
     ]
    }
   ],
   "source": [
    "print(f1(\"1\",\"2\",\"add\"))\n",
    "print(f1(\"1\",\"2\",\"sub\"))\n",
    "print(f1(\"8\",\"2\",\"mul\"))\n",
    "print(f1(\"8\",\"2\",\"divide\"))"
   ]
  },
  {
   "cell_type": "code",
   "execution_count": 112,
   "id": "37a414c0",
   "metadata": {},
   "outputs": [],
   "source": [
    "#15 Given a list of even length, copy the half with the higher sum of numbers to the other half of the list. If the sum of the first half equals the sum of the second half, return the original list.\n",
    "\n",
    "def copy_half_with_higher_sum(lst):\n",
    "    length = len(lst)\n",
    "    half_length = length // 2\n",
    "    \n",
    "    first_half = lst[:half_length]\n",
    "    second_half = lst[half_length:]\n",
    "    \n",
    "    sum_first_half = sum(first_half)\n",
    "    sum_second_half = sum(second_half)\n",
    "    \n",
    "    if sum_first_half == sum_second_half:\n",
    "        return lst\n",
    "    \n",
    "    if sum_first_half > sum_second_half:\n",
    "        lst[half_length:] = first_half\n",
    "    else:\n",
    "        lst[:half_length] = second_half\n",
    "    \n",
    "    return lst"
   ]
  },
  {
   "cell_type": "code",
   "execution_count": 113,
   "id": "f1fd2846",
   "metadata": {},
   "outputs": [
    {
     "data": {
      "text/plain": [
       "[6, 3, 1, 6, 3, 1]"
      ]
     },
     "execution_count": 113,
     "metadata": {},
     "output_type": "execute_result"
    }
   ],
   "source": [
    "copy_half_with_higher_sum([1, 2, 4, 6, 3, 1]) "
   ]
  },
  {
   "cell_type": "code",
   "execution_count": 9,
   "id": "20ec3e3b",
   "metadata": {},
   "outputs": [],
   "source": [
    "#16 Create a function which takes two strings (p1 and p2 ⁠— which represent player 1 and 2) as arguments and returns a string stating the winner in a game of Rock, Paper, Scissors.\n",
    "#Each argument will contain a single string: \"Rock\", \"Paper\", or \"Scissors\". Return the winner according to the following rules:\n",
    "#Rock beats Scissors\n",
    "#Scissors beats Paper\n",
    "#Paper beats Rock\n",
    "#If p1 wins, return the string \"The winner is p1\". If p2 wins, return the string \"The winner is p2\" and if p1 and p2 are the same, return \"It's a draw\".\n",
    "\n",
    "def player(p1,p2):\n",
    "    if p1==p2:\n",
    "         return \"its a draw\"\n",
    "    elif  (p1==\"Rock\" and  p2==\"Scissors\") or (p1==\"Scissors\" and p2==\"Paper\") or (p1==\"Paper\" and p2== \"Rock\"):\n",
    "        return \"p1 wins\"\n",
    "    else:\n",
    "        return \"p2 wins\""
   ]
  },
  {
   "cell_type": "code",
   "execution_count": 11,
   "id": "b732c009",
   "metadata": {},
   "outputs": [
    {
     "name": "stdout",
     "output_type": "stream",
     "text": [
      "p1 wins\n",
      "p2 wins\n",
      "its a draw\n"
     ]
    }
   ],
   "source": [
    "print(player(\"Rock\",\"Scissors\"))\n",
    "print(player(\"Scissors\",\"Rock\"))\n",
    "print(player(\"Scissors\",\"Scissors\"))"
   ]
  },
  {
   "cell_type": "code",
   "execution_count": 13,
   "id": "2e1fabef",
   "metadata": {},
   "outputs": [],
   "source": [
    "#17 A built-in timer inside your car can count the length of your ride in minutes and you have started your ride at 00:00.\n",
    "#Given the number of minutes n at the end of the ride, calculate the current time. Return the sum of digits that the digital timer in the format hh:mm will show at the end of the ride.\n",
    "\n",
    "def car(minutes):\n",
    "    hours = minutes // 60\n",
    "    minutes = minutes % 60\n",
    "    hour_digits_sum = sum(int(digit) for digit in str(hours))\n",
    "    minute_digits_sum = sum(int(digit) for digit in str(minutes))\n",
    "    return hour_digits_sum + minute_digits_sum"
   ]
  },
  {
   "cell_type": "code",
   "execution_count": 14,
   "id": "41d62636",
   "metadata": {},
   "outputs": [
    {
     "data": {
      "text/plain": [
       "4"
      ]
     },
     "execution_count": 14,
     "metadata": {},
     "output_type": "execute_result"
    }
   ],
   "source": [
    "car(240)"
   ]
  },
  {
   "cell_type": "code",
   "execution_count": 45,
   "id": "e1fba317",
   "metadata": {},
   "outputs": [],
   "source": [
    "#18 Check if the given string consists of only letters and spaces and if every letter is in lower case.\n",
    "\n",
    "def letters(l):\n",
    "    for char in l:\n",
    "        if not (char.isalpha() or char.isspace()):\n",
    "            return False\n",
    "        if char.isalpha() and not char.islower():\n",
    "            return False\n",
    "    return True\n",
    "        "
   ]
  },
  {
   "cell_type": "code",
   "execution_count": 49,
   "id": "bf82f19b",
   "metadata": {},
   "outputs": [
    {
     "name": "stdout",
     "output_type": "stream",
     "text": [
      "False\n",
      "False\n",
      "True\n"
     ]
    }
   ],
   "source": [
    "print(letters(\"wjb78dfgb\"))\n",
    "print(letters(\"345678\"))\n",
    "print(letters(\"i am in space\"))"
   ]
  },
  {
   "cell_type": "code",
   "execution_count": 65,
   "id": "bcf0893f",
   "metadata": {},
   "outputs": [],
   "source": [
    "#19 Given two strings, return a string containing only the letters shared between the two.\n",
    "\n",
    "def string(s1,s2):\n",
    "    s=[]\n",
    "    for y in s1:\n",
    "        if y in s2 and y not in s:\n",
    "            s.append(y)\n",
    "    s.sort()\n",
    "    return \"\".join(s)"
   ]
  },
  {
   "cell_type": "code",
   "execution_count": 66,
   "id": "5d1be1c5",
   "metadata": {},
   "outputs": [
    {
     "data": {
      "text/plain": [
       "'eho'"
      ]
     },
     "execution_count": 66,
     "metadata": {},
     "output_type": "execute_result"
    }
   ],
   "source": [
    "string(\"house\",\"home\")"
   ]
  },
  {
   "cell_type": "code",
   "execution_count": 74,
   "id": "5f9afc68",
   "metadata": {},
   "outputs": [],
   "source": [
    "#20 Given a list and chunk size \"n\", create a function such that it divides the list into many sublists where each sublist is of length size \"n\".\n",
    "\n",
    "def chunk(x,n):\n",
    "    return [x[i:i+n] for i in range(0, len(x), n)]\n",
    "     \n",
    "    "
   ]
  },
  {
   "cell_type": "code",
   "execution_count": 76,
   "id": "f35b2496",
   "metadata": {},
   "outputs": [
    {
     "data": {
      "text/plain": [
       "[[1, 2], [3, 4], [5]]"
      ]
     },
     "execution_count": 76,
     "metadata": {},
     "output_type": "execute_result"
    }
   ],
   "source": [
    "chunk([1,2,3,4,5],2)"
   ]
  },
  {
   "cell_type": "code",
   "execution_count": 11,
   "id": "25c88710",
   "metadata": {},
   "outputs": [],
   "source": [
    "#21 Create a function that outputs the results of a flashcard. A flashcard is a list of three elements: a number, an operator symbol, and another number. Return the mathematical result of that expression.\n",
    "#There are 4 operators: + (addition), - (subtraction), x (multiplication), and / (division). If the flashcard displays a number being divided by zero, e.g. [3, \"/\", 0], then return None. For division, round to the hundredths place. So [10, \"/\", 3] should return 3.33.\n",
    "\n",
    "def f1(y):\n",
    "        if y[1]==\"+\":\n",
    "            return y[0]+y[2]\n",
    "        elif y[1]==\"-\":\n",
    "            return y[0]-y[2]\n",
    "        elif y[1]==\"*\":\n",
    "            return y[0]*y[2]\n",
    "        elif y[1]==\"/\":\n",
    "            if y[2]!=0:\n",
    "                return (round(y[0]/y[2],2))\n",
    "            else:\n",
    "                return None\n",
    "        else:\n",
    "            return \"invalid operator\"\n",
    "        "
   ]
  },
  {
   "cell_type": "code",
   "execution_count": 14,
   "id": "50ae38f6",
   "metadata": {},
   "outputs": [
    {
     "name": "stdout",
     "output_type": "stream",
     "text": [
      "8\n",
      "-2\n",
      "48\n",
      "3.33\n",
      "None\n"
     ]
    }
   ],
   "source": [
    "print(f1([4,\"+\",4]))\n",
    "print(f1([6,\"-\",8]))\n",
    "print(f1([6,\"*\",8]))\n",
    "print(f1([10,\"/\",3]))\n",
    "print(f1([10,\"/\",0]))"
   ]
  },
  {
   "cell_type": "code",
   "execution_count": 20,
   "id": "a124df56",
   "metadata": {},
   "outputs": [],
   "source": [
    "#22 A standard-sized golf course has 18 holes. Each hole is given a par, which is the expected number of strokes (hits) that a good player would use to complete a hole. Golf also uses different terms for a player being over/under par for a particular hole:\n",
    "#\"eagle\" = 2 under par (-2)\n",
    "#\"birdie\" = 1 under par (-1)\n",
    "#\"bogey\" = 1 over par (+1)\n",
    "#\"double-bogey\" = 2 over par (+2)\n",
    "#Example scores:\n",
    "#\"birdie\" on a par 3 hole = 2\n",
    "#\"eagle\" on a par 5 hole = 3\n",
    "#\"par\" on a par 3 hole = 3\n",
    "#\"bogey\" on a par 4 hole = 5\n",
    "#Given a list of pars for an 18-hole golf course, and another list containing the player result for each hole, return the total score for the round of golf.\n",
    "#Example\n",
    "#course = [4, 4, 5, 3, 4, 4, 3, 5, 5, 3, 5, 4, 4, 4, 4, 3, 4, 4]\n",
    "#result = [\"eagle\", \"bogey\", \"par\", \"bogey\", \"double-bogey\", \"birdie\", \"bogey\", \"par\", \"birdie\", \"par\", \"par\", \"par\", \"par\", \"par\", \"bogey\", \"eagle\", \"bogey\", \"par\"]\n",
    "#score = 2+5+5+4+6+3+4+5+4+3+5+4+4+4+5+1+5+4 = 73\n",
    "\n",
    "def calculate_golf_score(course,res):\n",
    "    score=0\n",
    "    for i in range(len(course)):\n",
    "        par=course[i]\n",
    "        if res[i]==\"eagle\":\n",
    "            score+=par-2\n",
    "        elif res[i]==\"birdie\":\n",
    "            score+=par-1\n",
    "        elif res[i]==\"par\":\n",
    "            score+=par\n",
    "        elif res[i]==\"bogey\":\n",
    "            score+=par+1\n",
    "        elif res[i]==\"double-bogey\":\n",
    "            score+=par+2\n",
    "    return score\n",
    "\n"
   ]
  },
  {
   "cell_type": "code",
   "execution_count": 21,
   "id": "5a7ddf79",
   "metadata": {},
   "outputs": [
    {
     "name": "stdout",
     "output_type": "stream",
     "text": [
      "73\n"
     ]
    }
   ],
   "source": [
    "course = [4, 4, 5, 3, 4, 4, 3, 5, 5, 3, 5, 4, 4, 4, 4, 3, 4, 4]\n",
    "res= [\"eagle\", \"bogey\", \"par\", \"bogey\", \"double-bogey\", \"birdie\", \"bogey\", \"par\", \"birdie\", \"par\", \"par\", \"par\", \"par\", \"par\", \"bogey\", \"eagle\", \"bogey\", \"par\"]\n",
    "\n",
    "total_score = calculate_golf_score(course, res)\n",
    "print(total_score)"
   ]
  },
  {
   "cell_type": "code",
   "execution_count": 64,
   "id": "6ed0e7a1",
   "metadata": {},
   "outputs": [],
   "source": [
    "#23 Create a function that takes an integer list and return the biggest between positive sum, negative sum, or 0s count. The major is understood as the greatest absolute.\n",
    "#l = [1,2,3,4,0,0,-3,-2], the function has to return 10, because:\n",
    "#Positive sum = 1+2+3+4 = 10\n",
    "#Negative sum = (-3)+(-2) = -5\n",
    "#0s count = 2 (there are two zeros in list)\n",
    "\n",
    "def big(x):\n",
    "    pos_sum=0\n",
    "    neg_sum=0\n",
    "    zeros=0\n",
    "    for i in x:\n",
    "        if i>0:\n",
    "            pos_sum+=i\n",
    "        elif i<0:\n",
    "            neg_sum+=i\n",
    "        else:\n",
    "            zeros+=1\n",
    "         \n",
    "    return max(abs(pos_sum),abs(neg_sum),zeros)\n"
   ]
  },
  {
   "cell_type": "code",
   "execution_count": 65,
   "id": "63dac34d",
   "metadata": {},
   "outputs": [
    {
     "data": {
      "text/plain": [
       "10"
      ]
     },
     "execution_count": 65,
     "metadata": {},
     "output_type": "execute_result"
    }
   ],
   "source": [
    "big([1,2,3,4,0,0,-3,-2])"
   ]
  },
  {
   "cell_type": "code",
   "execution_count": 75,
   "id": "9e71a349",
   "metadata": {},
   "outputs": [],
   "source": [
    "#24 A number num, that elevated to the power of another number k \"ends\" with the same num, it's automorphic.\n",
    "#5² = 25\n",
    "# It's automorphic because \"25\" ends with \"5\"\n",
    "#5³  = 125\n",
    "# It's automorphic because \"125\" ends with \"5\"\n",
    "#76⁴ = 33362176\n",
    "# It's automorphic because \"33362176\" ends with \"76\"\n",
    "#A number can have various powers that make it automorphic (i.e. look at number 5 in the above example). In this challenge, you have to verify if the given number is automorphic for each power from 2 up to 10.\n",
    "#Given a non-negative integer num, implement a function that returns the string:\n",
    "#\"Polymorphic\" if num is automorphic for every power from 2 up to 10.\n",
    "#\"Quadrimorphic\" if num is automorphic for only four powers (any from 2 up to 10).\n",
    "#\"Dimorphic\" if num is automorphic for only two powers (any from 2 up to 10).\n",
    "#\"Enamorphic\" if num is automorphic for only one power (any from 2 up to 10).\n",
    "#\"Amorphic\" if num is not automorphic for for any powers from 2 up to 10.\n",
    "\n",
    "\n",
    "def automorphic(num):\n",
    "    automorphic_count=0\n",
    "\n",
    "    for power in range(2,11):\n",
    "        res=num**power\n",
    "        str_res=str(res)\n",
    "        str_num=str(num)\n",
    "\n",
    "        if str_res.endswith(str_num):\n",
    "            automorphic_count+=1\n",
    "\n",
    "    if automorphic_count==9:\n",
    "        return \"Polymorphic\"\n",
    "    elif automorphic_count==4:\n",
    "        return \"Quadrimorphic\"\n",
    "    elif automorphic_count==2:\n",
    "        return \"Dimorphic\"\n",
    "    elif automorphic_count==1:\n",
    "        return \"Enamorphic\"\n",
    "    else:\n",
    "        return \"Amorphic\"\n"
   ]
  },
  {
   "cell_type": "code",
   "execution_count": 79,
   "id": "501cf9c7",
   "metadata": {},
   "outputs": [
    {
     "data": {
      "text/plain": [
       "'Enamorphic'"
      ]
     },
     "execution_count": 79,
     "metadata": {},
     "output_type": "execute_result"
    }
   ],
   "source": [
    "automorphic(21)"
   ]
  },
  {
   "cell_type": "code",
   "execution_count": 30,
   "id": "8f0ee496",
   "metadata": {},
   "outputs": [],
   "source": [
    "#25 Graded lexicographic order (grlex order for short) is a way of ordering words that:\n",
    "#First orders words by length.\n",
    "#Then orders words of the same size by their dictionary order.\n",
    "#For example, in grlex order:\n",
    "#\"tray\" < \"trapped\" since \"tray\" has length 4 while \"trapped\" has length 7.\n",
    "#\"trap\" < \"tray\" since both have length 4, but \"trap\" comes before \"tray\" in the dictionary.\n",
    "#Given a list of words, return that list in grlex order.\n",
    "\n",
    "def lexicographic(l):\n",
    "    def compare(word1, word2):\n",
    "        if len(word1)<len(word2):\n",
    "            return -1\n",
    "        elif len(word1)>len(word2):\n",
    "            return 1\n",
    "        else:\n",
    "            return 1 if word1>word2 else -1\n",
    "\n",
    "    sorted_words=sorted(l,key=lambda word: (len(word),word))\n",
    "    return sorted_words\n",
    "            "
   ]
  },
  {
   "cell_type": "code",
   "execution_count": 31,
   "id": "3b7e2389",
   "metadata": {},
   "outputs": [
    {
     "name": "stdout",
     "output_type": "stream",
     "text": [
      "['trap', 'tray']\n",
      "['cat', 'for', 'ran', 'rat', 'the']\n",
      "['a', 'is', 'test', 'this', 'small']\n"
     ]
    }
   ],
   "source": [
    "print(lexicographic([\"tray\",\"trap\"]))\n",
    "print(lexicographic([\"cat\", \"ran\", \"for\", \"the\", \"rat\"]))\n",
    "print(lexicographic([\"this\", \"is\", \"a\", \"small\", \"test\"]))"
   ]
  },
  {
   "cell_type": "code",
   "execution_count": 13,
   "id": "c833ad2d",
   "metadata": {},
   "outputs": [],
   "source": [
    "#26 The anti-divisors are numbers that do not divide a given number by the largest possible margin, and they can be found following a simple set of rules:\n",
    "#Every number greater than 1 and lower than n is checked.\n",
    "#Every checked number must not be a divisor of n.\n",
    "#If the checked number is odd and it is a divisor of n * 2 - 1 or n * 2 + 1 it's an anti-divisor.\n",
    "#If the checked number is even and it is a divisor of n * 2, it's an anti-divisor.\n",
    "#Given an integer n, implement a function that returns a list containing the anti-divisors of n sorted in ascending order.\n",
    "\n",
    "def antidivisors(n):\n",
    "    a=[]\n",
    "    for i in range(2,n):\n",
    "        if n%i!=0:\n",
    "            if i%2==0 and (n*2)%i==0:\n",
    "                a.append(i)\n",
    "        elif i%2==1 and ((n*2-1)%i==0 or (n*2+1)%i==0):\n",
    "                a.append(i)\n",
    "    return sorted(a)\n"
   ]
  },
  {
   "cell_type": "code",
   "execution_count": 15,
   "id": "cb23cc97",
   "metadata": {},
   "outputs": [
    {
     "name": "stdout",
     "output_type": "stream",
     "text": [
      "[5, 8]\n"
     ]
    }
   ],
   "source": [
    "print(anti_divisors(12))"
   ]
  },
  {
   "cell_type": "code",
   "execution_count": 35,
   "id": "fb7f3e57",
   "metadata": {},
   "outputs": [],
   "source": [
    "#27 Create a function that takes a list consisting of dice rolls from 1-6. Return the sum of your rolls with the following conditions:\n",
    "#If a 1 is rolled, that is bad luck. The next roll counts as 0.\n",
    "#If a 6 is rolled, that is good luck. The next roll is multiplied by 2.\n",
    "#The list length will always be 3 or higher.\n",
    "\n",
    "def dice(r):\n",
    "    total_sum=0\n",
    "    multiply_next_roll=False\n",
    "\n",
    "    for i in range(len(r)):\n",
    "        x=r[i]\n",
    "\n",
    "        if x==1:\n",
    "            if i+1<len(r):\n",
    "                r[i+1]=0\n",
    "        elif x==6:\n",
    "            multiply_next_roll=True\n",
    "        else:\n",
    "            if multiply_next_roll:\n",
    "                x*=2\n",
    "                multiply_next_roll=False\n",
    "            total_sum+=x\n",
    "    return total_sum\n",
    "    "
   ]
  },
  {
   "cell_type": "code",
   "execution_count": 36,
   "id": "703747f5",
   "metadata": {},
   "outputs": [
    {
     "data": {
      "text/plain": [
       "3"
      ]
     },
     "execution_count": 36,
     "metadata": {},
     "output_type": "execute_result"
    }
   ],
   "source": [
    "dice([1,2,3])"
   ]
  },
  {
   "cell_type": "code",
   "execution_count": 59,
   "id": "e4e64c36",
   "metadata": {},
   "outputs": [],
   "source": [
    "#28 Write a function that takes a list and determines whether it's strictly increasing, strictly decreasing, or neither.\n",
    "#Examples\n",
    "#check([1, 2, 3]) ➞ \"increasing\"\n",
    "#check([3, 2, 1]) ➞ \"decreasing\"\n",
    "#check([1, 2, 1]) ➞ \"neither\"\n",
    "#check([1, 1, 2]) ➞ \"neither\"\n",
    "\n",
    "\n",
    "def f1(x):\n",
    "    increasing=False\n",
    "    decreasing=False\n",
    "    for y in range(len(x)-1):\n",
    "        if x[y]<x[y+1]:\n",
    "                increasing=True\n",
    "        elif x[y]>x[y+1]:\n",
    "                decreasing=True\n",
    "    if increasing and not decreasing:\n",
    "            return \"increasing\"\n",
    "    elif decreasing and not increasing:\n",
    "            return \"decreasing\"\n",
    "    else:\n",
    "            return \"neither\"\n",
    "         \n",
    "        "
   ]
  },
  {
   "cell_type": "code",
   "execution_count": 62,
   "id": "7233d28e",
   "metadata": {},
   "outputs": [
    {
     "data": {
      "text/plain": [
       "'decreasing'"
      ]
     },
     "execution_count": 62,
     "metadata": {},
     "output_type": "execute_result"
    }
   ],
   "source": [
    "f1([3,2,1])"
   ]
  },
  {
   "cell_type": "code",
   "execution_count": 74,
   "id": "24559549",
   "metadata": {},
   "outputs": [],
   "source": [
    "#29 Abigail and Benson are playing Rock, Paper, Scissors.\n",
    "#Each game is represented by an array of length 2, where the first element represents what Abigail played and the second element represents what Benson played.\n",
    "#Given a sequence of games, determine who wins the most number of matches. If they tie, output \"Tie\".\n",
    "#R stands for Rock\n",
    "#P stands for Paper\n",
    "#S stands for Scissors\n",
    "\n",
    "def win(x):\n",
    "    abigail=0\n",
    "    benson=0\n",
    "    \n",
    "    for game in x:\n",
    "        abigail_play=game[0]\n",
    "        benson_play=game[1]\n",
    "        \n",
    "        if abigail_play==benson_play:\n",
    "            continue\n",
    "        elif (abigail_play==\"R\" and benson_play==\"S\") or (abigail_play==\"S\" and benson_play==\"p\") or (abigail_play==\"P\" and benson_play==\"R\"):\n",
    "            abigail+=1\n",
    "        else:\n",
    "            benson+=1\n",
    "    if abigail>benson:\n",
    "        return \"abligali\"\n",
    "    elif abigail<benson:\n",
    "        return \"benson\"\n",
    "    else:\n",
    "        return \"tie\"\n",
    "\n",
    "    "
   ]
  },
  {
   "cell_type": "code",
   "execution_count": 76,
   "id": "c85d1a33",
   "metadata": {},
   "outputs": [
    {
     "name": "stdout",
     "output_type": "stream",
     "text": [
      "benson\n",
      "tie\n"
     ]
    }
   ],
   "source": [
    "print(win([[\"S\",\"P\"],[\"p\",\"R\"],[\"R\",\"S\"]]))\n",
    "\n",
    "print(win([[\"R\", \"R\"], [\"S\", \"S\"]]))\n"
   ]
  },
  {
   "cell_type": "code",
   "execution_count": 86,
   "id": "3a36f4d1",
   "metadata": {},
   "outputs": [],
   "source": [
    "#30 There has been a masterdata issue which affected the prices of the products. Check if each product has a valid price (integer or float, and greater than or equal to zero). Products with a price of 0 are free and count as a valid price.\n",
    "#The return value should be a Boolean.\n",
    "\n",
    "def f1(product):\n",
    "    if product is None or not isinstance(product,dict):\n",
    "        return False\n",
    "\n",
    "    price=product.get(\"price\")\n",
    "    if isinstance(price,(int,float)) and price>=0:\n",
    "        return True\n",
    "\n",
    "    return False"
   ]
  },
  {
   "cell_type": "code",
   "execution_count": 87,
   "id": "479cc6ca",
   "metadata": {},
   "outputs": [
    {
     "data": {
      "text/plain": [
       "True"
      ]
     },
     "execution_count": 87,
     "metadata": {},
     "output_type": "execute_result"
    }
   ],
   "source": [
    "f1({\"product\":\"milk\",\"price\":1.28})"
   ]
  },
  {
   "cell_type": "code",
   "execution_count": 90,
   "id": "f7c2aa15",
   "metadata": {},
   "outputs": [],
   "source": [
    "#31 A positive number's population is the sum of 1's in its binary representation.\n",
    "#An evil number has an even numbered population.\n",
    "#An odious number has an odd numbered population.\n",
    "#A number is pernicious if its population is a prime number.\n",
    "#Create a function that takes a number as an argument and returns a sorted list of all its descriptors (\"Evil\", \"Odious\", or \"Pernicious\").\n",
    "\n",
    "\n",
    "def number_descriptors(number):\n",
    "    binary_representation=bin(number)[2:]\n",
    "    population=binary_representation.count('1')\n",
    "\n",
    "    descriptors=[]\n",
    "    if population%2==0:\n",
    "        descriptors.append(\"Evil\")\n",
    "    else:\n",
    "        descriptors.append(\"Odious\")\n",
    "\n",
    "    if is_prime(population):\n",
    "        descriptors.append(\"Pernicious\")\n",
    "\n",
    "    return sorted(descriptors)\n",
    "\n",
    "def is_prime(number):\n",
    "    if number < 2:\n",
    "        return False\n",
    "    for i in range(2, int(number ** 0.5) + 1):\n",
    "        if number % i == 0:\n",
    "            return False\n",
    "    return True\n"
   ]
  },
  {
   "cell_type": "code",
   "execution_count": 91,
   "id": "ce433b3e",
   "metadata": {},
   "outputs": [
    {
     "data": {
      "text/plain": [
       "['Odious', 'Pernicious']"
      ]
     },
     "execution_count": 91,
     "metadata": {},
     "output_type": "execute_result"
    }
   ],
   "source": [
    "number_descriptors(7)"
   ]
  },
  {
   "cell_type": "code",
   "execution_count": 109,
   "id": "c2204502",
   "metadata": {},
   "outputs": [],
   "source": [
    "#32 Mubashir is not so good with the English language. He needs your help to correct his sentences.\n",
    "#Start each sentence with an uppercase alphabet.\n",
    "#For every uppercase letter (other than the first alphabet), you have to place a fullstop(.) followed by an empty space.\n",
    "#There must be only one space between the words and sentences.\n",
    "#Sentence must end with a full stop(.)\n",
    "#Two continuous spaces are not allowed.\n",
    "\n",
    "def good_language(x):\n",
    "    x=x.strip() \n",
    "    if not x:\n",
    "        return \"\"\n",
    "\n",
    "    corrected_sentence =x[0].upper()  \n",
    "    for i in range(1, len(x)):\n",
    "        if x[i].isupper():\n",
    "            corrected_sentence+= \".\" \n",
    "        corrected_sentence+=x[i]\n",
    "\n",
    "    if corrected_sentence[-1]!= \".\":\n",
    "        corrected_sentence += \".\" \n",
    "    return \" \".join(corrected_sentence.split()) "
   ]
  },
  {
   "cell_type": "code",
   "execution_count": 110,
   "id": "9f1c437e",
   "metadata": {},
   "outputs": [
    {
     "data": {
      "text/plain": [
       "'He is good boy.'"
      ]
     },
     "execution_count": 110,
     "metadata": {},
     "output_type": "execute_result"
    }
   ],
   "source": [
    "good_language(\"he is good boy\")"
   ]
  },
  {
   "cell_type": "code",
   "execution_count": 125,
   "id": "00443810",
   "metadata": {},
   "outputs": [],
   "source": [
    "#33 Given a sentence, create a function that replaces every \"a\" as an article with \"an absolute\". It should return the same string without any change if it doesn't have any \"a\".\n",
    "\n",
    "def sentence(x):\n",
    "        if \"a\" in x or x.startswith(\"a\") or x.endswith(\"a\"):\n",
    "            return x.replace(' a ', ' an absolute ').replace('A ', 'An absolute ').replace(' a.', ' an absolute.').replace(' a,', ' an absolute,').replace(' a!', ' an absolute!').replace(' a?', ' an absolute?').replace(' a:', ' an absolute:')\n",
    "        else:\n",
    "            return x\n",
    "        "
   ]
  },
  {
   "cell_type": "code",
   "execution_count": 126,
   "id": "0c7518fb",
   "metadata": {},
   "outputs": [
    {
     "name": "stdout",
     "output_type": "stream",
     "text": [
      "i have an absolute pen\n"
     ]
    }
   ],
   "source": [
    "print(sentence(\"i have a pen\"))"
   ]
  },
  {
   "cell_type": "code",
   "execution_count": 127,
   "id": "77dd0b1e",
   "metadata": {},
   "outputs": [],
   "source": [
    "#34 It's a Pokemon battle! Your task is to calculate the damage that a particular move would do using the following formula (not the actual one from the game):\n",
    "#damage = 50 * (attack / defense) * effectiveness\n",
    "#attack = your attack power\n",
    "#defense = the opponent's defense\n",
    "#effectiveness = the effectiveness of the attack based on the matchup (see explanation below)\n",
    "#Effectiveness:\n",
    "\n",
    "#Attacks can be super effective, neutral, or not very effective depending on the matchup. For example, water would be super effective against fire, but not very effective against grass.\n",
    "\n",
    "#Super effective: 2x damage\n",
    "#Neutral: 1x damage\n",
    "#Not very effective: 0.5x damage\n",
    "#To prevent this challenge from being tedious, you'll only be dealing with four types: fire, water, grass, and electric. Here is the effectiveness of each matchup:\n",
    "#fire > grass\n",
    "#fire < water\n",
    "#fire = electric\n",
    "#water < grass\n",
    "#water < electric\n",
    "#grass = electric\n",
    "#The function you must implement takes in:\n",
    "\n",
    "#your type\n",
    "#the opponent's type\n",
    "#your attack power\n",
    "#the opponent's defense\n",
    "#Examples\n",
    "#calculate_damage(\"fire\", \"water\", 100, 100) ➞ 25\n",
    "#calculate_damage(\"grass\", \"fire\", 35, 5) ➞ 175\n",
    "#calculate_damage(\"electric\", \"fire\", 100, 100) ➞ 50\n",
    "\n",
    "def calculate_damage(your_type, opponent_type, attack_power, defense):\n",
    "    effectiveness = 1  \n",
    "\n",
    "    if your_type == \"fire\":\n",
    "        if opponent_type == \"grass\":\n",
    "            effectiveness = 2 \n",
    "        elif opponent_type == \"water\":\n",
    "            effectiveness = 0.5  \n",
    "        elif opponent_type == \"electric\":\n",
    "            effectiveness = 1 \n",
    "    elif your_type == \"water\":\n",
    "        if opponent_type == \"grass\":\n",
    "            effectiveness = 0.5  \n",
    "        elif opponent_type == \"electric\":\n",
    "            effectiveness = 0.5  \n",
    "        elif opponent_type == \"fire\":\n",
    "            effectiveness = 2  \n",
    "    elif your_type == \"grass\":\n",
    "        if opponent_type == \"fire\":\n",
    "            effectiveness = 0.5  \n",
    "        elif opponent_type == \"water\":\n",
    "            effectiveness = 2  \n",
    "        elif opponent_type == \"electric\":\n",
    "            effectiveness = 1  \n",
    "    elif your_type == \"electric\":\n",
    "        if opponent_type == \"fire\":\n",
    "            effectiveness = 1  \n",
    "        elif opponent_type == \"water\":\n",
    "            effectiveness = 2  \n",
    "        elif opponent_type == \"grass\":\n",
    "            effectiveness = 1  \n",
    "    damage = 50 * (attack_power / defense) * effectiveness\n",
    "\n",
    "    return damage"
   ]
  },
  {
   "cell_type": "code",
   "execution_count": 128,
   "id": "5414990c",
   "metadata": {},
   "outputs": [
    {
     "data": {
      "text/plain": [
       "25.0"
      ]
     },
     "execution_count": 128,
     "metadata": {},
     "output_type": "execute_result"
    }
   ],
   "source": [
    "calculate_damage(\"fire\",\"water\",100,100)"
   ]
  },
  {
   "cell_type": "code",
   "execution_count": 139,
   "id": "c9e0f646",
   "metadata": {},
   "outputs": [],
   "source": [
    "#35 Create a function that takes a list of card numbers and checks if the sum of their value exceeds 21. If the sum exceeds 21, return True and if the sum is under or equal to 21, return False. Values of the cards are as follows:\n",
    "#2-10 are their value.\n",
    "#J-K (face cards) count as 10.\n",
    "#Aces count either as 1 or 11 - play conservatively, so that if giving an ace a value of 11 causes you to lose and 1 allows you to win, then go with 1.\n",
    "\n",
    "def blackcard(cards):\n",
    "    total = 0\n",
    "    aces = 0\n",
    "\n",
    "    for card in cards:\n",
    "        if card in range(2, 11):\n",
    "            total += card\n",
    "        elif card in ['J', 'Q', 'K']:\n",
    "            total += 10\n",
    "        elif card == 'A':\n",
    "            aces += 1\n",
    "\n",
    "    while total > 21 and aces > 0:\n",
    "        total -= 10\n",
    "        aces -= 1\n",
    "\n",
    "    if total > 21:\n",
    "        return True\n",
    "    else:\n",
    "        return False"
   ]
  },
  {
   "cell_type": "code",
   "execution_count": 140,
   "id": "fe30a197",
   "metadata": {},
   "outputs": [
    {
     "data": {
      "text/plain": [
       "False"
      ]
     },
     "execution_count": 140,
     "metadata": {},
     "output_type": "execute_result"
    }
   ],
   "source": [
    "blackcard([2,8,\"J\"])"
   ]
  },
  {
   "cell_type": "code",
   "execution_count": 145,
   "id": "0d51c68a",
   "metadata": {},
   "outputs": [],
   "source": [
    "#36 Create a function that alternates the case of the letters in a string (known as Spongecase).\n",
    "\n",
    "def spongecase(x):\n",
    "    spongecased = ''\n",
    "    for i,char in enumerate(x):\n",
    "        if i%2==0:\n",
    "            spongecased+=char.upper()\n",
    "        else:\n",
    "            spongecased+=char.lower()\n",
    "    return spongecased"
   ]
  },
  {
   "cell_type": "code",
   "execution_count": 146,
   "id": "1766e172",
   "metadata": {},
   "outputs": [
    {
     "data": {
      "text/plain": [
       "'HoW ArE YoU?'"
      ]
     },
     "execution_count": 146,
     "metadata": {},
     "output_type": "execute_result"
    }
   ],
   "source": [
    "spongecase(\"how are you?\")"
   ]
  },
  {
   "cell_type": "code",
   "execution_count": 147,
   "id": "05d84044",
   "metadata": {},
   "outputs": [],
   "source": [
    "#37 Write the function that takes three dimensions of a brick: height(a), width(b) and depth(c) and returns True if this brick can fit into a hole with the width(w) and height(h).\n",
    "#Examples\n",
    "#does_brick_fit(1, 1, 1, 1, 1) ➞ True\n",
    "#does_brick_fit(1, 2, 1, 1, 1) ➞ True\n",
    "#does_brick_fit(1, 2, 2, 1, 1) ➞ False\n",
    "#Notes\n",
    "#You can turn the brick with any side towards the hole.\n",
    "#We assume that the brick fits if its sizes equal the ones of the hole (i.e. brick size should be less than or equal to the size of the hole, not strictly less).\n",
    "#You can't put a brick in at a non-orthogonal angle.\n",
    "\n",
    "def brick(a, b, c, w, h):\n",
    "    brick_dimensions = [a, b, c]\n",
    "    brick_dimensions.sort()  # Sort brick dimensions in ascending order\n",
    "\n",
    "    if brick_dimensions[0] <= w and brick_dimensions[1] <= h:\n",
    "        return True\n",
    "    else:\n",
    "        return False"
   ]
  },
  {
   "cell_type": "code",
   "execution_count": 149,
   "id": "d65f7f9a",
   "metadata": {},
   "outputs": [
    {
     "data": {
      "text/plain": [
       "False"
      ]
     },
     "execution_count": 149,
     "metadata": {},
     "output_type": "execute_result"
    }
   ],
   "source": [
    "brick(1,2,2,1,1)"
   ]
  },
  {
   "cell_type": "code",
   "execution_count": 150,
   "id": "d0d1e470",
   "metadata": {},
   "outputs": [],
   "source": [
    "#38 Mubashir was testing how atoms can react in their ionic state during nuclear fusion. He observed that atoms can introduce different elements with Hydrogen at high temperatures and inside a pressurized chamber. During his experiment, elements started precipitating inside the chamber. Help him find the total number of molecules of Water H2O, Carbon Dioxide CO2 and Methane CH4 generated during this process.\n",
    "#Given the number of atoms of carbon, hydrogen and oxygen, calculate the molecules in the following order:\n",
    "#1. Hydrogen reacts with Oxygen = H2O\n",
    "#2. Carbon reacts with Oxygen   = CO2\n",
    "#3. Carbon reacts with Hydrogen = CH4\n",
    "\n",
    "def molecules(carbon_atoms, hydrogen_atoms, oxygen_atoms):\n",
    "    water_molecules = min(hydrogen_atoms // 2, oxygen_atoms)  \n",
    "    carbon_dioxide_molecules = min(carbon_atoms, oxygen_atoms // 2)  \n",
    "    methane_molecules = min(carbon_atoms, hydrogen_atoms // 4)  \n",
    "    return water_molecules, carbon_dioxide_molecules, methane_molecules\n"
   ]
  },
  {
   "cell_type": "code",
   "execution_count": 151,
   "id": "21d93d06",
   "metadata": {},
   "outputs": [
    {
     "data": {
      "text/plain": [
       "(0, 26, 0)"
      ]
     },
     "execution_count": 151,
     "metadata": {},
     "output_type": "execute_result"
    }
   ],
   "source": [
    "molecules(113,0,52)"
   ]
  },
  {
   "cell_type": "code",
   "execution_count": 153,
   "id": "e02855b7",
   "metadata": {},
   "outputs": [],
   "source": [
    "#39 Create a function which replaces all the x's in the string in the following ways:\n",
    "#Replace all x's with \"cks\" UNLESS:\n",
    "#The word begins with \"x\", therefore replace it with \"z\".\n",
    "#The word is just the letter \"x\", therefore replace it with \"ecks\".\n",
    "\n",
    "def replace1(x):\n",
    "    words =x.split()  \n",
    "    replaced_words=[]\n",
    "\n",
    "    for word in words:\n",
    "        if word == \"x\":\n",
    "            replaced_words.append(\"ecks\")\n",
    "        elif word.startswith(\"x\"):\n",
    "            replaced_words.append(\"z\" + word[1:])\n",
    "        else:\n",
    "            replaced_words.append(word.replace(\"x\", \"cks\"))\n",
    "\n",
    "    return \" \".join(replaced_words)"
   ]
  },
  {
   "cell_type": "code",
   "execution_count": 154,
   "id": "0126dc76",
   "metadata": {},
   "outputs": [
    {
     "data": {
      "text/plain": [
       "'z-ray zenon'"
      ]
     },
     "execution_count": 154,
     "metadata": {},
     "output_type": "execute_result"
    }
   ],
   "source": [
    "replace1(\"x-ray xenon\")"
   ]
  },
  {
   "cell_type": "code",
   "execution_count": 157,
   "id": "9e9527e5",
   "metadata": {},
   "outputs": [],
   "source": [
    "#40 Try to imagine a world in which you might have to stay home for 14 days at any given time. Do you have enough TP to make it through?\n",
    "#Although the number of squares per roll of TP varies significantly, we'll assume each roll has 500 sheets, and the average person uses 57 sheets per day.\n",
    "#Create a function that will receive a dictionary with two key/values:\n",
    "#\"people\" ⁠— Number of people in the household.\n",
    "#\"tp\" ⁠— Number of rolls.\n",
    "#Return a statement telling the user if they need to buy more TP!\n",
    "\n",
    "def supply(data):\n",
    "    people = data.get(\"people\", 0)\n",
    "    tp_rolls = data.get(\"tp\", 0)\n",
    "    \n",
    "    total_sheets = tp_rolls * 500\n",
    "    daily_usage = people * 57\n",
    "    required_sheets = 14 * daily_usage\n",
    "    \n",
    "    if total_sheets >= required_sheets:\n",
    "        days = total_sheets // daily_usage\n",
    "        return f\"Your TP will last {days} days, no need to panic!\"\n",
    "    else:\n",
    "        days = total_sheets // daily_usage\n",
    "        return f\"Your TP will only last {days} days, buy more!\""
   ]
  },
  {
   "cell_type": "code",
   "execution_count": 158,
   "id": "0e9fc429",
   "metadata": {},
   "outputs": [
    {
     "data": {
      "text/plain": [
       "'Your TP will only last 2 days, buy more!'"
      ]
     },
     "execution_count": 158,
     "metadata": {},
     "output_type": "execute_result"
    }
   ],
   "source": [
    "supply({ \"people\": 4, \"tp\": 1 })"
   ]
  },
  {
   "cell_type": "code",
   "execution_count": 159,
   "id": "3da111c6",
   "metadata": {},
   "outputs": [],
   "source": [
    "#41 Write a function that takes a number and returns the perimeter of either a circle or a square. The input will be in the form (letter l, number num) where the letter will be either \"s\" for square, or \"c\" for circle, and the number will be the side of the square or the radius of the circle.\n",
    "#Use the following formulas:\n",
    "#Perimeter of a square: 4 * side.\n",
    "#Perimeter of a circle: 6.28 * radius.\n",
    "#The catch is you can only use arithmetic or comparison operators, which means:\n",
    "#No if... else statements.\n",
    "#No dictionaries.\n",
    "#No lambdas.\n",
    "#No formatting methods, etc.\n",
    "#The goal is to write a short, branch-free piece of code.\n",
    "\n",
    "def perimeter(l, num):\n",
    "    return (l == \"s\") * (4 * num) + (l == \"c\") * (6.28 * num)"
   ]
  },
  {
   "cell_type": "code",
   "execution_count": 160,
   "id": "819ccd63",
   "metadata": {},
   "outputs": [
    {
     "data": {
      "text/plain": [
       "28.0"
      ]
     },
     "execution_count": 160,
     "metadata": {},
     "output_type": "execute_result"
    }
   ],
   "source": [
    "perimeter(\"s\",7)"
   ]
  },
  {
   "cell_type": "code",
   "execution_count": 183,
   "id": "3b17896f",
   "metadata": {},
   "outputs": [],
   "source": [
    "#42 Given a positive number x:\n",
    "#p = (p1, p2, …)\n",
    "# Set of *prime* factors of x\n",
    "#If the square of every item in p is also a factor of x, then x is said to be a powerful number.\n",
    "#Create a function that takes a number and returns True if it's powerful, False if it's not.\n",
    "#Examples\n",
    "#is_powerful(674) ➞ False \n",
    "\n",
    "def powerful(x):\n",
    "    prime_factors=set()\n",
    "    i=2\n",
    "    while i*i<=x:\n",
    "        if x%i:\n",
    "            i+=1\n",
    "        else:\n",
    "            x//=i\n",
    "            prime_factors.add(i)\n",
    "    if x>1:\n",
    "        prime_factors.add(x)\n",
    "    for factor in prime_factors:\n",
    "        if x%(factor**2)!=0:\n",
    "            return False\n",
    "    return True"
   ]
  },
  {
   "cell_type": "code",
   "execution_count": 184,
   "id": "599c4b53",
   "metadata": {},
   "outputs": [
    {
     "data": {
      "text/plain": [
       "False"
      ]
     },
     "execution_count": 184,
     "metadata": {},
     "output_type": "execute_result"
    }
   ],
   "source": [
    "powerful(674)"
   ]
  },
  {
   "cell_type": "markdown",
   "id": "aa127b0a",
   "metadata": {},
   "source": [
    "### control flow"
   ]
  },
  {
   "cell_type": "code",
   "execution_count": 1,
   "id": "21b4a0f8",
   "metadata": {},
   "outputs": [],
   "source": [
    "#1 Create a function that performs an even-odd transform to a list, n times. Each even-odd transformation:\n",
    "#Adds two (+2) to each odd integer.\n",
    "#Subtracts two (-2) from each even integer.\n",
    "#Examples\n",
    "#even_odd_transform([3, 4, 9], 3) ➞ [9, -2, 15]\n",
    "# Since [3, 4, 9] => [5, 2, 11] => [7, 0, 13] => [9, -2, 15]\n",
    "#even_odd_transform([0, 0, 0], 10) ➞ [-20, -20, -20]\n",
    "#even_odd_transform([1, 2, 3], 1) ➞ [3, 0, 5]\n",
    "\n",
    "def transform(x,n):\n",
    "    transformed_x=x[:]\n",
    "    \n",
    "    for _ in range(n):\n",
    "        transformed_x = [num + 2 if num % 2 == 1 else num - 2 for num in transformed_x]\n",
    "    \n",
    "    return transformed_x\n"
   ]
  },
  {
   "cell_type": "code",
   "execution_count": 2,
   "id": "fcad73ce",
   "metadata": {},
   "outputs": [
    {
     "data": {
      "text/plain": [
       "[9, -2, 15]"
      ]
     },
     "execution_count": 2,
     "metadata": {},
     "output_type": "execute_result"
    }
   ],
   "source": [
    "transform([3,4,9],3)"
   ]
  },
  {
   "cell_type": "code",
   "execution_count": 3,
   "id": "79d46362",
   "metadata": {},
   "outputs": [],
   "source": [
    "#2 A Collatz sequence is generated like this. Start with a positive number. If it's even, halve it. If it's odd, multiply it by three and add one. Repeat the process with the resulting number. The Collatz Conjecture is that every sequence eventually reaches 1 (continuing past 1 just results in an endless repeat of the sequence 4, 2, 1).\n",
    "#The length of the sequence from starting number to 1 varies widely.\n",
    "#Create a function that takes a number as an argument and returns a tuple of two elements — the number of steps in the Collatz sequence of the number, and the highest number reached.\n",
    "#Examples\n",
    "#collatz(2) ➞ (2, 2)\n",
    "# seq = [2, 1]\n",
    "#collatz(3) ➞ (8, 16)\n",
    "# seq = [3, 10, 5, 16, 8, 4, 2, 1]\n",
    "#collatz(7) ➞ (17, 52)\n",
    "# seq = [7, 22, 11, 34, 17, 52, 26, 13, 40, 20, 10, 5, 16, 8, 4, 2, 1]\n",
    "#collatz(8) ➞ (4, 8)\n",
    "# seq = [8, 4, 2, 1]\n",
    "\n",
    "def f1(x):\n",
    "    sequence=[x]\n",
    "    highest_num=x\n",
    "\n",
    "    while x!=1:\n",
    "        if x%2==0:\n",
    "            x//=2\n",
    "        else:\n",
    "            x=x*3+1\n",
    "        \n",
    "        sequence.append(x)\n",
    "        highest_num = max(highest_num,x)\n",
    "    \n",
    "    return len(sequence), highest_num"
   ]
  },
  {
   "cell_type": "code",
   "execution_count": 4,
   "id": "b2a9cc88",
   "metadata": {},
   "outputs": [
    {
     "data": {
      "text/plain": [
       "(4, 8)"
      ]
     },
     "execution_count": 4,
     "metadata": {},
     "output_type": "execute_result"
    }
   ],
   "source": [
    "f1(8)"
   ]
  },
  {
   "cell_type": "code",
   "execution_count": 7,
   "id": "e0a41a5a",
   "metadata": {},
   "outputs": [],
   "source": [
    "#3 Given a number n, return a sentence which describes the number in the following ways.\n",
    "#Always start the string with \"The most\".\n",
    "#If n is evenly divisible by 1, add \"brilliant\" to the sentence.\n",
    "#If n is evenly divisible by 2, add \"exciting\" to the sentence.\n",
    "#... 3, add \"fantastic\" to the sentence.\n",
    "#... 4, add \"virtuous\" to the sentence.\n",
    "#... 5, add \"heart-warming\" ...\n",
    "#... 6, add \"tear-jerking\" ...\n",
    "#... 7, add \"beautiful\" ...\n",
    "#... 8, add \"exhilarating\" ...\n",
    "#... 9, add \"emotional\" ...\n",
    "#If n is evenly divisible by 10, add inspiring to the sentence.\n",
    "#Always end the string with \"number is\" n!\n",
    "#Examples\n",
    "#describe_num(13) ➞ \"The most brilliant number is 13!\"\n",
    "# 13 is evenly divisible by 1 only\n",
    "\n",
    "def describe(n):\n",
    "    description=\"The most\"\n",
    "    if n%1==0:\n",
    "        description+=\" brilliant\"\n",
    "    if n%2==0:\n",
    "        description+=\" exciting\"\n",
    "    if n%3==0:\n",
    "        description+=\" fantastic\"\n",
    "    if n%4==0:\n",
    "        description+=\" virtuous\"\n",
    "    if n%5==0:\n",
    "        description+=\" heart-warming\"\n",
    "    if n%6==0:\n",
    "        description+=\" tear-jerking\"\n",
    "    if n%7==0:\n",
    "        description+=\" beautiful\"\n",
    "    if n%8==0:\n",
    "        description+=\" exhilarating\" \n",
    "    if n%9==0:\n",
    "        description+=\" emotional\"\n",
    "    if n%10==0:\n",
    "        description+=\" inspiring\"\n",
    "    \n",
    "    description+=\" number is \"+str(n)+\"!\"\n",
    "    \n",
    "    return description\n"
   ]
  },
  {
   "cell_type": "code",
   "execution_count": 8,
   "id": "1d27b697",
   "metadata": {},
   "outputs": [
    {
     "data": {
      "text/plain": [
       "'The most brilliant number is 13!'"
      ]
     },
     "execution_count": 8,
     "metadata": {},
     "output_type": "execute_result"
    }
   ],
   "source": [
    "describe(13)"
   ]
  },
  {
   "cell_type": "code",
   "execution_count": 9,
   "id": "b0ac61ea",
   "metadata": {},
   "outputs": [],
   "source": [
    "#4Write a function that takes a list and determines whether it's strictly increasing, strictly decreasing, or neither.\n",
    "#Examples\n",
    "#check([1, 2, 3]) ➞ \"increasing\"\n",
    "#check([3, 2, 1]) ➞ \"decreasing\"\n",
    "#check([1, 2, 1]) ➞ \"neither\"\n",
    "#check([1, 1, 2]) ➞ \"neither\"\n",
    "\n",
    "\n",
    "def f1(x):\n",
    "    increasing=False\n",
    "    decreasing=False\n",
    "    for y in range(len(x)-1):\n",
    "        if x[y]<x[y+1]:\n",
    "                increasing=True\n",
    "        elif x[y]>x[y+1]:\n",
    "                decreasing=True\n",
    "    if increasing and not decreasing:\n",
    "            return \"increasing\"\n",
    "    elif decreasing and not increasing:\n",
    "            return \"decreasing\"\n",
    "    else:\n",
    "            return \"neither\""
   ]
  },
  {
   "cell_type": "code",
   "execution_count": 11,
   "id": "672fd0f9",
   "metadata": {},
   "outputs": [
    {
     "data": {
      "text/plain": [
       "'increasing'"
      ]
     },
     "execution_count": 11,
     "metadata": {},
     "output_type": "execute_result"
    }
   ],
   "source": [
    "f1([1,2,3])"
   ]
  },
  {
   "cell_type": "code",
   "execution_count": 14,
   "id": "6f74c29a",
   "metadata": {},
   "outputs": [],
   "source": [
    "#5 Suppose you are directionally challenged, and get lost easily. As a result, sometimes you walk in circles or make U-turns. You might take a sub-optimal route. Create a function that returns the difference in length between your path and the optimal path. Both paths reach the same destination.\n",
    "#You start at (0,0) and reach your destination by the end of the input list.\n",
    "#A demonstration:\n",
    "#Your route: [\"N\", \"S\", \"E\", \"W\", \"E\", \"E\", \"E\", \"N\"]  // 8\n",
    "#Optimal route: [\"E\", \"E\", \"E\", \"N\"] (or [\"N\", \"E\", \"E\", \"E\"], etc.) // 4\n",
    "# Difference in length: 8 - 4 = 4\n",
    "# Explanation: Your \"S\" cancels out your \"N\" and your \"W\" cancels out your \"E\" leaving you back at (0,0)\n",
    "#Examples\n",
    "#route_diff([\"N\", \"E\", \"S\", \"W\"]) ➞ 4\n",
    "# You\"ve just walked in a circle! You are back at the origin. Your optimal path was `[]`.\n",
    "#route_diff([\"N\", \"N\", \"N\", \"E\", \"N\", \"E\"]) ➞ 0\n",
    "# No improvements here!\n",
    "\n",
    "def route(z):\n",
    "    x,y=0,0\n",
    "    a=[]\n",
    "    for direction in z:\n",
    "        if direction == \"N\":\n",
    "            y += 1\n",
    "        elif direction == \"S\":\n",
    "            y -= 1\n",
    "        elif direction == \"E\":\n",
    "            x += 1\n",
    "        elif direction == \"W\":\n",
    "            x -= 1\n",
    "        \n",
    "        a.append(direction)\n",
    "        \n",
    "        if x == 0 and y == 0:\n",
    "            a=[]\n",
    "    \n",
    "    return len(z) - len(a)"
   ]
  },
  {
   "cell_type": "code",
   "execution_count": 16,
   "id": "649cc66a",
   "metadata": {},
   "outputs": [
    {
     "data": {
      "text/plain": [
       "4"
      ]
     },
     "execution_count": 16,
     "metadata": {},
     "output_type": "execute_result"
    }
   ],
   "source": [
    "route([\"N\", \"E\", \"S\", \"W\"])"
   ]
  },
  {
   "cell_type": "code",
   "execution_count": 20,
   "id": "6f0ff490",
   "metadata": {},
   "outputs": [],
   "source": [
    "#6 Abigail and Benson are playing Rock, Paper, Scissors.\n",
    "#Each game is represented by an array of length 2, where the first element represents what Abigail played and the second element represents what Benson played.\n",
    "#Given a sequence of games, determine who wins the most number of matches. If they tie, output \"Tie\".\n",
    "#R stands for Rock\n",
    "#P stands for Paper\n",
    "#S stands for Scissors\n",
    "\n",
    "\n",
    "def win(x):\n",
    "    abigail=0\n",
    "    benson=0\n",
    "    \n",
    "    for game in x:\n",
    "        abigail_play=game[0]\n",
    "        benson_play=game[1]\n",
    "        \n",
    "        if abigail_play==benson_play:\n",
    "            continue\n",
    "        elif (abigail_play==\"R\" and benson_play==\"S\") or (abigail_play==\"S\" and benson_play==\"p\") or (abigail_play==\"P\" and benson_play==\"R\"):\n",
    "            abigail+=1\n",
    "        else:\n",
    "            benson+=1\n",
    "    if abigail>benson:\n",
    "        return \"abligali\"\n",
    "    elif abigail<benson:\n",
    "        return \"benson\"\n",
    "    else:\n",
    "        return \"tie\""
   ]
  },
  {
   "cell_type": "code",
   "execution_count": 21,
   "id": "718885b7",
   "metadata": {},
   "outputs": [
    {
     "data": {
      "text/plain": [
       "'tie'"
      ]
     },
     "execution_count": 21,
     "metadata": {},
     "output_type": "execute_result"
    }
   ],
   "source": [
    "win([[\"S\",\"P\"],[\"P\",\"R\"],[\"R\",\"R\"]])"
   ]
  },
  {
   "cell_type": "code",
   "execution_count": 22,
   "id": "babe5df5",
   "metadata": {},
   "outputs": [],
   "source": [
    "#7 There has been a masterdata issue which affected the prices of the products. Check if each product has a valid price (integer or float, and greater than or equal to zero). Products with a price of 0 are free and count as a valid price.\n",
    "#The return value should be a Boolean.\n",
    "#Examples\n",
    "#has_valid_price({ \"product\": \"Milk\", \"price\": 1.50 }) ➞ True\n",
    "\n",
    "\n",
    "def f1(product):\n",
    "    if product is None or not isinstance(product,dict):\n",
    "        return False\n",
    "\n",
    "    price=product.get(\"price\")\n",
    "    if isinstance(price,(int,float)) and price>=0:\n",
    "        return True\n",
    "\n",
    "    return False\n",
    "\n"
   ]
  },
  {
   "cell_type": "code",
   "execution_count": 24,
   "id": "8e8f0faa",
   "metadata": {},
   "outputs": [
    {
     "data": {
      "text/plain": [
       "True"
      ]
     },
     "execution_count": 24,
     "metadata": {},
     "output_type": "execute_result"
    }
   ],
   "source": [
    "f1({ \"product\": \"Milk\", \"price\": 1.50})"
   ]
  },
  {
   "cell_type": "code",
   "execution_count": 1,
   "id": "74db0ba4",
   "metadata": {},
   "outputs": [],
   "source": [
    "#8 In chess, queens can move any number of squares horizontally, vertically or diagonally.\n",
    "#Given the location of your queen and your opponents' queen, determine whether or not you're able to capture your opponent's queen. Your location and your opponents' location are the first and second elements of the list, respectively.\n",
    "#Examples\n",
    "#can_capture([\"A1\", \"H8\"]) ➞ True\n",
    "# Your queen can move diagonally to capture opponents' piece.\n",
    "\n",
    "def capture(x):\n",
    "    your=x[0]\n",
    "    opponent=x[1]\n",
    "    if your[0]==opponent[0] or your[1]==opponent[1]:\n",
    "        return True\n",
    "\n",
    "    if abs(ord(your[0])-ord(opponent[0]))==abs(int(your[1])-int(opponent[1])):\n",
    "        return True\n",
    "\n",
    "    return False\n"
   ]
  },
  {
   "cell_type": "code",
   "execution_count": 3,
   "id": "f8b45f06",
   "metadata": {},
   "outputs": [
    {
     "data": {
      "text/plain": [
       "True"
      ]
     },
     "execution_count": 3,
     "metadata": {},
     "output_type": "execute_result"
    }
   ],
   "source": [
    "capture([\"A1\",\"H8\"])"
   ]
  },
  {
   "cell_type": "code",
   "execution_count": 4,
   "id": "e4054811",
   "metadata": {},
   "outputs": [],
   "source": [
    "#9 Create a function that converts Celsius to Fahrenheit and vice versa.\n",
    "#Examples\n",
    "#convert(\"35*C\") ➞ \"95*F\"\n",
    "#convert(\"19*F\") ➞ \"-7*C\"\n",
    "#convert(\"33\") ➞ \"Error\"\n",
    "\n",
    "def convert(x):\n",
    "    if x.endswith(\"*C\"):\n",
    "        try:\n",
    "            celsius=float(x[:-2])\n",
    "            fahrenheit=celsius*9/5+32\n",
    "            return f\"{fahrenheit}*F\"\n",
    "        except ValueError:\n",
    "            return \"Error\"\n",
    "    elif x.endswith(\"*F\"):\n",
    "        try:\n",
    "            fahrenheit=float(x[:-2])\n",
    "            celsius=(fahrenheit-32)*5/9\n",
    "            return f\"{celsius}*C\"\n",
    "        except ValueError:\n",
    "            return \"Error\"\n",
    "    else:\n",
    "        return \"Error\""
   ]
  },
  {
   "cell_type": "code",
   "execution_count": 6,
   "id": "c5805759",
   "metadata": {},
   "outputs": [
    {
     "data": {
      "text/plain": [
       "'-7.222222222222222*C'"
      ]
     },
     "execution_count": 6,
     "metadata": {},
     "output_type": "execute_result"
    }
   ],
   "source": [
    "convert(\"19*F\")"
   ]
  },
  {
   "cell_type": "code",
   "execution_count": 8,
   "id": "a6da1c49",
   "metadata": {},
   "outputs": [],
   "source": [
    "#10 Create a function that takes an integer and returns it as an ordinal number. An Ordinal Number is a number that tells the position of something in a list, such as 1st, 2nd, 3rd, 4th, 5th, etc.\n",
    "#Examples\n",
    "#return_end_of_number(553) ➞ \"553-RD\"\n",
    "#return_end_of_number(34) ➞ \"34-TH\"\n",
    "\n",
    "\n",
    "def r(num):\n",
    "    if num%100 in (11,12,13):\n",
    "        ordinal=\"TH\"\n",
    "    else:\n",
    "        last_digit=num%10\n",
    "        if last_digit==1:\n",
    "            ordinal=\"ST\"\n",
    "        elif last_digit==2:\n",
    "            ordinal=\"ND\"\n",
    "        elif last_digit==3:\n",
    "            ordinal=\"RD\"\n",
    "        else:\n",
    "            ordinal=\"TH\"\n",
    "\n",
    "    return f\"{num}-{ordinal}\""
   ]
  },
  {
   "cell_type": "code",
   "execution_count": 9,
   "id": "338b93c9",
   "metadata": {},
   "outputs": [
    {
     "data": {
      "text/plain": [
       "'553-RD'"
      ]
     },
     "execution_count": 9,
     "metadata": {},
     "output_type": "execute_result"
    }
   ],
   "source": [
    "r(553)"
   ]
  },
  {
   "cell_type": "code",
   "execution_count": 10,
   "id": "f61fc1ee",
   "metadata": {},
   "outputs": [],
   "source": [
    "#11 Create a function that finds the reverse complement of a ribonucleic acid (RNA) strand. The RNA will be represented as a string containing only the characters \"A\", \"C\", \"G\" and \"U\". Since RNA can only (canonically) allow pairings of A/U and G/C, the complement of an RNA would be as follows:\n",
    "#Original\tComplement\n",
    "#\"AAA\"\t\"UUU\"\n",
    "#\"UUU\"\t\"AAA\"\n",
    "#\"GGG\"\t\"CCC\"\n",
    "#\"CCC\"\t\"GGG\"\n",
    "#Your function should find the complement on the right AND also reverse the resulting string.\n",
    "#Examples\n",
    "#reverse_complement(\"GUGU\") ➞ \"ACAC\"\n",
    "#reverse_complement(\"UCUCG\") ➞ \"CGAGA\"\n",
    "\n",
    "def f1(rna):\n",
    "    complement={'A': 'U', 'U': 'A', 'G': 'C', 'C': 'G'}\n",
    "    reverse_comp=''\n",
    "    \n",
    "    for x in rna:\n",
    "        reverse_comp=complement[x]+reverse_comp\n",
    "    \n",
    "    return reverse_comp\n"
   ]
  },
  {
   "cell_type": "code",
   "execution_count": 11,
   "id": "393d4e0c",
   "metadata": {},
   "outputs": [
    {
     "data": {
      "text/plain": [
       "'ACAC'"
      ]
     },
     "execution_count": 11,
     "metadata": {},
     "output_type": "execute_result"
    }
   ],
   "source": [
    "f1(\"GUGU\")"
   ]
  },
  {
   "cell_type": "code",
   "execution_count": null,
   "id": "2b27ca11",
   "metadata": {},
   "outputs": [],
   "source": []
  }
 ],
 "metadata": {
  "kernelspec": {
   "display_name": "Python 3 (ipykernel)",
   "language": "python",
   "name": "python3"
  },
  "language_info": {
   "codemirror_mode": {
    "name": "ipython",
    "version": 3
   },
   "file_extension": ".py",
   "mimetype": "text/x-python",
   "name": "python",
   "nbconvert_exporter": "python",
   "pygments_lexer": "ipython3",
   "version": "3.10.9"
  }
 },
 "nbformat": 4,
 "nbformat_minor": 5
}
