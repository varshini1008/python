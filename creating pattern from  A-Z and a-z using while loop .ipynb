{
 "cells": [
  {
   "cell_type": "code",
   "execution_count": 2,
   "id": "42357f48",
   "metadata": {},
   "outputs": [
    {
     "name": "stdout",
     "output_type": "stream",
     "text": [
      "  * \n",
      "*   *\n",
      "* * *\n",
      "*   *\n",
      "*   *\n"
     ]
    }
   ],
   "source": [
    "x=0\n",
    "while x<5:\n",
    "    if x==0:\n",
    "        print(\"  * \")\n",
    "    elif x==1 or x==3 or x==4:\n",
    "        print(\"*   *\")\n",
    "    else:\n",
    "        print(\"* * *\")\n",
    "    x=x+1"
   ]
  },
  {
   "cell_type": "code",
   "execution_count": 7,
   "id": "8e4bd8bd",
   "metadata": {},
   "outputs": [
    {
     "name": "stdout",
     "output_type": "stream",
     "text": [
      "*  *  *\n",
      "*      *\n",
      "*  *  *\n",
      "*      *\n",
      "*  *  *\n"
     ]
    }
   ],
   "source": [
    "x=0\n",
    "while x<5:\n",
    "    if x==0 or x==2 or x==4:\n",
    "        print(\"*  *  *\")\n",
    "    else:\n",
    "        print(\"*      *\")\n",
    "    x=x+1"
   ]
  },
  {
   "cell_type": "code",
   "execution_count": 9,
   "id": "beb93da5",
   "metadata": {},
   "outputs": [
    {
     "name": "stdout",
     "output_type": "stream",
     "text": [
      "*  *  *\n",
      "*      \n",
      "*      \n",
      "*      \n",
      "*  *  *\n"
     ]
    }
   ],
   "source": [
    "x=0\n",
    "while x<5:\n",
    "    if x==0  or x==4:\n",
    "        print(\"*  *  *\")\n",
    "    else:\n",
    "        print(\"*      \")\n",
    "    x=x+1"
   ]
  },
  {
   "cell_type": "code",
   "execution_count": 26,
   "id": "6e7d662b",
   "metadata": {},
   "outputs": [
    {
     "name": "stdout",
     "output_type": "stream",
     "text": [
      "*  *  *\n",
      "*      *\n",
      "*       *\n",
      "*      *\n",
      "*  *  *\n"
     ]
    }
   ],
   "source": [
    "x=0\n",
    "while x<5:\n",
    "    if x==0  or x==4:\n",
    "        print(\"*  *  *\")\n",
    "    elif x==1  or x==3:\n",
    "         print(\"*      *\")\n",
    "    else:\n",
    "        print(\"*       *\")\n",
    "    x=x+1"
   ]
  },
  {
   "cell_type": "code",
   "execution_count": 27,
   "id": "b894eff9",
   "metadata": {},
   "outputs": [
    {
     "name": "stdout",
     "output_type": "stream",
     "text": [
      "*  *  *\n",
      "*      \n",
      "*  *  *\n",
      "*      \n",
      "*  *  *\n"
     ]
    }
   ],
   "source": [
    "x=0\n",
    "while x<5:\n",
    "    if x==0 or x==2 or x==4:\n",
    "        print(\"*  *  *\")\n",
    "    else:\n",
    "        print(\"*      \")\n",
    "    x=x+1"
   ]
  },
  {
   "cell_type": "code",
   "execution_count": 29,
   "id": "bc88f254",
   "metadata": {},
   "outputs": [
    {
     "name": "stdout",
     "output_type": "stream",
     "text": [
      "*  *  *\n",
      "*      \n",
      "*  *  *\n",
      "*      \n",
      "*      \n"
     ]
    }
   ],
   "source": [
    "x=0\n",
    "while x<5:\n",
    "    if x==0 or x==2 :\n",
    "        print(\"*  *  *\")\n",
    "    else:\n",
    "        print(\"*      \")\n",
    "    x=x+1"
   ]
  },
  {
   "cell_type": "code",
   "execution_count": 37,
   "id": "277a5776",
   "metadata": {},
   "outputs": [
    {
     "name": "stdout",
     "output_type": "stream",
     "text": [
      "*  *  *\n",
      "*      \n",
      "*  *  *\n",
      "*     *\n",
      "*  *  *\n"
     ]
    }
   ],
   "source": [
    "x=0\n",
    "while x<5:\n",
    "    if x==0 or x==2 or x==4:\n",
    "        print(\"*  *  *\")\n",
    "    elif x==3: \n",
    "        print(\"*     *\")   \n",
    "    else:\n",
    "        print(\"*      \")\n",
    "    x=x+1"
   ]
  },
  {
   "cell_type": "code",
   "execution_count": 39,
   "id": "ae7a916a",
   "metadata": {},
   "outputs": [
    {
     "name": "stdout",
     "output_type": "stream",
     "text": [
      "*     *\n",
      "*     *\n",
      "*  *  *\n",
      "*     *\n",
      "*     *\n"
     ]
    }
   ],
   "source": [
    "x=0\n",
    "while x<5:\n",
    "    if  x==2 :\n",
    "        print(\"*  *  *\")\n",
    "    else:\n",
    "        print(\"*     *\")\n",
    "    x=x+1"
   ]
  },
  {
   "cell_type": "code",
   "execution_count": 40,
   "id": "2f2dfb65",
   "metadata": {},
   "outputs": [
    {
     "name": "stdout",
     "output_type": "stream",
     "text": [
      "*  *  *\n",
      "   *    \n",
      "   *    \n",
      "   *    \n",
      "*  *  *\n"
     ]
    }
   ],
   "source": [
    "x=0\n",
    "while x<5:\n",
    "    if x==0 or x==4:\n",
    "        print(\"*  *  *\")\n",
    "    else:\n",
    "        print(\"   *    \")\n",
    "    x=x+1"
   ]
  },
  {
   "cell_type": "code",
   "execution_count": 53,
   "id": "ced19c1b",
   "metadata": {},
   "outputs": [
    {
     "name": "stdout",
     "output_type": "stream",
     "text": [
      "* * * * * \n",
      "    *  \n",
      "    *  \n",
      "    *  \n",
      "* * * \n"
     ]
    }
   ],
   "source": [
    "x=0\n",
    "while x<5:\n",
    "    if x==0:\n",
    "        print(\"* * * * * \")\n",
    "    elif x==4:\n",
    "        print(\"* * * \")\n",
    "    else:\n",
    "        print(\"    *  \")\n",
    "    x=x+1"
   ]
  },
  {
   "cell_type": "code",
   "execution_count": 55,
   "id": "42fcdb6d",
   "metadata": {},
   "outputs": [
    {
     "name": "stdout",
     "output_type": "stream",
     "text": [
      "*    *\n",
      "*  *\n",
      "**\n",
      "*  *\n",
      "*    *\n"
     ]
    }
   ],
   "source": [
    "x=0\n",
    "while x<5:\n",
    "    if x==0 or x==4:\n",
    "        print(\"*    *\")\n",
    "    elif x==1 or x==3:\n",
    "        print(\"*  *\")\n",
    "    else:\n",
    "        print(\"**\")\n",
    "    x=x+1"
   ]
  },
  {
   "cell_type": "code",
   "execution_count": 57,
   "id": "87bfa128",
   "metadata": {},
   "outputs": [
    {
     "name": "stdout",
     "output_type": "stream",
     "text": [
      "*      \n",
      "*      \n",
      "*      \n",
      "*      \n",
      "* * * * *\n"
     ]
    }
   ],
   "source": [
    "x=0\n",
    "while x<5:\n",
    "    if x==4:\n",
    "        print(\"* * * * *\")\n",
    "    else:\n",
    "        print(\"*      \")\n",
    "    x=x+1"
   ]
  },
  {
   "cell_type": "code",
   "execution_count": 82,
   "id": "e3106f35",
   "metadata": {},
   "outputs": [
    {
     "name": "stdout",
     "output_type": "stream",
     "text": [
      "*        *\n",
      "*  *  *  *\n",
      "*    *   *\n",
      "*        *\n",
      "*        *\n"
     ]
    }
   ],
   "source": [
    "x=0\n",
    "while x<5:\n",
    "    if x==0 or x==3 or x==4:\n",
    "        print(\"*        *\")\n",
    "    elif x==1:\n",
    "        print(\"*  *  *  *\")\n",
    "    else:\n",
    "        print(\"*    *   *\")\n",
    "    x=x+1"
   ]
  },
  {
   "cell_type": "code",
   "execution_count": 93,
   "id": "f9587f46",
   "metadata": {},
   "outputs": [
    {
     "name": "stdout",
     "output_type": "stream",
     "text": [
      "*      *\n",
      "* *    *\n",
      "*   *  *\n",
      "*    * *\n",
      "*      *\n"
     ]
    }
   ],
   "source": [
    "x=0\n",
    "while x<5:\n",
    "    if x==0 or x==4:\n",
    "        print(\"*      *\")\n",
    "    elif x==1:\n",
    "        print(\"* *    *\")\n",
    "    elif x==2:\n",
    "        print(\"*   *  *\") \n",
    "    else:\n",
    "        print(\"*    * *\")\n",
    "        \n",
    "        \n",
    "    x=x+1"
   ]
  },
  {
   "cell_type": "code",
   "execution_count": 97,
   "id": "efaa771e",
   "metadata": {},
   "outputs": [
    {
     "name": "stdout",
     "output_type": "stream",
     "text": [
      "* * * *\n",
      "*     *\n",
      "*     *\n",
      "*     *\n",
      "* * * *\n"
     ]
    }
   ],
   "source": [
    " x=0\n",
    "while x<5:\n",
    "    if x==0 or x==4:\n",
    "        print(\"* * * *\")\n",
    "    \n",
    "    else:\n",
    "        print(\"*     *\")\n",
    "        \n",
    "        \n",
    "    x=x+1"
   ]
  },
  {
   "cell_type": "code",
   "execution_count": 100,
   "id": "ac9f762c",
   "metadata": {},
   "outputs": [
    {
     "name": "stdout",
     "output_type": "stream",
     "text": [
      "*  *  *\n",
      "*     *\n",
      "*  *  *\n",
      "*    \n",
      "*    \n"
     ]
    }
   ],
   "source": [
    "x=0\n",
    "while x<5:\n",
    "    if x==0 or x==2:\n",
    "        print(\"*  *  *\")\n",
    "    elif x==1:\n",
    "        print(\"*     *\")\n",
    "\n",
    "    else:\n",
    "        print(\"*    \")\n",
    "        \n",
    "        \n",
    "    x=x+1"
   ]
  },
  {
   "cell_type": "code",
   "execution_count": 107,
   "id": "1f11cb1e",
   "metadata": {},
   "outputs": [
    {
     "name": "stdout",
     "output_type": "stream",
     "text": [
      "* * * *\n",
      "*     *\n",
      "*     *\n",
      "*   \\ *\n",
      "* * *\\*\n"
     ]
    }
   ],
   "source": [
    " x=0\n",
    "while x<5:\n",
    "    if x==0 :\n",
    "        print(\"* * * *\")\n",
    "    elif x==3:\n",
    "        print(\"*   \\ *\")\n",
    "    elif x==4:\n",
    "        print(\"* * *\\*\")\n",
    "    \n",
    "    else:\n",
    "        print(\"*     *\")\n",
    "        \n",
    "        \n",
    "    x=x+1"
   ]
  },
  {
   "cell_type": "code",
   "execution_count": 113,
   "id": "768a68c4",
   "metadata": {},
   "outputs": [
    {
     "name": "stdout",
     "output_type": "stream",
     "text": [
      "* * * *\n",
      "*     *\n",
      "* * * *\n",
      "*     *\n",
      "*      *\n"
     ]
    }
   ],
   "source": [
    " x=0\n",
    "while x<5:\n",
    "    if x==0 or x==2:\n",
    "        print(\"* * * *\")\n",
    "    elif x==4:\n",
    "        print(\"*      *\")\n",
    "    \n",
    "    else:\n",
    "        print(\"*     *\")\n",
    "        \n",
    "        \n",
    "    x=x+1"
   ]
  },
  {
   "cell_type": "code",
   "execution_count": 117,
   "id": "578c8f02",
   "metadata": {},
   "outputs": [
    {
     "name": "stdout",
     "output_type": "stream",
     "text": [
      "* * * *\n",
      "*     \n",
      "* * * *\n",
      "      *\n",
      "* * * *\n"
     ]
    }
   ],
   "source": [
    " x=0\n",
    "while x<5:\n",
    "    if x==0 or x==2 or x==4:\n",
    "        print(\"* * * *\")\n",
    "    elif x==3:\n",
    "        print(\"      *\")\n",
    "    \n",
    "    else:\n",
    "        print(\"*     \")\n",
    "        \n",
    "        \n",
    "    x=x+1"
   ]
  },
  {
   "cell_type": "code",
   "execution_count": 119,
   "id": "34a4cfe8",
   "metadata": {},
   "outputs": [
    {
     "name": "stdout",
     "output_type": "stream",
     "text": [
      "* * * *\n",
      "   *\n",
      "   *\n",
      "   *\n",
      "   *\n"
     ]
    }
   ],
   "source": [
    " x=0\n",
    "while x<5:\n",
    "    if x==0 :\n",
    "        print(\"* * * *\")\n",
    "    \n",
    "    else:\n",
    "        print(\"   *\")\n",
    "        \n",
    "        \n",
    "    x=x+1"
   ]
  },
  {
   "cell_type": "code",
   "execution_count": 120,
   "id": "64fe30ed",
   "metadata": {},
   "outputs": [
    {
     "name": "stdout",
     "output_type": "stream",
     "text": [
      "*     *\n",
      "*     *\n",
      "*     *\n",
      "*     *\n",
      "* * * *\n"
     ]
    }
   ],
   "source": [
    " x=0\n",
    "while x<5:\n",
    "    if x==4:\n",
    "        print(\"* * * *\")\n",
    "    \n",
    "    else:\n",
    "        print(\"*     *\")\n",
    "        \n",
    "        \n",
    "    x=x+1"
   ]
  },
  {
   "cell_type": "code",
   "execution_count": 137,
   "id": "64639191",
   "metadata": {},
   "outputs": [
    {
     "name": "stdout",
     "output_type": "stream",
     "text": [
      "*    *\n",
      " *  * \n",
      "   *  \n"
     ]
    }
   ],
   "source": [
    " x=0\n",
    "while x<3:\n",
    "    if x==0 :\n",
    "        print(\"*    *\")\n",
    "    elif x==1:\n",
    "        print(\" *  * \")\n",
    "\n",
    "    \n",
    "    else:\n",
    "        print(\"   *  \")\n",
    "        \n",
    "        \n",
    "    x=x+1"
   ]
  },
  {
   "cell_type": "code",
   "execution_count": 149,
   "id": "c5110eb9",
   "metadata": {},
   "outputs": [
    {
     "name": "stdout",
     "output_type": "stream",
     "text": [
      "*       *\n",
      "*   *   *\n",
      "* *   * *\n",
      "*       *\n"
     ]
    }
   ],
   "source": [
    " x=0\n",
    "while x<4:\n",
    "    if x==0 or x==3 :\n",
    "        print(\"*       *\")\n",
    "    elif x==2:\n",
    "        print(\"* *   * *\")\n",
    "\n",
    "    \n",
    "    else:\n",
    "        print(\"*   *   *\")\n",
    "        \n",
    "        \n",
    "    x=x+1"
   ]
  },
  {
   "cell_type": "code",
   "execution_count": 1,
   "id": "8843fc93",
   "metadata": {},
   "outputs": [
    {
     "name": "stdout",
     "output_type": "stream",
     "text": [
      "*       *\n",
      "  *   * \n",
      "    *    \n",
      "  *   * \n",
      "*       *\n"
     ]
    }
   ],
   "source": [
    " x=0\n",
    "while x<5:\n",
    "    if x==0 or x==4 :\n",
    "        print(\"*       *\")\n",
    "    elif x==1 or x==3:\n",
    "        print(\"  *   * \")\n",
    "\n",
    "    \n",
    "    else:\n",
    "        print(\"    *    \")\n",
    "    x=x+1"
   ]
  },
  {
   "cell_type": "code",
   "execution_count": 2,
   "id": "5bb3cdeb",
   "metadata": {},
   "outputs": [
    {
     "name": "stdout",
     "output_type": "stream",
     "text": [
      "*       *\n",
      "  *   * \n",
      "    *    \n",
      "    *    \n",
      "    *    \n"
     ]
    }
   ],
   "source": [
    "x=0\n",
    "while x<5:\n",
    "    if x==0:\n",
    "        print(\"*       *\")\n",
    "    elif x==1:\n",
    "        print(\"  *   * \")\n",
    "\n",
    "    else:\n",
    "        print(\"    *    \")\n",
    "    x=x+1"
   ]
  },
  {
   "cell_type": "code",
   "execution_count": 12,
   "id": "4b7fb204",
   "metadata": {},
   "outputs": [
    {
     "name": "stdout",
     "output_type": "stream",
     "text": [
      "*  *  *\n",
      "     * \n",
      "   * \n",
      " * \n",
      "*  *  *\n"
     ]
    }
   ],
   "source": [
    "x=0\n",
    "while x<5:\n",
    "    if x==0 or x==4 :\n",
    "        print(\"*  *  *\")\n",
    "    elif x==1:\n",
    "        print(\"     * \")\n",
    "    elif x==2:\n",
    "        print(\"   * \")\n",
    "    else:\n",
    "        print(\" * \")\n",
    "    \n",
    "    x=x+1"
   ]
  },
  {
   "cell_type": "code",
   "execution_count": 40,
   "id": "99113b5a",
   "metadata": {},
   "outputs": [
    {
     "name": "stdout",
     "output_type": "stream",
     "text": [
      "* * * * \n",
      "      *\n",
      "* * * *\n",
      "*     *\n",
      "* * * *\n"
     ]
    }
   ],
   "source": [
    " x=0\n",
    "while x<5:\n",
    "    if x==0 :\n",
    "        print(\"* * * * \")\n",
    "    elif x==1:\n",
    "        print(\"      *\")\n",
    "    elif x==2:\n",
    "        print(\"* * * *\")\n",
    "    elif x==4:\n",
    "        print(\"* * * *\")\n",
    "    \n",
    "    else:\n",
    "        print(\"*     *\")\n",
    "        \n",
    "    x=x+1"
   ]
  },
  {
   "cell_type": "code",
   "execution_count": 45,
   "id": "a68fd2a9",
   "metadata": {},
   "outputs": [
    {
     "name": "stdout",
     "output_type": "stream",
     "text": [
      "* \n",
      "* \n",
      "* * *\n",
      "*   *\n",
      "* * *\n"
     ]
    }
   ],
   "source": [
    "x=0\n",
    "while x<5:\n",
    "    if x==0 or x==1:\n",
    "        print(\"* \")\n",
    "    elif x==2 or x==4:\n",
    "        print(\"* * *\")\n",
    "    \n",
    "    else:\n",
    "        print(\"*   *\")\n",
    "    x=x+1"
   ]
  },
  {
   "cell_type": "code",
   "execution_count": 48,
   "id": "af3500bf",
   "metadata": {},
   "outputs": [
    {
     "name": "stdout",
     "output_type": "stream",
     "text": [
      "* * *\n",
      "*   \n",
      "* * *\n"
     ]
    }
   ],
   "source": [
    "x=0\n",
    "while x<3:\n",
    "    if x==0 or x==2:\n",
    "        print(\"* * *\")\n",
    " \n",
    "    else:\n",
    "        print(\"*   \")\n",
    "    x=x+1"
   ]
  },
  {
   "cell_type": "code",
   "execution_count": 51,
   "id": "0386af0a",
   "metadata": {},
   "outputs": [
    {
     "name": "stdout",
     "output_type": "stream",
     "text": [
      "    *\n",
      "    *\n",
      "* * *\n",
      "*   *\n",
      "* * *\n"
     ]
    }
   ],
   "source": [
    "x=0\n",
    "while x<5:\n",
    "    if x==0 or x==1:\n",
    "        print(\"    *\")\n",
    "    elif x==2 or x==4:\n",
    "        print(\"* * *\")\n",
    "    \n",
    "    else:\n",
    "        print(\"*   *\")\n",
    "    x=x+1"
   ]
  },
  {
   "cell_type": "code",
   "execution_count": 58,
   "id": "6578425b",
   "metadata": {},
   "outputs": [
    {
     "name": "stdout",
     "output_type": "stream",
     "text": [
      "* * *\n",
      "*   *\n",
      "* * *\n",
      "*   \n",
      "* * *\n"
     ]
    }
   ],
   "source": [
    "x=0\n",
    "while x<5:\n",
    "    if x==1:\n",
    "        print(\"*   *\")\n",
    "    elif x==0 or x==2 or x==4:\n",
    "        print(\"* * *\")\n",
    "    \n",
    "    else:\n",
    "        print(\"*   \")\n",
    "    x=x+1"
   ]
  },
  {
   "cell_type": "code",
   "execution_count": 67,
   "id": "fbc90a6e",
   "metadata": {},
   "outputs": [
    {
     "name": "stdout",
     "output_type": "stream",
     "text": [
      "   * *\n",
      "  *   \n",
      "* * * \n",
      "  *   \n",
      "  *   \n"
     ]
    }
   ],
   "source": [
    "x=0\n",
    "while x<5:\n",
    "    if x==0 :\n",
    "        print(\"   * *\")\n",
    "    elif x==2:\n",
    "        print(\"* * * \")\n",
    "    \n",
    "    else:\n",
    "        print(\"  *   \")\n",
    "    x=x+1"
   ]
  },
  {
   "cell_type": "code",
   "execution_count": 73,
   "id": "46e4cb98",
   "metadata": {},
   "outputs": [
    {
     "name": "stdout",
     "output_type": "stream",
     "text": [
      "* * *\n",
      "*   *\n",
      "* * *\n",
      "    *\n",
      "* * *\n"
     ]
    }
   ],
   "source": [
    "x=0\n",
    "while x<5:\n",
    "    if x==0 or x==2 or x==4:\n",
    "        print(\"* * *\")\n",
    "    elif x==1:\n",
    "        print(\"*   *\")\n",
    "    \n",
    "    else:\n",
    "        print(\"    *\")\n",
    "    x=x+1"
   ]
  },
  {
   "cell_type": "code",
   "execution_count": 78,
   "id": "0e06d4e4",
   "metadata": {},
   "outputs": [
    {
     "name": "stdout",
     "output_type": "stream",
     "text": [
      "*\n",
      "*\n",
      "* * *\n",
      "*   *\n",
      "*   *\n"
     ]
    }
   ],
   "source": [
    "x=0\n",
    "while x<5:\n",
    "    if x==2:\n",
    "        print(\"* * *\")\n",
    "    elif x==3 or x==4:\n",
    "        print(\"*   *\")\n",
    "    \n",
    "    else:\n",
    "        print(\"*\")\n",
    "    x=x+1"
   ]
  },
  {
   "cell_type": "code",
   "execution_count": 1,
   "id": "a8bfe1e0",
   "metadata": {},
   "outputs": [
    {
     "name": "stdout",
     "output_type": "stream",
     "text": [
      "  *\n",
      " \n",
      "  *\n",
      "  *\n",
      "  *\n"
     ]
    }
   ],
   "source": [
    "x=0\n",
    "while x<5:\n",
    "    if x==0:\n",
    "        print(\"  *\")\n",
    "    elif x==1:\n",
    "        print(\" \")\n",
    "    else:\n",
    "        print(\"  *\")\n",
    "    x=x+1"
   ]
  },
  {
   "cell_type": "code",
   "execution_count": 5,
   "id": "e397095a",
   "metadata": {},
   "outputs": [
    {
     "name": "stdout",
     "output_type": "stream",
     "text": [
      "    *\n",
      " \n",
      "    *\n",
      "    *\n",
      "* * *\n"
     ]
    }
   ],
   "source": [
    "x=0\n",
    "while x<5:\n",
    "    if x==0:\n",
    "        print(\"    *\")\n",
    "    elif  x==1:\n",
    "        print(\" \")\n",
    "    elif x==4:\n",
    "        print(\"* * *\")\n",
    "    else:\n",
    "        print(\"    *\")\n",
    "    x=x+1"
   ]
  },
  {
   "cell_type": "code",
   "execution_count": 15,
   "id": "bc131616",
   "metadata": {},
   "outputs": [
    {
     "name": "stdout",
     "output_type": "stream",
     "text": [
      "*    *\n",
      "*  *\n",
      "**\n",
      "*  *\n",
      "*    *\n"
     ]
    }
   ],
   "source": [
    "x=0\n",
    "while x<5:\n",
    "    if x==0 or x==4:\n",
    "        print(\"*    *\")\n",
    "    elif x==1 or x==3:\n",
    "        print(\"*  *\")\n",
    "    else:\n",
    "        print(\"**\")\n",
    "    x=x+1"
   ]
  },
  {
   "cell_type": "code",
   "execution_count": 24,
   "id": "af958f09",
   "metadata": {},
   "outputs": [
    {
     "name": "stdout",
     "output_type": "stream",
     "text": [
      "*\n",
      "*\n",
      "* * * \n"
     ]
    }
   ],
   "source": [
    "x=0\n",
    "while x<3:\n",
    "    if x==2:\n",
    "        print(\"* * * \") \n",
    "    else:\n",
    "        print(\"*\")\n",
    "   \n",
    "    x=x+1"
   ]
  },
  {
   "cell_type": "code",
   "execution_count": 9,
   "id": "2a605ccd",
   "metadata": {},
   "outputs": [
    {
     "name": "stdout",
     "output_type": "stream",
     "text": [
      " * * \n",
      "* * *\n",
      "* * *\n"
     ]
    }
   ],
   "source": [
    "x=0\n",
    "while x<3:\n",
    "        if x==0:\n",
    "            print(\" * * \") \n",
    "        else:\n",
    "            print(\"* * *\")\n",
    "        x=x+1"
   ]
  },
  {
   "cell_type": "code",
   "execution_count": 10,
   "id": "cdde3cc8",
   "metadata": {},
   "outputs": [
    {
     "name": "stdout",
     "output_type": "stream",
     "text": [
      " * * \n",
      "*   *\n",
      "*   *\n"
     ]
    }
   ],
   "source": [
    "x=0\n",
    "while x<3:\n",
    "        if x==0:\n",
    "            print(\" * * \") \n",
    "        else:\n",
    "            print(\"*   *\")\n",
    "        x=x+1"
   ]
  },
  {
   "cell_type": "code",
   "execution_count": 14,
   "id": "00c85ee4",
   "metadata": {},
   "outputs": [
    {
     "name": "stdout",
     "output_type": "stream",
     "text": [
      "* * * \n",
      "*   *\n",
      "* * * \n"
     ]
    }
   ],
   "source": [
    "x=0\n",
    "while x<3:\n",
    "        if x==0 or x==2:\n",
    "            print(\"* * * \") \n",
    "        else:\n",
    "            print(\"*   *\")\n",
    "        x=x+1"
   ]
  },
  {
   "cell_type": "code",
   "execution_count": 19,
   "id": "fec5ef21",
   "metadata": {},
   "outputs": [
    {
     "name": "stdout",
     "output_type": "stream",
     "text": [
      "* * * \n",
      "*   *\n",
      "* * * \n",
      "*   \n",
      "*   \n"
     ]
    }
   ],
   "source": [
    "x=0\n",
    "while x<5:\n",
    "        if x==0 or x==2:\n",
    "            print(\"* * * \") \n",
    "        elif x==1:\n",
    "            print(\"*   *\")\n",
    "        else:\n",
    "            print(\"*   \")\n",
    "        x=x+1"
   ]
  },
  {
   "cell_type": "code",
   "execution_count": 26,
   "id": "6c427be3",
   "metadata": {},
   "outputs": [
    {
     "name": "stdout",
     "output_type": "stream",
     "text": [
      "* * * \n",
      "*   *\n",
      "* * * \n",
      "    * *\n",
      "    * \n"
     ]
    }
   ],
   "source": [
    "x=0\n",
    "while x<5:\n",
    "        if x==0 or x==2:\n",
    "            print(\"* * * \") \n",
    "        elif x==1:\n",
    "            print(\"*   *\")\n",
    "        elif x==3:\n",
    "            print(\"    * *\")\n",
    "        else:\n",
    "            print(\"    * \")\n",
    "        x=x+1"
   ]
  },
  {
   "cell_type": "code",
   "execution_count": 46,
   "id": "cdcb2d03",
   "metadata": {},
   "outputs": [
    {
     "name": "stdout",
     "output_type": "stream",
     "text": [
      " *   *  \n",
      "  **\n",
      "  *   \n",
      "  *   \n"
     ]
    }
   ],
   "source": [
    "x=1\n",
    "while x<5:\n",
    "        if x==1 :\n",
    "            print(\" *   *  \")\n",
    "       \n",
    "        elif x==2:\n",
    "            print(\"  **\")\n",
    "        else:\n",
    "            print(\"  *   \")\n",
    "        x=x+1"
   ]
  },
  {
   "cell_type": "code",
   "execution_count": 37,
   "id": "ebbf22ef",
   "metadata": {},
   "outputs": [
    {
     "name": "stdout",
     "output_type": "stream",
     "text": [
      "* * * \n",
      "*  \n",
      "* * * \n",
      "    *   \n",
      "* * * \n"
     ]
    }
   ],
   "source": [
    "x=0\n",
    "while x<5:\n",
    "        if x==0 or x==2 or x==4:\n",
    "            print(\"* * * \") \n",
    "        elif x==1:\n",
    "            print(\"*  \")\n",
    "        else:\n",
    "            print(\"    *   \")\n",
    "        x=x+1"
   ]
  },
  {
   "cell_type": "code",
   "execution_count": 8,
   "id": "31dfbdc7",
   "metadata": {},
   "outputs": [
    {
     "name": "stdout",
     "output_type": "stream",
     "text": [
      "  *  \n",
      "* * *\n",
      "  *  \n",
      "  * * \n"
     ]
    }
   ],
   "source": [
    "x=0\n",
    "while x<4:\n",
    "        if x==0 or x==2 :\n",
    "            print(\"  *  \") \n",
    "        elif x==1:\n",
    "            print(\"* * *\")\n",
    "        else:\n",
    "            print(\"  * * \")\n",
    "        x=x+1"
   ]
  },
  {
   "cell_type": "code",
   "execution_count": 12,
   "id": "4ee435a7",
   "metadata": {},
   "outputs": [
    {
     "name": "stdout",
     "output_type": "stream",
     "text": [
      "*   *  \n",
      "*   *  \n",
      "* * *\n"
     ]
    }
   ],
   "source": [
    "x=0\n",
    "while x<3:\n",
    "        if x==2 :\n",
    "            print(\"* * *\") \n",
    "       \n",
    "        else:\n",
    "            print(\"*   * \")\n",
    "        x=x+1"
   ]
  },
  {
   "cell_type": "code",
   "execution_count": 16,
   "id": "cea2a3ad",
   "metadata": {},
   "outputs": [
    {
     "name": "stdout",
     "output_type": "stream",
     "text": [
      "*   *\n",
      " * *\n",
      "  * \n"
     ]
    }
   ],
   "source": [
    "x=0\n",
    "while x<3:\n",
    "        if x==0 :\n",
    "            print(\"*   *\") \n",
    "        elif x==1:\n",
    "            print(\" * *\")\n",
    "       \n",
    "        else:\n",
    "            print(\"  * \")\n",
    "        x=x+1"
   ]
  },
  {
   "cell_type": "code",
   "execution_count": 27,
   "id": "e7c1de19",
   "metadata": {},
   "outputs": [
    {
     "name": "stdout",
     "output_type": "stream",
     "text": [
      "*     *\n",
      "*  *  *\n",
      " *   * \n"
     ]
    }
   ],
   "source": [
    "x=0\n",
    "while x<3:\n",
    "        if x==0 :\n",
    "            print(\"*     *\") \n",
    "        elif x==1:\n",
    "            print(\"*  *  *\")\n",
    "       \n",
    "        else:\n",
    "            print(\" *   * \")\n",
    "        x=x+1"
   ]
  },
  {
   "cell_type": "code",
   "execution_count": 31,
   "id": "d0023ac1",
   "metadata": {},
   "outputs": [
    {
     "name": "stdout",
     "output_type": "stream",
     "text": [
      "*   *\n",
      "  * \n",
      "*   *\n"
     ]
    }
   ],
   "source": [
    "x=0\n",
    "while x<3:\n",
    "        if x==0 or x==2 :\n",
    "            print(\"*   *\") \n",
    " \n",
    "       \n",
    "        else:\n",
    "            print(\"  * \")\n",
    "        x=x+1"
   ]
  },
  {
   "cell_type": "code",
   "execution_count": 42,
   "id": "c9b673b5",
   "metadata": {},
   "outputs": [
    {
     "name": "stdout",
     "output_type": "stream",
     "text": [
      "*   *\n",
      "  * \n",
      "  * \n",
      "  * \n"
     ]
    }
   ],
   "source": [
    "x=0\n",
    "while x<4:\n",
    "        if x==0 :\n",
    "            print(\"*   *\") \n",
    "     \n",
    "      \n",
    "        else:\n",
    "            print(\"  * \")\n",
    "        x=x+1"
   ]
  },
  {
   "cell_type": "code",
   "execution_count": 49,
   "id": "20c7778e",
   "metadata": {},
   "outputs": [
    {
     "name": "stdout",
     "output_type": "stream",
     "text": [
      "* * *\n",
      "  * \n",
      " *\n",
      "* * *\n"
     ]
    }
   ],
   "source": [
    "x=0\n",
    "while x<4:\n",
    "        if x==0 or x==3 :\n",
    "            print(\"* * *\") \n",
    "        elif x==2:\n",
    "            print(\" *\")\n",
    "     \n",
    "       \n",
    "        else:\n",
    "            print(\"  * \")\n",
    "        x=x+1"
   ]
  },
  {
   "cell_type": "code",
   "execution_count": null,
   "id": "1985f39e",
   "metadata": {},
   "outputs": [],
   "source": []
  }
 ],
 "metadata": {
  "kernelspec": {
   "display_name": "Python 3 (ipykernel)",
   "language": "python",
   "name": "python3"
  },
  "language_info": {
   "codemirror_mode": {
    "name": "ipython",
    "version": 3
   },
   "file_extension": ".py",
   "mimetype": "text/x-python",
   "name": "python",
   "nbconvert_exporter": "python",
   "pygments_lexer": "ipython3",
   "version": "3.10.9"
  }
 },
 "nbformat": 4,
 "nbformat_minor": 5
}
