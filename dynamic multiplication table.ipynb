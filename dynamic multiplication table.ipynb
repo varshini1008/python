{
 "cells": [
  {
   "cell_type": "code",
   "execution_count": 1,
   "id": "410cc5f2",
   "metadata": {},
   "outputs": [
    {
     "name": "stdout",
     "output_type": "stream",
     "text": [
      "which multiplication table do you want :5\n",
      "how many values do you want to enter15\n",
      "5*1=5\n",
      "5*2=10\n",
      "5*3=15\n",
      "5*4=20\n",
      "5*5=25\n",
      "5*6=30\n",
      "5*7=35\n",
      "5*8=40\n",
      "5*9=45\n",
      "5*10=50\n",
      "5*11=55\n",
      "5*12=60\n",
      "5*13=65\n",
      "5*14=70\n",
      "5*15=75\n"
     ]
    }
   ],
   "source": [
    "table=int(input(\"which multiplication table do you want :\"))\n",
    "value=int(input(\"how many values do you want to enter\"))\n",
    "for y in range(1,value+1):\n",
    "    print(\"{}*{}={}\".format(table,y,table*y))"
   ]
  },
  {
   "cell_type": "code",
   "execution_count": null,
   "id": "4dccb975",
   "metadata": {},
   "outputs": [],
   "source": []
  }
 ],
 "metadata": {
  "kernelspec": {
   "display_name": "Python 3 (ipykernel)",
   "language": "python",
   "name": "python3"
  },
  "language_info": {
   "codemirror_mode": {
    "name": "ipython",
    "version": 3
   },
   "file_extension": ".py",
   "mimetype": "text/x-python",
   "name": "python",
   "nbconvert_exporter": "python",
   "pygments_lexer": "ipython3",
   "version": "3.10.9"
  }
 },
 "nbformat": 4,
 "nbformat_minor": 5
}
