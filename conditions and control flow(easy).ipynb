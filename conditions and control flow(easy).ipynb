{
 "cells": [
  {
   "cell_type": "code",
   "execution_count": 1,
   "id": "e83e3db2",
   "metadata": {},
   "outputs": [],
   "source": [
    "#1 Luke Skywalker has family and friends. Help him remind them who is who. Given a string with a name, return the relation of that person to Luke.\n",
    "#Person\tRelation\n",
    "#Darth Vader\tfather\n",
    "#Leia\tsister\n",
    "#Han\tbrother in law\n",
    "#R2D2\tdroid\n",
    "\n",
    "def f1(name):\n",
    "    if name==\"Darth_vader\":\n",
    "        return \"Luke,I am your father\"\n",
    "    elif name==\"Leia\":\n",
    "        return \"Luke,I am your sister\"\n",
    "    elif name==\"Han\":\n",
    "        return \"Luke,I am your brother in law\"\n",
    "    elif name==\"R2D2\":\n",
    "        return \"Luke,your droid\"\n",
    "    else:\n",
    "        return"
   ]
  },
  {
   "cell_type": "code",
   "execution_count": 2,
   "id": "7346f23b",
   "metadata": {},
   "outputs": [
    {
     "data": {
      "text/plain": [
       "'Luke,I am your sister'"
      ]
     },
     "execution_count": 2,
     "metadata": {},
     "output_type": "execute_result"
    }
   ],
   "source": [
    "f1(\"Leia\")"
   ]
  },
  {
   "cell_type": "code",
   "execution_count": 3,
   "id": "dc38d7e6",
   "metadata": {},
   "outputs": [],
   "source": [
    "#2 Create a function that takes damage and speed (attacks per second) and returns the amount of damage after a given time.\n",
    " \n",
    "def f1(damage,speed,time):\n",
    "    if time==\"second\":\n",
    "        return damage*speed\n",
    "    elif time==\"minute\":\n",
    "        return damage*speed*60\n",
    "    elif time==\"hour\":\n",
    "        return damage*speed*3600\n",
    "    else:\n",
    "        return \"invalid\""
   ]
  },
  {
   "cell_type": "code",
   "execution_count": 6,
   "id": "743c103a",
   "metadata": {},
   "outputs": [
    {
     "name": "stdout",
     "output_type": "stream",
     "text": [
      "200\n",
      "6000\n",
      "720000\n"
     ]
    }
   ],
   "source": [
    "print(f1(40,5,\"second\"))\n",
    "print(f1(100,1,\"minute\"))\n",
    "print(f1(2,100,\"hour\"))"
   ]
  },
  {
   "cell_type": "code",
   "execution_count": 11,
   "id": "939387cb",
   "metadata": {},
   "outputs": [],
   "source": [
    "#3 Create a function that takes a number as input and returns True if the sum of its digits has the same parity as the entire number. Otherwise, return False   \n",
    "x=lambda n:n%2==sum(map(int,str(n)))%2 \n",
    "   "
   ]
  },
  {
   "cell_type": "code",
   "execution_count": 20,
   "id": "b66563a9",
   "metadata": {},
   "outputs": [
    {
     "data": {
      "text/plain": [
       "True"
      ]
     },
     "execution_count": 20,
     "metadata": {},
     "output_type": "execute_result"
    }
   ],
   "source": [
    "x(243)"
   ]
  },
  {
   "cell_type": "code",
   "execution_count": 74,
   "id": "8bce0a5a",
   "metadata": {},
   "outputs": [],
   "source": [
    "#4 Create a function that takes a string, checks if it has the same number of \"x\"s and \"o\"s and returns either True or False.\n",
    "#Return a boolean value (True or False).\n",
    "#Return True if the amount of x's and o's are the same.\n",
    "#Return False if they aren't the same amount.\n",
    "#The string can contain any character.\n",
    "#When \"x\" and \"o\" are not in the string, return True.\n",
    "\n",
    "def str1(y):\n",
    "        if \"o\" or \"x\" in y:\n",
    "            if y.count(\"o\")==y.count(\"x\"):\n",
    "                return \"True\"\n",
    "            else:\n",
    "                return \"False\"\n",
    "    "
   ]
  },
  {
   "cell_type": "code",
   "execution_count": 75,
   "id": "6d4c4b9a",
   "metadata": {},
   "outputs": [
    {
     "name": "stdout",
     "output_type": "stream",
     "text": [
      "True\n",
      "False\n",
      "True\n"
     ]
    }
   ],
   "source": [
    "print(str1(\"xxoo\"))\n",
    "print(str1(\"xxoxo\"))\n",
    "print(str1(\"djnck\"))"
   ]
  },
  {
   "cell_type": "code",
   "execution_count": 87,
   "id": "e67b23d1",
   "metadata": {},
   "outputs": [],
   "source": [
    "#5 Create a function that reverses a boolean value and returns the string \"boolean expected\" if another variable type is given.\n",
    "\n",
    "def reverse(x):\n",
    "    if x is True:\n",
    "        return \"False\"\n",
    "    elif x is False:\n",
    "        return \"True\"\n",
    "    else:\n",
    "        return \"boolean expected\"\n",
    "\n"
   ]
  },
  {
   "cell_type": "code",
   "execution_count": 88,
   "id": "7a5c6e07",
   "metadata": {},
   "outputs": [
    {
     "name": "stdout",
     "output_type": "stream",
     "text": [
      "False\n",
      "boolean expected\n",
      "boolean expected\n"
     ]
    }
   ],
   "source": [
    "print(reverse(True))\n",
    "print(reverse(\"true\"))\n",
    "print(reverse(0))"
   ]
  },
  {
   "cell_type": "code",
   "execution_count": 89,
   "id": "b8bd5f6b",
   "metadata": {},
   "outputs": [],
   "source": [
    "#6 Using list comprehensions, create a function that finds all even numbers from 1 to the given number.\n",
    "\n",
    "def find_even_numbers(n):\n",
    "    return [num for num in range(1, n + 1) if num % 2 == 0]"
   ]
  },
  {
   "cell_type": "code",
   "execution_count": 90,
   "id": "e79bb0fd",
   "metadata": {},
   "outputs": [
    {
     "data": {
      "text/plain": [
       "[2, 4, 6, 8]"
      ]
     },
     "execution_count": 90,
     "metadata": {},
     "output_type": "execute_result"
    }
   ],
   "source": [
    "find_even_numbers(8)"
   ]
  },
  {
   "cell_type": "code",
   "execution_count": 47,
   "id": "92f9888e",
   "metadata": {},
   "outputs": [],
   "source": [
    "#7 Create a function that takes a list of strings and integers, and filters out the list so that it returns a list of integers only.\n",
    "\n",
    "def f1(l):\n",
    "    return [i for i in l if type(i)==int]        "
   ]
  },
  {
   "cell_type": "code",
   "execution_count": 48,
   "id": "547a8cc2",
   "metadata": {},
   "outputs": [
    {
     "data": {
      "text/plain": [
       "[3, 5, 7]"
      ]
     },
     "execution_count": 48,
     "metadata": {},
     "output_type": "execute_result"
    }
   ],
   "source": [
    "f1([3,5,7,\"a\",\"b\"])"
   ]
  },
  {
   "cell_type": "code",
   "execution_count": 76,
   "id": "1697cfbd",
   "metadata": {},
   "outputs": [],
   "source": [
    "#8 Write a function that takes a list and a number as arguments. Add the number to the end of the list, then remove the first element of the list. The function should then return the updated list.\n",
    "\n",
    "def f1(l,b):\n",
    "    if l==[]:\n",
    "        return \"no list has been selected\"\n",
    "    \n",
    "    l.append(b)\n",
    "    l.pop(0)\n",
    "    return l"
   ]
  },
  {
   "cell_type": "code",
   "execution_count": 78,
   "id": "5845cf0c",
   "metadata": {},
   "outputs": [
    {
     "data": {
      "text/plain": [
       "[3, 4, 5, 6]"
      ]
     },
     "execution_count": 78,
     "metadata": {},
     "output_type": "execute_result"
    }
   ],
   "source": [
    "f1([2,3,4,5],6)"
   ]
  },
  {
   "cell_type": "code",
   "execution_count": 84,
   "id": "03584bcf",
   "metadata": {},
   "outputs": [],
   "source": [
    "#9 In BlackJack, cards are counted with -1, 0, 1 values:\n",
    "#2, 3, 4, 5, 6 are counted as +1\n",
    "#7, 8, 9 are counted as 0\n",
    "#10, J, Q, K, A are counted as -1\n",
    "#Create a function that counts the number and returns it from the list of cards provided.\n",
    "\n",
    "def count(x):\n",
    "    x_values={2:1,3:1,4:1,5:1,6:1,7:0,8:0,9:0,10:-1,\"J\":-1,\"Q\":-1,\"K\":-1,\"A\":-1}\n",
    "    count=0\n",
    "    for y in x:\n",
    "        count+=x_values.get(y,0)\n",
    "    return count\n",
    "    \n",
    "        "
   ]
  },
  {
   "cell_type": "code",
   "execution_count": 86,
   "id": "37ad11bc",
   "metadata": {},
   "outputs": [
    {
     "data": {
      "text/plain": [
       "3"
      ]
     },
     "execution_count": 86,
     "metadata": {},
     "output_type": "execute_result"
    }
   ],
   "source": [
    "count([\"A\",2,3,4,5])"
   ]
  },
  {
   "cell_type": "code",
   "execution_count": 89,
   "id": "5fddc8cb",
   "metadata": {},
   "outputs": [],
   "source": [
    "#10 Wild Roger is participating in a Western Showdown, meaning he has to draw (pull out and shoot) his gun faster than his opponent in a gun standoff.\n",
    "#Given two strings,p1 and p2, return which person drew their gun the fastest. If both are drawn at the same time, return \"tie\".\n",
    "\n",
    "def roger(p1,p2):\n",
    "    p1_bang_index = p1.index(\"Bang!\")\n",
    "    p2_bang_index = p2.index(\"Bang!\")\n",
    "    if p1_bang_index < p2_bang_index:\n",
    "        return \"p1\"\n",
    "    elif p2_bang_index < p1_bang_index:\n",
    "        return \"p2\"\n",
    "    else:\n",
    "        return \"tie\"\n"
   ]
  },
  {
   "cell_type": "code",
   "execution_count": 90,
   "id": "d24ad32a",
   "metadata": {},
   "outputs": [
    {
     "name": "stdout",
     "output_type": "stream",
     "text": [
      "p1\n"
     ]
    }
   ],
   "source": [
    "print(roger(\"   Bang!        \", \"        Bang!   \")) "
   ]
  },
  {
   "cell_type": "code",
   "execution_count": 105,
   "id": "ae4031f6",
   "metadata": {},
   "outputs": [],
   "source": [
    "#11 Create a function that takes a number as an argument and returns True or False depending on whether the number is symmetrical or not. A number is symmetrical when it is the same as its reverse.\n",
    "\n",
    "def s(num):\n",
    "    str_num = str(num)\n",
    "    reverse_str_num= str_num[::-1]\n",
    "    \n",
    "    return str_num== reverse_str_num"
   ]
  },
  {
   "cell_type": "code",
   "execution_count": 106,
   "id": "36a0637a",
   "metadata": {},
   "outputs": [
    {
     "data": {
      "text/plain": [
       "True"
      ]
     },
     "execution_count": 106,
     "metadata": {},
     "output_type": "execute_result"
    }
   ],
   "source": [
    "s(121)"
   ]
  },
  {
   "cell_type": "code",
   "execution_count": 5,
   "id": "ad0473ba",
   "metadata": {},
   "outputs": [],
   "source": [
    "#12 Check the principles of minimalist code in the intro to the first challenge.\n",
    "#In the Code tab you will find a code that is missing a single character in order to pass the tests. However, your goal is to submit a function as minimalist as possible. Use the tips in the tips section below.\n",
    "#Write a function that returns the strings:\n",
    "#\"both\" if both given booleans a and b are True.\n",
    "#\"first\" if only a is True.\n",
    "#\"second\" if only b is True .\n",
    "#\"neither\" if both a and b are False.\n",
    "\n",
    "def true(a, b):\n",
    "    if a==True:\n",
    "        if b==True:\n",
    "            return \"both\"\n",
    "        else:\n",
    "            return \"first\"\n",
    "    elif b==True:\n",
    "        return \"second\"\n",
    "    else:\n",
    "        return \"neither\"\n"
   ]
  },
  {
   "cell_type": "code",
   "execution_count": 11,
   "id": "3e3c01bb",
   "metadata": {},
   "outputs": [
    {
     "data": {
      "text/plain": [
       "'first'"
      ]
     },
     "execution_count": 11,
     "metadata": {},
     "output_type": "execute_result"
    }
   ],
   "source": [
    "true(True,False)"
   ]
  },
  {
   "cell_type": "code",
   "execution_count": 36,
   "id": "663c5a31",
   "metadata": {},
   "outputs": [],
   "source": [
    "#13 I'm trying to watch some lectures to study for my next exam but I keep getting distracted by meme compilations, vine compilations, anime, and more on my favorite video platform.\n",
    "#Your job is to help me create a function that takes a string and checks to see if it contains the following words or phrases:\n",
    "#\"anime\"\n",
    "#\"meme\"\n",
    "#\"vines\"\n",
    "#\"roasts\"\n",
    "#\"Danny DeVito\"\n",
    "#If it does, return \"NO!\". Otherwise, return \"Safe watching!\".\n",
    "\n",
    "def lectures(text):\n",
    "    x=[\"anime\",\"meme\",\"vines\",\"roasts\",\"Danny Devito\"]\n",
    "    for y in x:\n",
    "         if y.lower() in text.lower():\n",
    "            return \"No!\"\n",
    "    return \"safe watching\""
   ]
  },
  {
   "cell_type": "code",
   "execution_count": 39,
   "id": "f82dcf7e",
   "metadata": {},
   "outputs": [
    {
     "name": "stdout",
     "output_type": "stream",
     "text": [
      "No!\n",
      "safe watching\n"
     ]
    }
   ],
   "source": [
    "x=\"vines that butter my egg roll\"\n",
    "print(lectures(x))\n",
    "y=\"Listen to lecture class\"\n",
    "print(lectures(y))"
   ]
  },
  {
   "cell_type": "code",
   "execution_count": 44,
   "id": "16870bd3",
   "metadata": {},
   "outputs": [],
   "source": [
    "#14 Create a function that takes three integer arguments (a, b, c) and returns the amount of integers which are of equal value.\n",
    "\n",
    "def three(a,b,c):\n",
    "    if a==b==c:\n",
    "        return 3\n",
    "    elif a==b or b==c or a==c:\n",
    "        return 2\n",
    "    else:\n",
    "        return 0"
   ]
  },
  {
   "cell_type": "code",
   "execution_count": 49,
   "id": "5746bdec",
   "metadata": {},
   "outputs": [
    {
     "name": "stdout",
     "output_type": "stream",
     "text": [
      "0\n",
      "2\n",
      "3\n"
     ]
    }
   ],
   "source": [
    "print(three(1,2,3))\n",
    "print(three(8,2,8))\n",
    "print(three(1,1,1))"
   ]
  },
  {
   "cell_type": "code",
   "execution_count": 107,
   "id": "1f3bc9fc",
   "metadata": {},
   "outputs": [],
   "source": [
    "#15 Create a function which validates whether a 3 character string is a vowel sandwich. In order to have a valid sandwich, the string must satisfy the following rules:\n",
    "#The first and last characters must be a consonant.\n",
    "#The character in the middle must be a vowel.\n",
    "\n",
    "def char(s):\n",
    "    if len(s)==3:\n",
    "        y=[\"a\",\"e\",\"i\",\"o\",\"u\"]\n",
    "        if s[0] not in y and s[1] in y and s[2] not in y:\n",
    "                    return True\n",
    "    return False\n",
    "        \n",
    "        "
   ]
  },
  {
   "cell_type": "code",
   "execution_count": 108,
   "id": "3ff8298e",
   "metadata": {},
   "outputs": [
    {
     "name": "stdout",
     "output_type": "stream",
     "text": [
      "True\n",
      "False\n",
      "False\n",
      "False\n"
     ]
    }
   ],
   "source": [
    "print(char(\"cat\"))\n",
    "print(char(\"doll\"))\n",
    "print(char(\"try\"))\n",
    "print(char(\"ear\"))"
   ]
  },
  {
   "cell_type": "code",
   "execution_count": 156,
   "id": "812b9e3f",
   "metadata": {},
   "outputs": [],
   "source": [
    "#16 Write a function that takes a string, breaks it up and returns it with vowels first, consonants second. For any character that's not a vowel (like special characters or spaces), treat them like consonants.\n",
    "\n",
    "def f1(s):\n",
    "    x=[\"a\",\"e\",\"i\",\"o\",\"u\"]\n",
    "    vowel=\"\"\n",
    "    consonant=\"\"\n",
    "    for a in s:\n",
    "        if a.lower() in x:\n",
    "            vowel+=a\n",
    "           \n",
    "        else:\n",
    "            consonant+=a\n",
    "    return vowel+consonant\n",
    "    "
   ]
  },
  {
   "cell_type": "code",
   "execution_count": 157,
   "id": "5d1a1c90",
   "metadata": {},
   "outputs": [
    {
     "name": "stdout",
     "output_type": "stream",
     "text": [
      "aiouaawht s yr slry?\n"
     ]
    }
   ],
   "source": [
    "print(f1(\"what is your salary?\"))"
   ]
  },
  {
   "cell_type": "code",
   "execution_count": 3,
   "id": "fd93f3bd",
   "metadata": {},
   "outputs": [],
   "source": [
    "#17 Write a function that takes a string and calculates the number of letters and digits within it. Return the result in a dictionary.\n",
    "\n",
    "def s(x):\n",
    "    letters=0\n",
    "    digits=0\n",
    "    for y in x: \n",
    "        if y.isalpha():\n",
    "            letters+=1    \n",
    "        else:\n",
    "            digits+=1\n",
    "    return {\"letters\":letters,\"digits\":digits}    "
   ]
  },
  {
   "cell_type": "code",
   "execution_count": 4,
   "id": "f43baf33",
   "metadata": {},
   "outputs": [
    {
     "data": {
      "text/plain": [
       "{'letters': 8, 'digits': 4}"
      ]
     },
     "execution_count": 4,
     "metadata": {},
     "output_type": "execute_result"
    }
   ],
   "source": [
    "s(\"rttg6787gvhj\")"
   ]
  },
  {
   "cell_type": "code",
   "execution_count": 1,
   "id": "3f2edc8c",
   "metadata": {},
   "outputs": [],
   "source": [
    "#18 Lists can be mixed with various types. Your task for this challenge is to sum all the number elements in the given list. Create a function that takes a list and returns the sum of all numbers in the list.\n",
    "\n",
    "def numbers_sum(lst):\n",
    "    return sum(i for i in lst if type(i) == int)"
   ]
  },
  {
   "cell_type": "code",
   "execution_count": 3,
   "id": "ed38a652",
   "metadata": {},
   "outputs": [
    {
     "data": {
      "text/plain": [
       "3"
      ]
     },
     "execution_count": 3,
     "metadata": {},
     "output_type": "execute_result"
    }
   ],
   "source": [
    "numbers_sum([1, 2, \"13\", \"4\", \"645\"]) "
   ]
  },
  {
   "cell_type": "code",
   "execution_count": 4,
   "id": "8e6b2b8f",
   "metadata": {},
   "outputs": [],
   "source": [
    "#19 Create a method in the Person class which returns how another person's age compares. Given the objects p1, p2 and p3, which will be initialised with the attributes name and age, return a sentence in the following format:\n",
    "\n",
    "class Person:\n",
    "    def __init__(self, name, age):\n",
    "        self.name = name\n",
    "        self.age = age\n",
    "    \n",
    "    def compare_age(self, other_person):\n",
    "        if self.age < other_person.age:\n",
    "            return f\"{other_person.name} is older than {self.name}.\"\n",
    "        elif self.age > other_person.age:\n",
    "            return f\"{other_person.name} is younger than {self.name}.\"\n",
    "        else:\n",
    "            return f\"{other_person.name} and {self.name} are the same age.\"\n",
    "    "
   ]
  },
  {
   "cell_type": "code",
   "execution_count": 5,
   "id": "6fb8bb0d",
   "metadata": {},
   "outputs": [
    {
     "name": "stdout",
     "output_type": "stream",
     "text": [
      "Bob is older than Alice.\n",
      "Charlie and Alice are the same age.\n"
     ]
    }
   ],
   "source": [
    "p1 = Person(\"Alice\", 25)\n",
    "p2 = Person(\"Bob\", 30)\n",
    "p3 = Person(\"Charlie\", 25)\n",
    "\n",
    "print(p1.compare_age(p2))  \n",
    "print(p1.compare_age(p3))"
   ]
  },
  {
   "cell_type": "code",
   "execution_count": 6,
   "id": "1a53fb68",
   "metadata": {},
   "outputs": [],
   "source": [
    "#20 Check the principles of minimalist code in the intro to the first challenge.\n",
    "#In the Code tab you will find a code that is missing a single character in order to pass the tests. However, your goal is to submit a function as minimalist as possible. Use the tips in the tips section below.\n",
    "#Write a function that returns the boolean True if the given two lists do not share any numbers, and False otherwise.\n",
    "\n",
    "def no_overlap(list1, list2):\n",
    "    return not any(num in list2 for num in list1)\n"
   ]
  },
  {
   "cell_type": "code",
   "execution_count": 7,
   "id": "33a10c48",
   "metadata": {},
   "outputs": [
    {
     "name": "stdout",
     "output_type": "stream",
     "text": [
      "True\n",
      "False\n"
     ]
    }
   ],
   "source": [
    "print(no_overlap([1, 2, 3], [4, 5, 6])) \n",
    "print(no_overlap([1, 2, 3], [3, 4, 5]))"
   ]
  },
  {
   "cell_type": "code",
   "execution_count": 8,
   "id": "8eb386bd",
   "metadata": {},
   "outputs": [],
   "source": [
    "#21 Create a function that takes a list of positive and negative numbers. Return a list where the first element is the count of positive numbers and the second element is the sum of negative numbers.\n",
    "\n",
    "def count_positive_sum_negative(numbers):\n",
    "    positive_count = sum_negative = 0\n",
    "    \n",
    "    for num in numbers:\n",
    "        if num > 0:\n",
    "            positive_count += 1\n",
    "        elif num < 0:\n",
    "            sum_negative += num\n",
    "    \n",
    "    return [positive_count, sum_negative]"
   ]
  },
  {
   "cell_type": "code",
   "execution_count": 9,
   "id": "e8f09849",
   "metadata": {},
   "outputs": [
    {
     "name": "stdout",
     "output_type": "stream",
     "text": [
      "[3, -6]\n",
      "[0, -6]\n",
      "[5, 0]\n"
     ]
    }
   ],
   "source": [
    "print(count_positive_sum_negative([1, -2, 3, -4, 5]))  \n",
    "print(count_positive_sum_negative([-1, -2, -3])) \n",
    "print(count_positive_sum_negative([1, 2, 3, 4, 5]))"
   ]
  },
  {
   "cell_type": "code",
   "execution_count": 11,
   "id": "73dd9db9",
   "metadata": {},
   "outputs": [],
   "source": [
    "#22 Create a function that takes a string and returns a new string with its first and last characters swapped, except under three conditions:\n",
    "#If the length of the string is less than two, return \"Incompatible.\".\n",
    "#If the argument is not a string, return \"Incompatible.\".\n",
    "#If the first and last characters are the same, return \"Two's a pair.\".\n",
    "\n",
    "def swap_first_last(string):\n",
    "    if type(string) is not str:\n",
    "        return \"Incompatible.\"\n",
    "    elif len(string) < 2:\n",
    "        return \"Incompatible.\"\n",
    "    elif string[0] == string[-1]:\n",
    "        return \"Two's a pair.\"\n",
    "    else:\n",
    "        return string[-1] + string[1:-1] + string[0]"
   ]
  },
  {
   "cell_type": "code",
   "execution_count": 13,
   "id": "64e4fed9",
   "metadata": {},
   "outputs": [
    {
     "name": "stdout",
     "output_type": "stream",
     "text": [
      "oellH\n",
      "Incompatible.\n"
     ]
    }
   ],
   "source": [
    "print(swap_first_last(\"Hello\")) \n",
    "print(swap_first_last(12345)) "
   ]
  },
  {
   "cell_type": "code",
   "execution_count": 14,
   "id": "14f48269",
   "metadata": {},
   "outputs": [],
   "source": [
    "#23 Given a list with an odd number of elements, return whether the scale will tip \"left\" or \"right\" based on the sum of the numbers. The scale will tip on the direction of the largest total. If both sides are equal, return \"balanced\".\n",
    "\n",
    "def scale_tip(lst):\n",
    "    left_sum = sum(lst[:len(lst)//2])\n",
    "    right_sum = sum(lst[len(lst)//2 + 1:])\n",
    "    \n",
    "    if left_sum > right_sum:\n",
    "        return \"left\"\n",
    "    elif right_sum > left_sum:\n",
    "        return \"right\"\n",
    "    else:\n",
    "        return \"balanced\""
   ]
  },
  {
   "cell_type": "code",
   "execution_count": 18,
   "id": "2e06312c",
   "metadata": {},
   "outputs": [
    {
     "name": "stdout",
     "output_type": "stream",
     "text": [
      "right\n",
      "right\n",
      "left\n"
     ]
    }
   ],
   "source": [
    "print(scale_tip([1, 2, 3, 4, 5])) \n",
    "print(scale_tip([1, 2, 3, 4, 5, 6, 7]))  \n",
    "print(scale_tip([5, 4, 3, 2, 1]))"
   ]
  },
  {
   "cell_type": "code",
   "execution_count": 32,
   "id": "d922e584",
   "metadata": {},
   "outputs": [],
   "source": [
    "#24 Create a function that changes specific words into emoticons. Given a sentence as a string, replace the words smile, grin, sad and mad with their corresponding emoticons.\n",
    "#word\temoticon\n",
    "#smile\t:D\n",
    "#grin\t:)\n",
    "#sad\t:(\n",
    "#mad\t:P\n",
    "\n",
    "def replace_emoticons(sentence):\n",
    "    emoticon_dict = {\n",
    "        \"smile\": \":D\",\n",
    "        \"grin\": \":)\",\n",
    "        \"sad\": \":(\",\n",
    "        \"mad\": \":P\"\n",
    "    }\n",
    "    \n",
    "    words = sentence.split()\n",
    "    replaced_sentence = []\n",
    "    \n",
    "    for word in words:\n",
    "        if word.lower() in emoticon_dict:\n",
    "            replaced_sentence.append(emoticon_dict[word.lower()])\n",
    "        else:\n",
    "            replaced_sentence.append(word)\n",
    "    \n",
    "    return ' '.join(replaced_sentence)"
   ]
  },
  {
   "cell_type": "code",
   "execution_count": 33,
   "id": "4da5f9f2",
   "metadata": {},
   "outputs": [
    {
     "name": "stdout",
     "output_type": "stream",
     "text": [
      "I am happy, smile!\n"
     ]
    }
   ],
   "source": [
    "print(replace_emoticons(\"I am happy, smile!\")) "
   ]
  },
  {
   "cell_type": "code",
   "execution_count": 35,
   "id": "ec7d5ec5",
   "metadata": {},
   "outputs": [],
   "source": [
    "#25 Create a function that takes the month and year (as integers) and returns the number of days in that month.\n",
    "\n",
    "def get_number_of_days(month, year):\n",
    "    if month == 2:\n",
    "        if year % 4 == 0 and (year % 100 != 0 or year % 400 == 0):\n",
    "            return 29  \n",
    "        else:\n",
    "            return 28\n",
    "    elif month in [4, 6, 9, 11]:\n",
    "        return 30\n",
    "    else:\n",
    "        return 31\n"
   ]
  },
  {
   "cell_type": "code",
   "execution_count": 36,
   "id": "33990df6",
   "metadata": {},
   "outputs": [
    {
     "name": "stdout",
     "output_type": "stream",
     "text": [
      "29\n",
      "28\n"
     ]
    }
   ],
   "source": [
    "print(get_number_of_days(2, 2020))  \n",
    "print(get_number_of_days(2, 2021))"
   ]
  },
  {
   "cell_type": "code",
   "execution_count": 37,
   "id": "c3c08180",
   "metadata": {},
   "outputs": [],
   "source": [
    "#26 Create a function that changes all the elements in a list as follows:\n",
    "#Add 1 to all even integers, nothing to odd integers.\n",
    "#Concatenates \"!\" to all strings and make the first letter of the word a capital letter.\n",
    "#Changes all boolean values to its opposite.\n",
    "\n",
    "def modify_list(lst):\n",
    "    modified_list = []\n",
    "    \n",
    "    for element in lst:\n",
    "        if isinstance(element, int):\n",
    "            if element % 2 == 0:\n",
    "                modified_list.append(element + 1)\n",
    "            else:\n",
    "                modified_list.append(element)\n",
    "        elif isinstance(element, str):\n",
    "            modified_list.append(element.capitalize() + \"!\")\n",
    "        elif isinstance(element, bool):\n",
    "            modified_list.append(not element)\n",
    "        else:\n",
    "            modified_list.append(element)\n",
    "    \n",
    "    return modified_list\n",
    "\n"
   ]
  },
  {
   "cell_type": "code",
   "execution_count": 39,
   "id": "fb06db83",
   "metadata": {},
   "outputs": [
    {
     "name": "stdout",
     "output_type": "stream",
     "text": [
      "[1, 3, 3, 5, 5]\n",
      "['Hello!', 'World!', 'Python!']\n",
      "[True, 1, True]\n",
      "[1.5, None, [1, 2, 3]]\n"
     ]
    }
   ],
   "source": [
    "print(modify_list([1, 2, 3, 4, 5])) \n",
    "print(modify_list([\"hello\", \"world\", \"python\"])) \n",
    "print(modify_list([True, False, True]))  \n",
    "print(modify_list([1.5, None, [1, 2, 3]]))  "
   ]
  },
  {
   "cell_type": "code",
   "execution_count": 40,
   "id": "39e1c939",
   "metadata": {},
   "outputs": [],
   "source": [
    "#27 Minimal VIII: This and That Check the principles of minimalist code in the intro to the first challenge.\n",
    "#In the Code tab you will find a code that is missing a single character in order to pass the tests. However, your goal is to submit a function as minimalist as possible. Use the tips in the tips section below.\n",
    "#Write a function that returns the third character of the third string in a given list of strings. Return False if it can't be found.\n",
    "#Tips The operator and can be used to assign or return the first falsy value among two or more elements. If no falsy value is found, the last element will be returned.\n",
    "#For example, the code:\n",
    "#def all_of_these(a, b, c): return a if not a else b if not b else c Can be simplified to:\n",
    "#def all_of_these(a, b, c): return a and b and c Bonus Once a falsy value is found, the rest of the elements will not be checked. For example, if we wanted to access the first element of a list, but the list happened to be empty, we would get an error. We can use and to work around this issue:\n",
    "#lst1 = [1, 2, 3] lst2 = []\n",
    "#lst1 and lst1[0] ➞ 1 lst2 and lst2[0] ➞ [] Notes This is an open series: there isn't a definite list of features for the challenges. Please, do not hesitate to leave your suggestions in the Comments. Readability is indeed a subjective concept. Let's discuss it! Feel free to leave your opinion in the Comments. You can find all the exercises in this series over here.\n",
    "\n",
    "def get_third_character(strings):\n",
    "    return strings[2][2] if len(strings) >= 3 and len(strings[2]) >= 3 else False"
   ]
  },
  {
   "cell_type": "code",
   "execution_count": 41,
   "id": "a0cdd0b0",
   "metadata": {},
   "outputs": [
    {
     "name": "stdout",
     "output_type": "stream",
     "text": [
      "e\n"
     ]
    }
   ],
   "source": [
    "print(get_third_character([\"apple\", \"banana\", \"cherry\"])) "
   ]
  },
  {
   "cell_type": "code",
   "execution_count": 48,
   "id": "bed9da8f",
   "metadata": {},
   "outputs": [],
   "source": [
    "#28 A man named Thomas Malthus described what is now called a Malthusian Catastrophe. According to him, food production grows by a fixed amount, but population grows by a percentage. So, the food supply would soon be insufficient for the population.\n",
    "#Your job is to find out when that will occur. For this challenge, assume 1 population needs 1 unit of food production. Food production and population both start at 100. The year starts at 0.\n",
    "#The catastrophe happens when the population is larger than food production.\n",
    "#The function will pass:\n",
    "#food_growth ⁠— an integer ⁠— food production increase per year.\n",
    "#pop_mult ⁠— a floating-point number ⁠— population growth multiplier per year.\n",
    "\n",
    "def malthusian(food_growth, pop_mult):\n",
    "    food_production = 100\n",
    "    population = 100\n",
    "    year = 0\n",
    "\n",
    "    while population <= food_production:\n",
    "        food_production += food_growth\n",
    "        population *= pop_mult\n",
    "        year += 1\n",
    "\n",
    "    return year"
   ]
  },
  {
   "cell_type": "code",
   "execution_count": 50,
   "id": "22f3f014",
   "metadata": {},
   "outputs": [
    {
     "name": "stdout",
     "output_type": "stream",
     "text": [
      "20\n"
     ]
    }
   ],
   "source": [
    "print(malthusian(4255, 1.41))"
   ]
  },
  {
   "cell_type": "code",
   "execution_count": 51,
   "id": "92aba36a",
   "metadata": {},
   "outputs": [],
   "source": [
    "#29 Special Lists A list is special if every even index contains an even number and every odd index contains an odd number. Create a function that returns True if an array is special, and False otherwise.\n",
    "#Examples is_special_array([2, 7, 4, 9, 6, 1, 6, 3]) ➞ True\n",
    "#Even indices: [2, 4, 6, 6]; Odd indices: [7, 9, 1, 3]\n",
    "#is_special_array([2, 7, 9, 1, 6, 1, 6, 3]) ➞ False\n",
    "#Index 2 has an odd number 9.\n",
    "#is_special_array([2, 7, 8, 8, 6, 1, 6, 3]) ➞ False\n",
    "#Index 3 has an even number 8.\n",
    "#Notes N/A\n",
    "\n",
    "def f1(lst):\n",
    "    for i in range(len(lst)):\n",
    "        if i % 2 == 0 and lst[i] % 2 != 0:\n",
    "            return False\n",
    "        elif i % 2 != 0 and lst[i] % 2 == 0:\n",
    "            return False\n",
    "\n",
    "    return True\n",
    "\n"
   ]
  },
  {
   "cell_type": "code",
   "execution_count": 52,
   "id": "2075c16b",
   "metadata": {},
   "outputs": [
    {
     "data": {
      "text/plain": [
       "True"
      ]
     },
     "execution_count": 52,
     "metadata": {},
     "output_type": "execute_result"
    }
   ],
   "source": [
    "f1([2, 7, 4, 9, 6, 1, 6, 3])"
   ]
  },
  {
   "cell_type": "code",
   "execution_count": 53,
   "id": "b785040b",
   "metadata": {},
   "outputs": [],
   "source": [
    "#30 Minimal III: You're a Boolean Now Check the principles of minimalist code in the intro to the first challenge.\n",
    "#In the Code tab you will find code that is missing a single character in order to pass the tests. However, your goal is to submit a function that is as minimalist as possible. Use the tips in the tips section below.\n",
    "#Write a function that returns True if the given positive integer is a prime number and False if it's not.\n",
    "#Tips Everything you write after if, not, while or around and, or, is, in is interpreted as a boolean.\n",
    "#A function that prints a countdown from the absolute value of x and also prints \"hey\" if the number is a multiple of 3 and contains the digit \"3\", could be written as:\n",
    "#def countdown(x): if x < 0: x = x * -1 while x > 0: if x % 3 == 0: if \"3\" in str(x): print(x) print(\"hey\") else: print(x) x = x - 1 This can be simplified to:\n",
    "#def countdown(x): x = abs(x) while x: print(x) if not x % 3 and \"3\" in str(x): print(\"hey\") x -= 1 abs() gets the absolute value of a number. while will interpret x as a boolean, exiting the loop after reaching zero. print(x) needs to be called whether x is a \"hey number\" or not. This can be done outside of any if statement, instead of in both. Both conditions x % 3 == 0 and \"3\" in str(x) need to be True, so they can be joined with an and. Bonus A more Pythonistic approach:\n",
    "#def countdown(x): for i in range(abs(x), -1, -1): print(x) if not x % 3 and \"3\" in str(x): print(\"hey\") Notes This is an open series: there isn't a definite list of features for the challenges. Please, do not hesitate to leave your suggestions in the Comment tab. Readability is indeed a subjective concept. Let's discuss it! Feel free to leave your opinion in the Comments tab. You can find all the exercises in this series over here.\n",
    "\n",
    "\n",
    "def is_prime(num):\n",
    "    if num < 2:\n",
    "        return False\n",
    "\n",
    "    for i in range(2, int(num ** 0.5) + 1):\n",
    "        if num % i == 0:\n",
    "            return False\n",
    "\n",
    "    return True"
   ]
  },
  {
   "cell_type": "code",
   "execution_count": 54,
   "id": "5ddc14a7",
   "metadata": {},
   "outputs": [
    {
     "name": "stdout",
     "output_type": "stream",
     "text": [
      "True\n"
     ]
    }
   ],
   "source": [
    "print(is_prime(2))"
   ]
  },
  {
   "cell_type": "code",
   "execution_count": 57,
   "id": "e9bf2208",
   "metadata": {},
   "outputs": [],
   "source": [
    "#31 Create a function that takes a string s and returns a list of two-paired characters. If the string has an odd number of characters, add an asterisk * in the final pair.\n",
    "\n",
    "def f2(s):\n",
    "    pairs = [s[i:i+2] for i in range(0, len(s), 2)]\n",
    "\n",
    "    if len(s) % 2 == 1:\n",
    "        pairs[-1] += '*'\n",
    "\n",
    "    return pairs\n",
    "        "
   ]
  },
  {
   "cell_type": "code",
   "execution_count": 59,
   "id": "62354cc0",
   "metadata": {},
   "outputs": [
    {
     "data": {
      "text/plain": [
       "['ab', 'de', 'fg', 'h*']"
      ]
     },
     "execution_count": 59,
     "metadata": {},
     "output_type": "execute_result"
    }
   ],
   "source": [
    "f2(\"abdefgh\")"
   ]
  },
  {
   "cell_type": "code",
   "execution_count": 60,
   "id": "f2056659",
   "metadata": {},
   "outputs": [],
   "source": [
    "                                              #control flow"
   ]
  },
  {
   "cell_type": "code",
   "execution_count": 62,
   "id": "5b8046be",
   "metadata": {},
   "outputs": [],
   "source": [
    "#1 Write a function that returns the number of users in a chatroom based on the following rules:\n",
    "#If there is no one, return \"no one online\".\n",
    "#If there is 1 person, return \"user1 online\".\n",
    "#If there are 2 people, return \"user1 and user2 online\".\n",
    "#If there are n>2 people, return the first two names and add \"and n-2 more online\".\n",
    "\n",
    "def chatroom_status(users):\n",
    "    count = len(users)\n",
    "\n",
    "    if count == 0:\n",
    "        return \"no one online\"\n",
    "    elif count == 1:\n",
    "        return f\"{users[0]} online\"\n",
    "    elif count == 2:\n",
    "        return f\"{users[0]} and {users[1]} online\"\n",
    "    else:\n",
    "        return f\"{users[0]}, {users[1]}, and {count - 2} more online\""
   ]
  },
  {
   "cell_type": "code",
   "execution_count": 64,
   "id": "91357c92",
   "metadata": {},
   "outputs": [
    {
     "name": "stdout",
     "output_type": "stream",
     "text": [
      "ab, cd, and 1 more online\n"
     ]
    }
   ],
   "source": [
    "print(chatroom_status([\"ab\",\"cd\",\"de\"])) "
   ]
  },
  {
   "cell_type": "code",
   "execution_count": 67,
   "id": "8c8299c3",
   "metadata": {},
   "outputs": [],
   "source": [
    "#2 Create a function that returns the number of palindrome numbers in a specified range (inclusive).\n",
    "#For example, between 8 and 34, there are 5 palindromes: 8, 9, 11, 22 and 33. Between 1550 and 1552 there is exactly one palindrome: 1551.\n",
    "\n",
    "def palindromes(start, end):\n",
    "    count = 0\n",
    "\n",
    "    for num in range(start, end + 1):\n",
    "        if str(num) == str(num)[::-1]:\n",
    "            count += 1\n",
    "\n",
    "    return count"
   ]
  },
  {
   "cell_type": "code",
   "execution_count": 68,
   "id": "78388e0b",
   "metadata": {},
   "outputs": [
    {
     "data": {
      "text/plain": [
       "108"
      ]
     },
     "execution_count": 68,
     "metadata": {},
     "output_type": "execute_result"
    }
   ],
   "source": [
    "palindromes(1,1000)"
   ]
  },
  {
   "cell_type": "code",
   "execution_count": 69,
   "id": "245ec2ae",
   "metadata": {},
   "outputs": [],
   "source": [
    "#3 Create a function that returns the sum of all even elements in a 2D matrix.\n",
    "\n",
    "def sum_even_elements(matrix):\n",
    "    total_sum = 0\n",
    "\n",
    "    for row in matrix:\n",
    "        for num in row:\n",
    "            if num % 2 == 0:\n",
    "                total_sum += num\n",
    "\n",
    "    return total_sum"
   ]
  },
  {
   "cell_type": "code",
   "execution_count": 70,
   "id": "349d73b3",
   "metadata": {},
   "outputs": [
    {
     "name": "stdout",
     "output_type": "stream",
     "text": [
      "20\n"
     ]
    }
   ],
   "source": [
    "matrix = [[1, 2, 3], [4, 5, 6], [7, 8, 9]]\n",
    "print(sum_even_elements(matrix))"
   ]
  },
  {
   "cell_type": "code",
   "execution_count": 71,
   "id": "0bfab17c",
   "metadata": {},
   "outputs": [],
   "source": [
    "#4 Write a function that takes a string, breaks it up and returns it with vowels first, consonants second. For any character that's not a vowel (like special characters or spaces), treat them like consonants.\n",
    "def vowels_first(string):\n",
    "    vowels = ''\n",
    "    consonants = ''\n",
    "\n",
    "    for char in string:\n",
    "        if char.lower() in 'aeiou':\n",
    "            vowels += char\n",
    "        else:\n",
    "            consonants += char\n",
    "\n",
    "    return vowels + consonants"
   ]
  },
  {
   "cell_type": "code",
   "execution_count": 72,
   "id": "afdd7950",
   "metadata": {},
   "outputs": [
    {
     "data": {
      "text/plain": [
       "'aiouaewhts s yr nm?'"
      ]
     },
     "execution_count": 72,
     "metadata": {},
     "output_type": "execute_result"
    }
   ],
   "source": [
    "vowels_first(\"whats is your name?\")"
   ]
  },
  {
   "cell_type": "code",
   "execution_count": 73,
   "id": "b72a07f5",
   "metadata": {},
   "outputs": [],
   "source": [
    "#5 Create a function that takes a string as an argument and returns a coded (h4ck3r 5p34k) version of the string.\n",
    "def hacker_speak(string):\n",
    "    replacements = {\n",
    "        'a': '4',\n",
    "        'e': '3',\n",
    "        'i': '1',\n",
    "        'o': '0',\n",
    "        's': '5',\n",
    "    }\n",
    "\n",
    "    coded_string = ''\n",
    "\n",
    "    for char in string:\n",
    "        lower_char = char.lower()\n",
    "        if lower_char in replacements:\n",
    "            coded_string += replacements[lower_char]\n",
    "        else:\n",
    "            coded_string += char\n",
    "\n",
    "    return coded_string"
   ]
  },
  {
   "cell_type": "code",
   "execution_count": 74,
   "id": "70a5d852",
   "metadata": {},
   "outputs": [
    {
     "name": "stdout",
     "output_type": "stream",
     "text": [
      "H3ll0, W0rld!\n"
     ]
    }
   ],
   "source": [
    "string = \"Hello, World!\"\n",
    "print(hacker_speak(string))"
   ]
  },
  {
   "cell_type": "code",
   "execution_count": 76,
   "id": "fedef7b0",
   "metadata": {},
   "outputs": [],
   "source": [
    "#6 Create a function that takes in a year and returns the correct century.\n",
    "\n",
    "def century(year):\n",
    "    century = (year - 1) // 100 + 1\n",
    "    return century"
   ]
  },
  {
   "cell_type": "code",
   "execution_count": 77,
   "id": "76a02c57",
   "metadata": {},
   "outputs": [
    {
     "data": {
      "text/plain": [
       "20"
      ]
     },
     "execution_count": 77,
     "metadata": {},
     "output_type": "execute_result"
    }
   ],
   "source": [
    "century(1990)"
   ]
  },
  {
   "cell_type": "code",
   "execution_count": null,
   "id": "8ab89ebd",
   "metadata": {},
   "outputs": [],
   "source": []
  }
 ],
 "metadata": {
  "kernelspec": {
   "display_name": "Python 3 (ipykernel)",
   "language": "python",
   "name": "python3"
  },
  "language_info": {
   "codemirror_mode": {
    "name": "ipython",
    "version": 3
   },
   "file_extension": ".py",
   "mimetype": "text/x-python",
   "name": "python",
   "nbconvert_exporter": "python",
   "pygments_lexer": "ipython3",
   "version": "3.10.9"
  }
 },
 "nbformat": 4,
 "nbformat_minor": 5
}
