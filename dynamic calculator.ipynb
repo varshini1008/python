{
 "cells": [
  {
   "cell_type": "code",
   "execution_count": 5,
   "id": "1a6c6ec3",
   "metadata": {},
   "outputs": [
    {
     "name": "stdout",
     "output_type": "stream",
     "text": [
      "start your calculator by pressing 's':s\n",
      "enter a value:3\n",
      "enter an operator:**\n",
      "enter a value:3\n",
      "27\n",
      "if you want to continue press y/n:y\n",
      "enter a value:3\n",
      "enter an operator:/\n",
      "enter a value:4\n",
      "0.75\n",
      "if you want to continue press y/n:n\n"
     ]
    }
   ],
   "source": [
    "var=input(\"start your calculator by pressing 's':\")\n",
    "while var==\"s\":\n",
    "    a=int(input(\"enter a value:\"))\n",
    "    c=input(\"enter an operator:\")\n",
    "    b=int(input(\"enter a value:\"))\n",
    "    if c==\"+\":\n",
    "        print(a+b)\n",
    "        y=input(\"if you want to continue press y/n:\")\n",
    "    elif c==\"-\":\n",
    "        print(a-b)\n",
    "        y=input(\"if you want to continue press y/n:\")\n",
    "    elif c==\"*\":\n",
    "        print(a*b)\n",
    "        y=input(\"if you want to continue press y/n:\")\n",
    "    elif c==\"/\":\n",
    "        print(a/b)\n",
    "        y=input(\"if you want to continue press y/n:\")\n",
    "    elif c==\"%\":\n",
    "        print(a%b)\n",
    "        y=input(\"if you want to continue press y/n:\")\n",
    "    elif c==\"**\":\n",
    "        print(a**b)\n",
    "        y=input(\"if you want to continue press y/n:\")\n",
    "        \n",
    "    elif c==\"//\":\n",
    "        print(a//b)\n",
    "        y=input(\"if you want to continue press y/n:\")\n",
    "    else:\n",
    "        print(\"invalid\")\n",
    "    if y==\"n\":\n",
    "        break\n",
    "    else:\n",
    "        continue\n",
    "        "
   ]
  },
  {
   "cell_type": "code",
   "execution_count": null,
   "id": "ffef6b99",
   "metadata": {},
   "outputs": [],
   "source": []
  }
 ],
 "metadata": {
  "kernelspec": {
   "display_name": "Python 3 (ipykernel)",
   "language": "python",
   "name": "python3"
  },
  "language_info": {
   "codemirror_mode": {
    "name": "ipython",
    "version": 3
   },
   "file_extension": ".py",
   "mimetype": "text/x-python",
   "name": "python",
   "nbconvert_exporter": "python",
   "pygments_lexer": "ipython3",
   "version": "3.10.9"
  }
 },
 "nbformat": 4,
 "nbformat_minor": 5
}
