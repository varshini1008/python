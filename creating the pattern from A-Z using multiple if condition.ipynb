{
 "cells": [
  {
   "cell_type": "code",
   "execution_count": 13,
   "id": "11f6d061",
   "metadata": {},
   "outputs": [
    {
     "name": "stdout",
     "output_type": "stream",
     "text": [
      "* * *\n",
      "*   *\n",
      "* * *\n",
      "*   *\n",
      "*   *\n"
     ]
    }
   ],
   "source": [
    "a=1\n",
    "b=2\n",
    "c=3\n",
    "d=4\n",
    "e=5\n",
    "if a==1:\n",
    "    print(\"* * *\")\n",
    "if b==2:\n",
    "    print(\"*   *\")\n",
    "if c==3:\n",
    "    print(\"* * *\")\n",
    "if d==4:\n",
    "    print(\"*   *\")\n",
    "if e==5:\n",
    "    print(\"*   *\")    "
   ]
  },
  {
   "cell_type": "code",
   "execution_count": 14,
   "id": "3b67ef12",
   "metadata": {},
   "outputs": [
    {
     "name": "stdout",
     "output_type": "stream",
     "text": [
      "* * *\n",
      "*    *\n",
      "* * *\n",
      "*    *\n",
      "* * *\n"
     ]
    }
   ],
   "source": [
    "a=1\n",
    "b=2\n",
    "c=3\n",
    "d=4\n",
    "e=5\n",
    "if a==1:\n",
    "    print(\"* * *\")\n",
    "if b==2:\n",
    "    print(\"*    *\")\n",
    "if c==3:\n",
    "    print(\"* * *\")\n",
    "if d==4:\n",
    "    print(\"*    *\")\n",
    "if e==5:\n",
    "    print(\"* * *\")    "
   ]
  },
  {
   "cell_type": "code",
   "execution_count": 15,
   "id": "e2c6cde0",
   "metadata": {},
   "outputs": [
    {
     "name": "stdout",
     "output_type": "stream",
     "text": [
      "* * *\n",
      "*    \n",
      "*    \n",
      "*    \n",
      "* * *\n"
     ]
    }
   ],
   "source": [
    "a=1\n",
    "b=2\n",
    "c=3\n",
    "d=4\n",
    "e=5\n",
    "if a==1:\n",
    "    print(\"* * *\")\n",
    "if b==2:\n",
    "    print(\"*    \")\n",
    "if c==3:\n",
    "    print(\"*    \")\n",
    "if d==4:\n",
    "    print(\"*    \")\n",
    "if e==5:\n",
    "    print(\"* * *\")    "
   ]
  },
  {
   "cell_type": "code",
   "execution_count": 16,
   "id": "4df3baed",
   "metadata": {},
   "outputs": [
    {
     "name": "stdout",
     "output_type": "stream",
     "text": [
      "* * *\n",
      "*    *\n",
      "*    *\n",
      "*    *\n",
      "* * *\n"
     ]
    }
   ],
   "source": [
    "a=1\n",
    "b=2\n",
    "c=3\n",
    "d=4\n",
    "e=5\n",
    "if a==1:\n",
    "    print(\"* * *\")\n",
    "if b==2:\n",
    "    print(\"*    *\")\n",
    "if c==3:\n",
    "    print(\"*    *\")\n",
    "if d==4:\n",
    "    print(\"*    *\")\n",
    "if e==5:\n",
    "    print(\"* * *\")    "
   ]
  },
  {
   "cell_type": "code",
   "execution_count": 17,
   "id": "b1803a99",
   "metadata": {},
   "outputs": [
    {
     "name": "stdout",
     "output_type": "stream",
     "text": [
      "* * *\n",
      "*   \n",
      "* * *\n",
      "*   \n",
      "* * *\n"
     ]
    }
   ],
   "source": [
    "a=1\n",
    "b=2\n",
    "c=3\n",
    "d=4\n",
    "e=5\n",
    "if a==1:\n",
    "    print(\"* * *\")\n",
    "if b==2:\n",
    "    print(\"*   \")\n",
    "if c==3:\n",
    "    print(\"* * *\")\n",
    "if d==4:\n",
    "    print(\"*   \")\n",
    "if e==5:\n",
    "    print(\"* * *\")    "
   ]
  },
  {
   "cell_type": "code",
   "execution_count": 19,
   "id": "aefccaa8",
   "metadata": {},
   "outputs": [
    {
     "name": "stdout",
     "output_type": "stream",
     "text": [
      "* * *\n",
      "*    \n",
      "* * *\n",
      "*    \n",
      "*    \n"
     ]
    }
   ],
   "source": [
    "a=1\n",
    "b=2\n",
    "c=3\n",
    "d=4\n",
    "e=5\n",
    "if a==1:\n",
    "    print(\"* * *\")\n",
    "if b==2:\n",
    "    print(\"*    \")\n",
    "if c==3:\n",
    "    print(\"* * *\")\n",
    "if d==4:\n",
    "    print(\"*    \")\n",
    "if e==5:\n",
    "    print(\"*    \")    "
   ]
  },
  {
   "cell_type": "code",
   "execution_count": 23,
   "id": "77c16416",
   "metadata": {},
   "outputs": [
    {
     "name": "stdout",
     "output_type": "stream",
     "text": [
      "*  *  *\n",
      "*      \n",
      "*  *  *\n",
      "*     *\n",
      "*  *  *\n"
     ]
    }
   ],
   "source": [
    "a=1\n",
    "b=2\n",
    "c=3\n",
    "d=4\n",
    "e=5\n",
    "if a==1:\n",
    "    print(\"*  *  *\")\n",
    "if b==2:\n",
    "    print(\"*      \")\n",
    "if c==3:\n",
    "    print(\"*  *  *\")\n",
    "if d==4:\n",
    "    print(\"*     *\")\n",
    "if e==5:\n",
    "    print(\"*  *  *\")   "
   ]
  },
  {
   "cell_type": "code",
   "execution_count": 26,
   "id": "d0a66986",
   "metadata": {},
   "outputs": [
    {
     "name": "stdout",
     "output_type": "stream",
     "text": [
      "*     *\n",
      "*     *\n",
      "*  *  *\n",
      "*     *\n",
      "*     *\n"
     ]
    }
   ],
   "source": [
    "a=1\n",
    "b=2\n",
    "c=3\n",
    "d=4\n",
    "e=5\n",
    "if a==1:\n",
    "    print(\"*     *\")\n",
    "if b==2:\n",
    "    print(\"*     *\")\n",
    "if c==3:\n",
    "    print(\"*  *  *\")\n",
    "if d==4:\n",
    "    print(\"*     *\")\n",
    "if e==5:\n",
    "    print(\"*     *\")   "
   ]
  },
  {
   "cell_type": "code",
   "execution_count": 32,
   "id": "0333c6b1",
   "metadata": {},
   "outputs": [
    {
     "name": "stdout",
     "output_type": "stream",
     "text": [
      "*  *  *\n",
      "   *   \n",
      "   *   \n",
      "   *   \n",
      "*  *  *\n"
     ]
    }
   ],
   "source": [
    "a=1\n",
    "b=2\n",
    "c=3\n",
    "d=4\n",
    "e=5\n",
    "if a==1:\n",
    "    print(\"*  *  *\")\n",
    "if b==2:\n",
    "    print(\"   *   \")\n",
    "if c==3:\n",
    "    print(\"   *   \")\n",
    "if d==4:\n",
    "    print(\"   *   \")\n",
    "if e==5:\n",
    "    print(\"*  *  *\")   "
   ]
  },
  {
   "cell_type": "code",
   "execution_count": 35,
   "id": "4f63aa47",
   "metadata": {},
   "outputs": [
    {
     "name": "stdout",
     "output_type": "stream",
     "text": [
      "* * * * *\n",
      "    *    \n",
      "    *   \n",
      "    *    \n",
      "* * *   \n"
     ]
    }
   ],
   "source": [
    "a=1\n",
    "b=2\n",
    "c=3\n",
    "d=4\n",
    "e=5\n",
    "if a==1:\n",
    "    print(\"* * * * *\")\n",
    "if b==2:\n",
    "    print(\"    *    \")\n",
    "if c==3:\n",
    "    print(\"    *   \")\n",
    "if d==4:\n",
    "    print(\"    *    \")\n",
    "if e==5:\n",
    "    print(\"* * *   \")   "
   ]
  },
  {
   "cell_type": "code",
   "execution_count": 54,
   "id": "638f1573",
   "metadata": {},
   "outputs": [
    {
     "name": "stdout",
     "output_type": "stream",
     "text": [
      "*     *\n",
      "*   *   \n",
      "* *     \n",
      "**       \n",
      "* *     \n",
      "*   *    \n",
      "*     *\n"
     ]
    }
   ],
   "source": [
    "a=1\n",
    "b=2\n",
    "c=3\n",
    "d=4\n",
    "e=5\n",
    "f=6\n",
    "g=7\n",
    "if a==1:\n",
    "    print(\"*     *\")\n",
    "if b==2:\n",
    "    print(\"*   *   \")\n",
    "if c==3:\n",
    "    print(\"* *     \")\n",
    "if d==4:\n",
    "    print(\"**       \")\n",
    "if e==5:\n",
    "    print(\"* *     \")   \n",
    "if f==6:    \n",
    "    print(\"*   *    \")\n",
    "if g==7:    \n",
    "    print(\"*     *\")"
   ]
  },
  {
   "cell_type": "code",
   "execution_count": 55,
   "id": "cdd0cfb5",
   "metadata": {},
   "outputs": [
    {
     "name": "stdout",
     "output_type": "stream",
     "text": [
      "* \n",
      "*      \n",
      "*      \n",
      "*        \n",
      "* * * * *   \n"
     ]
    }
   ],
   "source": [
    "a=1\n",
    "b=2\n",
    "c=3\n",
    "d=4\n",
    "e=5\n",
    "if a==1:\n",
    "    print(\"* \")\n",
    "if b==2:\n",
    "    print(\"*      \")\n",
    "if c==3:\n",
    "    print(\"*      \")\n",
    "if d==4:\n",
    "    print(\"*        \")\n",
    "if e==5:\n",
    "    print(\"* * * * *   \")  "
   ]
  },
  {
   "cell_type": "code",
   "execution_count": 70,
   "id": "518a949e",
   "metadata": {},
   "outputs": [
    {
     "name": "stdout",
     "output_type": "stream",
     "text": [
      "*       *\n",
      "* *   * *\n",
      "*   *   *\n",
      "*       *\n",
      "*       *\n"
     ]
    }
   ],
   "source": [
    "a=1\n",
    "b=2\n",
    "c=3\n",
    "d=4\n",
    "e=5\n",
    "if a==1:\n",
    "    print(\"*       *\")\n",
    "if b==2:\n",
    "    print(\"* *   * *\")\n",
    "if c==3:\n",
    "    print(\"*   *   *\")\n",
    "if d==4:\n",
    "    print(\"*       *\")\n",
    "if e==5:\n",
    "    print(\"*       *\")  "
   ]
  },
  {
   "cell_type": "code",
   "execution_count": 73,
   "id": "a68dbf42",
   "metadata": {},
   "outputs": [
    {
     "name": "stdout",
     "output_type": "stream",
     "text": [
      "*       *\n",
      "* *     *\n",
      "*   *   *\n",
      "*     * *\n",
      "*       *\n"
     ]
    }
   ],
   "source": [
    "a=1\n",
    "b=2\n",
    "c=3\n",
    "d=4\n",
    "e=5\n",
    "if a==1:\n",
    "    print(\"*       *\")\n",
    "if b==2:\n",
    "    print(\"* *     *\")\n",
    "if c==3:\n",
    "    print(\"*   *   *\")\n",
    "if d==4:\n",
    "    print(\"*     * *\")\n",
    "if e==5:\n",
    "    print(\"*       *\")  \n"
   ]
  },
  {
   "cell_type": "code",
   "execution_count": 77,
   "id": "5bd2e399",
   "metadata": {},
   "outputs": [
    {
     "name": "stdout",
     "output_type": "stream",
     "text": [
      "* * * *\n",
      "*     *\n",
      "*     *\n",
      "*     *\n",
      "* * * *\n"
     ]
    }
   ],
   "source": [
    "a=1\n",
    "b=2\n",
    "c=3\n",
    "d=4\n",
    "e=5\n",
    "if a==1:\n",
    "    print(\"* * * *\")\n",
    "if b==2:\n",
    "    print(\"*     *\")\n",
    "if c==3:\n",
    "    print(\"*     *\")\n",
    "if d==4:\n",
    "    print(\"*     *\")\n",
    "if e==5:\n",
    "    print(\"* * * *\")  "
   ]
  },
  {
   "cell_type": "code",
   "execution_count": 84,
   "id": "455c8912",
   "metadata": {},
   "outputs": [
    {
     "name": "stdout",
     "output_type": "stream",
     "text": [
      "* * * *\n",
      "*     *\n",
      "* * * *\n",
      "*      \n",
      "*      \n"
     ]
    }
   ],
   "source": [
    "a=1\n",
    "b=2\n",
    "c=3\n",
    "d=4\n",
    "e=5\n",
    "if a==1:\n",
    "    print(\"* * * *\")\n",
    "if b==2:\n",
    "    print(\"*     *\")\n",
    "if c==3:\n",
    "    print(\"* * * *\")\n",
    "if d==4:\n",
    "    print(\"*      \")\n",
    "if e==5:\n",
    "    print(\"*      \")  "
   ]
  },
  {
   "cell_type": "code",
   "execution_count": 92,
   "id": "a3555e6c",
   "metadata": {},
   "outputs": [
    {
     "name": "stdout",
     "output_type": "stream",
     "text": [
      "* * * *\n",
      "*     *\n",
      "*  \\  *\n",
      "* * \\ *\n"
     ]
    }
   ],
   "source": [
    "a=1\n",
    "b=2\n",
    "c=3\n",
    "d=4\n",
    "\n",
    "if a==1:\n",
    "    print(\"* * * *\")\n",
    "if b==2:\n",
    "    print(\"*     *\")\n",
    "if c==3:\n",
    "    print(\"*  \\  *\")\n",
    "if d==4:\n",
    "    print(\"* * \\ *\")\n",
    " "
   ]
  },
  {
   "cell_type": "code",
   "execution_count": 110,
   "id": "677f0d9d",
   "metadata": {},
   "outputs": [
    {
     "name": "stdout",
     "output_type": "stream",
     "text": [
      "* * * \n",
      "*    *\n",
      "* * * \n",
      "*   *  \n",
      "*    *\n"
     ]
    }
   ],
   "source": [
    "a=1\n",
    "b=2\n",
    "c=3\n",
    "d=4\n",
    "e=5\n",
    "if a==1:\n",
    "    print(\"* * * \")\n",
    "if b==2: \n",
    "    print(\"*    *\")\n",
    "if c==3:\n",
    "    print(\"* * * \")\n",
    "if d==4:\n",
    "    print(\"*   *  \")\n",
    "if e==5:\n",
    "    print(\"*    *\")  "
   ]
  },
  {
   "cell_type": "code",
   "execution_count": 112,
   "id": "9d3a5031",
   "metadata": {},
   "outputs": [
    {
     "name": "stdout",
     "output_type": "stream",
     "text": [
      "* * * *\n",
      "*     \n",
      "* * * *\n",
      "      *\n",
      "* * * *\n"
     ]
    }
   ],
   "source": [
    "a=1\n",
    "b=2\n",
    "c=3\n",
    "d=4\n",
    "e=5\n",
    "if a==1:\n",
    "    print(\"* * * *\")\n",
    "if b==2:\n",
    "    print(\"*     \")\n",
    "if c==3:\n",
    "    print(\"* * * *\")\n",
    "if d==4:\n",
    "    print(\"      *\")\n",
    "if e==5:\n",
    "    print(\"* * * *\")  "
   ]
  },
  {
   "cell_type": "code",
   "execution_count": 113,
   "id": "f9803e5f",
   "metadata": {},
   "outputs": [
    {
     "name": "stdout",
     "output_type": "stream",
     "text": [
      "* * * * *\n",
      "    *    \n",
      "    *   \n",
      "    *    \n",
      "    *   \n"
     ]
    }
   ],
   "source": [
    "a=1\n",
    "b=2\n",
    "c=3\n",
    "d=4\n",
    "e=5\n",
    "if a==1:\n",
    "    print(\"* * * * *\")\n",
    "if b==2:\n",
    "    print(\"    *    \")\n",
    "if c==3:\n",
    "    print(\"    *   \")\n",
    "if d==4:\n",
    "    print(\"    *    \")\n",
    "if e==5:\n",
    "    print(\"    *   \")   "
   ]
  },
  {
   "cell_type": "code",
   "execution_count": 117,
   "id": "a5a91139",
   "metadata": {},
   "outputs": [
    {
     "name": "stdout",
     "output_type": "stream",
     "text": [
      "*     *\n",
      "*     *\n",
      "*     *\n",
      "*     *\n",
      "*  *  *\n"
     ]
    }
   ],
   "source": [
    "a=1\n",
    "b=2\n",
    "c=3\n",
    "d=4\n",
    "e=5\n",
    "if a==1:\n",
    "    print(\"*     *\")\n",
    "if b==2:\n",
    "    print(\"*     *\")\n",
    "if c==3:\n",
    "    print(\"*     *\")\n",
    "if d==4:\n",
    "    print(\"*     *\")\n",
    "if e==5:\n",
    "    print(\"*  *  *\")  "
   ]
  },
  {
   "cell_type": "code",
   "execution_count": 121,
   "id": "d51eb82d",
   "metadata": {},
   "outputs": [
    {
     "name": "stdout",
     "output_type": "stream",
     "text": [
      "*    *\n",
      "*    *\n",
      "*    *\n",
      " *  *\n",
      "  *  \n"
     ]
    }
   ],
   "source": [
    "a=1\n",
    "b=2\n",
    "c=3\n",
    "d=4\n",
    "e=5\n",
    "if a==1:\n",
    "    print(\"*    *\")\n",
    "if b==2:\n",
    "    print(\"*    *\")\n",
    "if c==3:\n",
    "    print(\"*    *\")\n",
    "if d==4:\n",
    "    print(\" *  *\")\n",
    "if e==5:\n",
    "    print(\"  *  \")  "
   ]
  },
  {
   "cell_type": "code",
   "execution_count": 129,
   "id": "a49a1600",
   "metadata": {},
   "outputs": [
    {
     "name": "stdout",
     "output_type": "stream",
     "text": [
      "*       *\n",
      "*       *\n",
      "*   *   *\n",
      "* *   * *\n",
      "*       *\n"
     ]
    }
   ],
   "source": [
    "a=1\n",
    "b=2\n",
    "c=3\n",
    "d=4\n",
    "e=5\n",
    "if a==1:\n",
    "    print(\"*       *\")\n",
    "if b==2:\n",
    "    print(\"*       *\")\n",
    "if c==3:\n",
    "    print(\"*   *   *\")\n",
    "if d==4:\n",
    "    print(\"* *   * *\")\n",
    "if e==5:\n",
    "    print(\"*       *\")  "
   ]
  },
  {
   "cell_type": "code",
   "execution_count": 146,
   "id": "45a4896e",
   "metadata": {},
   "outputs": [
    {
     "name": "stdout",
     "output_type": "stream",
     "text": [
      "*       *\n",
      "  *   * \n",
      "    *    \n",
      "  *   * \n",
      "*       *\n"
     ]
    }
   ],
   "source": [
    "a=1\n",
    "b=2\n",
    "c=3\n",
    "d=4\n",
    "e=5\n",
    "if a==1:\n",
    "    print(\"*       *\")\n",
    "if b==2:\n",
    "    print(\"  *   * \")\n",
    "if c==3:\n",
    "    print(\"    *    \")\n",
    "if d==4:\n",
    "    print(\"  *   * \")\n",
    "if e==5:\n",
    "    print(\"*       *\")  "
   ]
  },
  {
   "cell_type": "code",
   "execution_count": 144,
   "id": "9801edcd",
   "metadata": {},
   "outputs": [
    {
     "name": "stdout",
     "output_type": "stream",
     "text": [
      "*       *\n",
      "  *   * \n",
      "    *   \n",
      "    * \n",
      "    * \n"
     ]
    }
   ],
   "source": [
    "a=1\n",
    "b=2\n",
    "c=3\n",
    "d=4\n",
    "e=5\n",
    "if a==1:\n",
    "    print(\"*       *\")\n",
    "if b==2:\n",
    "    print(\"  *   * \")\n",
    "if c==3:\n",
    "    print(\"    *   \")\n",
    "if d==4:\n",
    "    print(\"    * \")\n",
    "if e==5:\n",
    "    print(\"    * \")  "
   ]
  },
  {
   "cell_type": "code",
   "execution_count": 152,
   "id": "8ea6224c",
   "metadata": {},
   "outputs": [
    {
     "name": "stdout",
     "output_type": "stream",
     "text": [
      "* * * *\n",
      "    * \n",
      "  *    \n",
      "* * * *   \n"
     ]
    }
   ],
   "source": [
    "a=1\n",
    "b=2\n",
    "c=3\n",
    "d=4\n",
    "\n",
    "if a==1:\n",
    "    print(\"* * * *\")\n",
    "if b==2:\n",
    "    print(\"    * \")\n",
    "if c==3:\n",
    "    print(\"  *    \")\n",
    "if d==4:\n",
    "    print(\"* * * *   \")\n",
    " "
   ]
  },
  {
   "cell_type": "code",
   "execution_count": null,
   "id": "055c3c39",
   "metadata": {},
   "outputs": [],
   "source": []
  }
 ],
 "metadata": {
  "kernelspec": {
   "display_name": "Python 3 (ipykernel)",
   "language": "python",
   "name": "python3"
  },
  "language_info": {
   "codemirror_mode": {
    "name": "ipython",
    "version": 3
   },
   "file_extension": ".py",
   "mimetype": "text/x-python",
   "name": "python",
   "nbconvert_exporter": "python",
   "pygments_lexer": "ipython3",
   "version": "3.10.9"
  }
 },
 "nbformat": 4,
 "nbformat_minor": 5
}
